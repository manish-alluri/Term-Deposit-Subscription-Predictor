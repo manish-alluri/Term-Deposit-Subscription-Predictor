{
 "cells": [
  {
   "cell_type": "markdown",
   "id": "932525f5",
   "metadata": {
    "id": "932525f5"
   },
   "source": [
    "# Customer Subscription Prediction "
   ]
  },
  {
   "cell_type": "markdown",
   "id": "444acd57",
   "metadata": {
    "id": "444acd57"
   },
   "source": [
    "## By Team \"Confused_Trio\"\n",
    "### - Sai Venkata Manoj Vungarala\n",
    "### - Ishal Abhishek Mummidivarapu\n",
    "### - Ramya Kondrakunta"
   ]
  },
  {
   "cell_type": "markdown",
   "id": "0450d4bf",
   "metadata": {
    "id": "0450d4bf"
   },
   "source": [
    "## 1. Data Pre-processing"
   ]
  },
  {
   "cell_type": "code",
   "execution_count": 2,
   "id": "3BZ_0n4LqR8H",
   "metadata": {
    "colab": {
     "base_uri": "https://localhost:8080/"
    },
    "id": "3BZ_0n4LqR8H",
    "outputId": "e34555d8-f263-463b-a42f-25a435a71c12"
   },
   "outputs": [
    {
     "name": "stdout",
     "output_type": "stream",
     "text": [
      "Collecting category_encoders\n",
      "  Downloading category_encoders-2.3.0-py2.py3-none-any.whl (82 kB)\n",
      "\u001b[?25l\r",
      "\u001b[K     |████                            | 10 kB 25.5 MB/s eta 0:00:01\r",
      "\u001b[K     |████████                        | 20 kB 21.4 MB/s eta 0:00:01\r",
      "\u001b[K     |████████████                    | 30 kB 10.9 MB/s eta 0:00:01\r",
      "\u001b[K     |████████████████                | 40 kB 8.9 MB/s eta 0:00:01\r",
      "\u001b[K     |████████████████████            | 51 kB 5.0 MB/s eta 0:00:01\r",
      "\u001b[K     |████████████████████████        | 61 kB 5.5 MB/s eta 0:00:01\r",
      "\u001b[K     |████████████████████████████    | 71 kB 5.9 MB/s eta 0:00:01\r",
      "\u001b[K     |███████████████████████████████▉| 81 kB 6.6 MB/s eta 0:00:01\r",
      "\u001b[K     |████████████████████████████████| 82 kB 377 kB/s \n",
      "\u001b[?25hRequirement already satisfied: statsmodels>=0.9.0 in /usr/local/lib/python3.7/dist-packages (from category_encoders) (0.10.2)\n",
      "Requirement already satisfied: scikit-learn>=0.20.0 in /usr/local/lib/python3.7/dist-packages (from category_encoders) (1.0.1)\n",
      "Requirement already satisfied: pandas>=0.21.1 in /usr/local/lib/python3.7/dist-packages (from category_encoders) (1.1.5)\n",
      "Requirement already satisfied: numpy>=1.14.0 in /usr/local/lib/python3.7/dist-packages (from category_encoders) (1.19.5)\n",
      "Requirement already satisfied: scipy>=1.0.0 in /usr/local/lib/python3.7/dist-packages (from category_encoders) (1.4.1)\n",
      "Requirement already satisfied: patsy>=0.5.1 in /usr/local/lib/python3.7/dist-packages (from category_encoders) (0.5.2)\n",
      "Requirement already satisfied: python-dateutil>=2.7.3 in /usr/local/lib/python3.7/dist-packages (from pandas>=0.21.1->category_encoders) (2.8.2)\n",
      "Requirement already satisfied: pytz>=2017.2 in /usr/local/lib/python3.7/dist-packages (from pandas>=0.21.1->category_encoders) (2018.9)\n",
      "Requirement already satisfied: six in /usr/local/lib/python3.7/dist-packages (from patsy>=0.5.1->category_encoders) (1.15.0)\n",
      "Requirement already satisfied: threadpoolctl>=2.0.0 in /usr/local/lib/python3.7/dist-packages (from scikit-learn>=0.20.0->category_encoders) (3.0.0)\n",
      "Requirement already satisfied: joblib>=0.11 in /usr/local/lib/python3.7/dist-packages (from scikit-learn>=0.20.0->category_encoders) (1.1.0)\n",
      "Installing collected packages: category-encoders\n",
      "Successfully installed category-encoders-2.3.0\n"
     ]
    }
   ],
   "source": [
    "!pip install category_encoders"
   ]
  },
  {
   "cell_type": "code",
   "execution_count": 1,
   "id": "35b1b7e5",
   "metadata": {},
   "outputs": [
    {
     "name": "stdout",
     "output_type": "stream",
     "text": [
      "Requirement already satisfied: imbalanced-learn in /opt/anaconda3/lib/python3.8/site-packages (0.8.1)\n",
      "Requirement already satisfied: scipy>=0.19.1 in /opt/anaconda3/lib/python3.8/site-packages (from imbalanced-learn) (1.6.2)\n",
      "Requirement already satisfied: numpy>=1.13.3 in /opt/anaconda3/lib/python3.8/site-packages (from imbalanced-learn) (1.19.5)\n",
      "Requirement already satisfied: scikit-learn>=0.24 in /opt/anaconda3/lib/python3.8/site-packages (from imbalanced-learn) (0.24.1)\n",
      "Requirement already satisfied: joblib>=0.11 in /opt/anaconda3/lib/python3.8/site-packages (from imbalanced-learn) (1.0.1)\n",
      "Requirement already satisfied: threadpoolctl>=2.0.0 in /opt/anaconda3/lib/python3.8/site-packages (from scikit-learn>=0.24->imbalanced-learn) (2.1.0)\n"
     ]
    }
   ],
   "source": [
    "!pip install imbalanced-learn"
   ]
  },
  {
   "cell_type": "code",
   "execution_count": 3,
   "id": "fa580d85",
   "metadata": {
    "id": "fa580d85"
   },
   "outputs": [],
   "source": [
    "# Importing the required libraries\n",
    "import pandas as pd\n",
    "import numpy as np\n",
    "import seaborn as sns\n",
    "import matplotlib.pyplot as plt\n",
    "import category_encoders as ce\n",
    "import matplotlib.pyplot as plt\n",
    "%matplotlib inline"
   ]
  },
  {
   "cell_type": "code",
   "execution_count": 4,
   "id": "d3f9961a",
   "metadata": {
    "id": "d3f9961a"
   },
   "outputs": [],
   "source": [
    "from sklearn.model_selection import train_test_split, GridSearchCV\n",
    "from sklearn.metrics import roc_curve, auc, confusion_matrix, classification_report,accuracy_score\n",
    "from sklearn.ensemble import RandomForestClassifier\n",
    "from sklearn.metrics import accuracy_score, log_loss\n",
    "from sklearn.neighbors import KNeighborsClassifier\n",
    "from sklearn.svm import SVC, LinearSVC, NuSVC\n",
    "from sklearn.tree import DecisionTreeClassifier\n",
    "from sklearn.ensemble import RandomForestClassifier, AdaBoostClassifier, GradientBoostingClassifier\n",
    "from sklearn.naive_bayes import GaussianNB\n",
    "from sklearn.linear_model import LogisticRegression\n",
    "from sklearn.discriminant_analysis import LinearDiscriminantAnalysis\n",
    "from sklearn.discriminant_analysis import QuadraticDiscriminantAnalysis\n",
    "from sklearn.metrics import accuracy_score, precision_score, f1_score, log_loss\n",
    "from sklearn.metrics import classification_report,confusion_matrix, precision_recall_fscore_support \n",
    "from sklearn.svm import SVC\n",
    "from sklearn.model_selection import train_test_split, GridSearchCV\n",
    "from sklearn import svm\n",
    "from sklearn.metrics import confusion_matrix\n",
    "#from xgboost import XGBClassifier\n",
    "from sklearn.metrics import roc_auc_score\n",
    "from sklearn.metrics import log_loss"
   ]
  },
  {
   "cell_type": "code",
   "execution_count": 5,
   "id": "e1017cc2",
   "metadata": {
    "id": "e1017cc2"
   },
   "outputs": [],
   "source": [
    "# Reading the csv file\n",
    "df = pd.read_csv(\"bank-full.csv\",sep=';')"
   ]
  },
  {
   "cell_type": "code",
   "execution_count": 6,
   "id": "f5b1be9d",
   "metadata": {
    "colab": {
     "base_uri": "https://localhost:8080/",
     "height": 444
    },
    "id": "f5b1be9d",
    "outputId": "dbf1fb26-ffd1-476a-e392-2a51063b4f48"
   },
   "outputs": [
    {
     "data": {
      "text/html": [
       "<div>\n",
       "<style scoped>\n",
       "    .dataframe tbody tr th:only-of-type {\n",
       "        vertical-align: middle;\n",
       "    }\n",
       "\n",
       "    .dataframe tbody tr th {\n",
       "        vertical-align: top;\n",
       "    }\n",
       "\n",
       "    .dataframe thead th {\n",
       "        text-align: right;\n",
       "    }\n",
       "</style>\n",
       "<table border=\"1\" class=\"dataframe\">\n",
       "  <thead>\n",
       "    <tr style=\"text-align: right;\">\n",
       "      <th></th>\n",
       "      <th>age</th>\n",
       "      <th>job</th>\n",
       "      <th>marital</th>\n",
       "      <th>education</th>\n",
       "      <th>default</th>\n",
       "      <th>balance</th>\n",
       "      <th>housing</th>\n",
       "      <th>loan</th>\n",
       "      <th>contact</th>\n",
       "      <th>day</th>\n",
       "      <th>month</th>\n",
       "      <th>duration</th>\n",
       "      <th>campaign</th>\n",
       "      <th>pdays</th>\n",
       "      <th>previous</th>\n",
       "      <th>poutcome</th>\n",
       "      <th>y</th>\n",
       "    </tr>\n",
       "  </thead>\n",
       "  <tbody>\n",
       "    <tr>\n",
       "      <th>0</th>\n",
       "      <td>58</td>\n",
       "      <td>management</td>\n",
       "      <td>married</td>\n",
       "      <td>tertiary</td>\n",
       "      <td>no</td>\n",
       "      <td>2143</td>\n",
       "      <td>yes</td>\n",
       "      <td>no</td>\n",
       "      <td>unknown</td>\n",
       "      <td>5</td>\n",
       "      <td>may</td>\n",
       "      <td>261</td>\n",
       "      <td>1</td>\n",
       "      <td>-1</td>\n",
       "      <td>0</td>\n",
       "      <td>unknown</td>\n",
       "      <td>no</td>\n",
       "    </tr>\n",
       "    <tr>\n",
       "      <th>1</th>\n",
       "      <td>44</td>\n",
       "      <td>technician</td>\n",
       "      <td>single</td>\n",
       "      <td>secondary</td>\n",
       "      <td>no</td>\n",
       "      <td>29</td>\n",
       "      <td>yes</td>\n",
       "      <td>no</td>\n",
       "      <td>unknown</td>\n",
       "      <td>5</td>\n",
       "      <td>may</td>\n",
       "      <td>151</td>\n",
       "      <td>1</td>\n",
       "      <td>-1</td>\n",
       "      <td>0</td>\n",
       "      <td>unknown</td>\n",
       "      <td>no</td>\n",
       "    </tr>\n",
       "    <tr>\n",
       "      <th>2</th>\n",
       "      <td>33</td>\n",
       "      <td>entrepreneur</td>\n",
       "      <td>married</td>\n",
       "      <td>secondary</td>\n",
       "      <td>no</td>\n",
       "      <td>2</td>\n",
       "      <td>yes</td>\n",
       "      <td>yes</td>\n",
       "      <td>unknown</td>\n",
       "      <td>5</td>\n",
       "      <td>may</td>\n",
       "      <td>76</td>\n",
       "      <td>1</td>\n",
       "      <td>-1</td>\n",
       "      <td>0</td>\n",
       "      <td>unknown</td>\n",
       "      <td>no</td>\n",
       "    </tr>\n",
       "    <tr>\n",
       "      <th>3</th>\n",
       "      <td>47</td>\n",
       "      <td>blue-collar</td>\n",
       "      <td>married</td>\n",
       "      <td>unknown</td>\n",
       "      <td>no</td>\n",
       "      <td>1506</td>\n",
       "      <td>yes</td>\n",
       "      <td>no</td>\n",
       "      <td>unknown</td>\n",
       "      <td>5</td>\n",
       "      <td>may</td>\n",
       "      <td>92</td>\n",
       "      <td>1</td>\n",
       "      <td>-1</td>\n",
       "      <td>0</td>\n",
       "      <td>unknown</td>\n",
       "      <td>no</td>\n",
       "    </tr>\n",
       "    <tr>\n",
       "      <th>4</th>\n",
       "      <td>33</td>\n",
       "      <td>unknown</td>\n",
       "      <td>single</td>\n",
       "      <td>unknown</td>\n",
       "      <td>no</td>\n",
       "      <td>1</td>\n",
       "      <td>no</td>\n",
       "      <td>no</td>\n",
       "      <td>unknown</td>\n",
       "      <td>5</td>\n",
       "      <td>may</td>\n",
       "      <td>198</td>\n",
       "      <td>1</td>\n",
       "      <td>-1</td>\n",
       "      <td>0</td>\n",
       "      <td>unknown</td>\n",
       "      <td>no</td>\n",
       "    </tr>\n",
       "    <tr>\n",
       "      <th>...</th>\n",
       "      <td>...</td>\n",
       "      <td>...</td>\n",
       "      <td>...</td>\n",
       "      <td>...</td>\n",
       "      <td>...</td>\n",
       "      <td>...</td>\n",
       "      <td>...</td>\n",
       "      <td>...</td>\n",
       "      <td>...</td>\n",
       "      <td>...</td>\n",
       "      <td>...</td>\n",
       "      <td>...</td>\n",
       "      <td>...</td>\n",
       "      <td>...</td>\n",
       "      <td>...</td>\n",
       "      <td>...</td>\n",
       "      <td>...</td>\n",
       "    </tr>\n",
       "    <tr>\n",
       "      <th>45206</th>\n",
       "      <td>51</td>\n",
       "      <td>technician</td>\n",
       "      <td>married</td>\n",
       "      <td>tertiary</td>\n",
       "      <td>no</td>\n",
       "      <td>825</td>\n",
       "      <td>no</td>\n",
       "      <td>no</td>\n",
       "      <td>cellular</td>\n",
       "      <td>17</td>\n",
       "      <td>nov</td>\n",
       "      <td>977</td>\n",
       "      <td>3</td>\n",
       "      <td>-1</td>\n",
       "      <td>0</td>\n",
       "      <td>unknown</td>\n",
       "      <td>yes</td>\n",
       "    </tr>\n",
       "    <tr>\n",
       "      <th>45207</th>\n",
       "      <td>71</td>\n",
       "      <td>retired</td>\n",
       "      <td>divorced</td>\n",
       "      <td>primary</td>\n",
       "      <td>no</td>\n",
       "      <td>1729</td>\n",
       "      <td>no</td>\n",
       "      <td>no</td>\n",
       "      <td>cellular</td>\n",
       "      <td>17</td>\n",
       "      <td>nov</td>\n",
       "      <td>456</td>\n",
       "      <td>2</td>\n",
       "      <td>-1</td>\n",
       "      <td>0</td>\n",
       "      <td>unknown</td>\n",
       "      <td>yes</td>\n",
       "    </tr>\n",
       "    <tr>\n",
       "      <th>45208</th>\n",
       "      <td>72</td>\n",
       "      <td>retired</td>\n",
       "      <td>married</td>\n",
       "      <td>secondary</td>\n",
       "      <td>no</td>\n",
       "      <td>5715</td>\n",
       "      <td>no</td>\n",
       "      <td>no</td>\n",
       "      <td>cellular</td>\n",
       "      <td>17</td>\n",
       "      <td>nov</td>\n",
       "      <td>1127</td>\n",
       "      <td>5</td>\n",
       "      <td>184</td>\n",
       "      <td>3</td>\n",
       "      <td>success</td>\n",
       "      <td>yes</td>\n",
       "    </tr>\n",
       "    <tr>\n",
       "      <th>45209</th>\n",
       "      <td>57</td>\n",
       "      <td>blue-collar</td>\n",
       "      <td>married</td>\n",
       "      <td>secondary</td>\n",
       "      <td>no</td>\n",
       "      <td>668</td>\n",
       "      <td>no</td>\n",
       "      <td>no</td>\n",
       "      <td>telephone</td>\n",
       "      <td>17</td>\n",
       "      <td>nov</td>\n",
       "      <td>508</td>\n",
       "      <td>4</td>\n",
       "      <td>-1</td>\n",
       "      <td>0</td>\n",
       "      <td>unknown</td>\n",
       "      <td>no</td>\n",
       "    </tr>\n",
       "    <tr>\n",
       "      <th>45210</th>\n",
       "      <td>37</td>\n",
       "      <td>entrepreneur</td>\n",
       "      <td>married</td>\n",
       "      <td>secondary</td>\n",
       "      <td>no</td>\n",
       "      <td>2971</td>\n",
       "      <td>no</td>\n",
       "      <td>no</td>\n",
       "      <td>cellular</td>\n",
       "      <td>17</td>\n",
       "      <td>nov</td>\n",
       "      <td>361</td>\n",
       "      <td>2</td>\n",
       "      <td>188</td>\n",
       "      <td>11</td>\n",
       "      <td>other</td>\n",
       "      <td>no</td>\n",
       "    </tr>\n",
       "  </tbody>\n",
       "</table>\n",
       "<p>45211 rows × 17 columns</p>\n",
       "</div>"
      ],
      "text/plain": [
       "       age           job   marital  education default  balance housing loan  \\\n",
       "0       58    management   married   tertiary      no     2143     yes   no   \n",
       "1       44    technician    single  secondary      no       29     yes   no   \n",
       "2       33  entrepreneur   married  secondary      no        2     yes  yes   \n",
       "3       47   blue-collar   married    unknown      no     1506     yes   no   \n",
       "4       33       unknown    single    unknown      no        1      no   no   \n",
       "...    ...           ...       ...        ...     ...      ...     ...  ...   \n",
       "45206   51    technician   married   tertiary      no      825      no   no   \n",
       "45207   71       retired  divorced    primary      no     1729      no   no   \n",
       "45208   72       retired   married  secondary      no     5715      no   no   \n",
       "45209   57   blue-collar   married  secondary      no      668      no   no   \n",
       "45210   37  entrepreneur   married  secondary      no     2971      no   no   \n",
       "\n",
       "         contact  day month  duration  campaign  pdays  previous poutcome    y  \n",
       "0        unknown    5   may       261         1     -1         0  unknown   no  \n",
       "1        unknown    5   may       151         1     -1         0  unknown   no  \n",
       "2        unknown    5   may        76         1     -1         0  unknown   no  \n",
       "3        unknown    5   may        92         1     -1         0  unknown   no  \n",
       "4        unknown    5   may       198         1     -1         0  unknown   no  \n",
       "...          ...  ...   ...       ...       ...    ...       ...      ...  ...  \n",
       "45206   cellular   17   nov       977         3     -1         0  unknown  yes  \n",
       "45207   cellular   17   nov       456         2     -1         0  unknown  yes  \n",
       "45208   cellular   17   nov      1127         5    184         3  success  yes  \n",
       "45209  telephone   17   nov       508         4     -1         0  unknown   no  \n",
       "45210   cellular   17   nov       361         2    188        11    other   no  \n",
       "\n",
       "[45211 rows x 17 columns]"
      ]
     },
     "execution_count": 6,
     "metadata": {},
     "output_type": "execute_result"
    }
   ],
   "source": [
    "df"
   ]
  },
  {
   "cell_type": "code",
   "execution_count": 7,
   "id": "d0e9f78f",
   "metadata": {
    "colab": {
     "base_uri": "https://localhost:8080/"
    },
    "id": "d0e9f78f",
    "outputId": "8a34af79-a32d-43a2-8628-46d4502279ce"
   },
   "outputs": [
    {
     "data": {
      "text/plain": [
       "age          False\n",
       "job          False\n",
       "marital      False\n",
       "education    False\n",
       "default      False\n",
       "balance      False\n",
       "housing      False\n",
       "loan         False\n",
       "contact      False\n",
       "day          False\n",
       "month        False\n",
       "duration     False\n",
       "campaign     False\n",
       "pdays        False\n",
       "previous     False\n",
       "poutcome     False\n",
       "y            False\n",
       "dtype: bool"
      ]
     },
     "execution_count": 7,
     "metadata": {},
     "output_type": "execute_result"
    }
   ],
   "source": [
    "# Checking for null values\n",
    "df.isnull().any()"
   ]
  },
  {
   "cell_type": "code",
   "execution_count": 8,
   "id": "818e5d16",
   "metadata": {
    "id": "818e5d16"
   },
   "outputs": [],
   "source": [
    "# Replacing yes with 1 and no with 0\n",
    "df.y = df.y.eq('yes').mul(1)\n",
    "df.default = df.default.eq('yes').mul(1)\n",
    "df.housing = df.housing.eq('yes').mul(1)\n",
    "df.loan = df.loan.eq('yes').mul(1)"
   ]
  },
  {
   "cell_type": "code",
   "execution_count": 9,
   "id": "583fada0",
   "metadata": {
    "id": "583fada0"
   },
   "outputs": [],
   "source": [
    "# Deleting the unwanted columns\n",
    "del(df['contact'])\n",
    "del(df['day'])\n",
    "del(df['month'])"
   ]
  },
  {
   "cell_type": "markdown",
   "id": "788073d0",
   "metadata": {
    "id": "788073d0"
   },
   "source": [
    "## 2. Ordinal Encoding"
   ]
  },
  {
   "cell_type": "code",
   "execution_count": 10,
   "id": "c9f0ddd0",
   "metadata": {
    "id": "c9f0ddd0"
   },
   "outputs": [],
   "source": [
    "# Using Ordinal Encoding to convert categorical columns\n",
    "encoder= ce.OrdinalEncoder(cols=['job'],return_df=True,\n",
    "                           mapping=[{'col':'job',\n",
    "'mapping':{'unemployed':0,'unknown':1,'student':2,'housemaid':3,'blue-collar':4,'technician':5,'services':6,\n",
    "           'retired':7,'admin':8,'self-employed':9,'entrepreneur':10,'management':11}}])"
   ]
  },
  {
   "cell_type": "code",
   "execution_count": 11,
   "id": "37f9ee18",
   "metadata": {
    "id": "37f9ee18"
   },
   "outputs": [],
   "source": [
    "df[['job']] = encoder.fit_transform(df[['job']])"
   ]
  },
  {
   "cell_type": "code",
   "execution_count": 12,
   "id": "e5de5e02",
   "metadata": {
    "id": "e5de5e02"
   },
   "outputs": [],
   "source": [
    "# Using Ordinal Encoding to convert categorical columns\n",
    "encoder= ce.OrdinalEncoder(cols=['marital'],return_df=True,\n",
    "                           mapping=[{'col':'marital',\n",
    "'mapping':{'single':0,'divorced':1,'married':2}}])"
   ]
  },
  {
   "cell_type": "code",
   "execution_count": 13,
   "id": "6754c463",
   "metadata": {
    "id": "6754c463"
   },
   "outputs": [],
   "source": [
    "df[['marital']] = encoder.fit_transform(df[['marital']])"
   ]
  },
  {
   "cell_type": "code",
   "execution_count": 14,
   "id": "d673ded4",
   "metadata": {
    "id": "d673ded4"
   },
   "outputs": [],
   "source": [
    "# Using Ordinal Encoding to convert categorical columns\n",
    "encoder= ce.OrdinalEncoder(cols=['education'],return_df=True,\n",
    "                           mapping=[{'col':'education',\n",
    "'mapping':{'unknown':0,'primary':1,'secondary':2,'tertiary':3}}])"
   ]
  },
  {
   "cell_type": "code",
   "execution_count": 15,
   "id": "93d8779a",
   "metadata": {
    "id": "93d8779a"
   },
   "outputs": [],
   "source": [
    "df[['education']] = encoder.fit_transform(df[['education']])"
   ]
  },
  {
   "cell_type": "code",
   "execution_count": 16,
   "id": "be875de3",
   "metadata": {
    "id": "be875de3"
   },
   "outputs": [],
   "source": [
    "# Using Ordinal Encoding to convert categorical columns\n",
    "encoder= ce.OrdinalEncoder(cols=['poutcome'],return_df=True,\n",
    "                           mapping=[{'col':'poutcome',\n",
    "'mapping':{'failure':0,'other':1,'unknown':2,'success':3}}])"
   ]
  },
  {
   "cell_type": "code",
   "execution_count": 17,
   "id": "06cae376",
   "metadata": {
    "id": "06cae376"
   },
   "outputs": [],
   "source": [
    "df[['poutcome']] = encoder.fit_transform(df[['poutcome']])"
   ]
  },
  {
   "cell_type": "code",
   "execution_count": 18,
   "id": "f39f6bc7",
   "metadata": {
    "colab": {
     "base_uri": "https://localhost:8080/",
     "height": 444
    },
    "id": "f39f6bc7",
    "outputId": "e6639792-59f0-4651-d5c7-b277dde9ceaf"
   },
   "outputs": [
    {
     "data": {
      "text/html": [
       "<div>\n",
       "<style scoped>\n",
       "    .dataframe tbody tr th:only-of-type {\n",
       "        vertical-align: middle;\n",
       "    }\n",
       "\n",
       "    .dataframe tbody tr th {\n",
       "        vertical-align: top;\n",
       "    }\n",
       "\n",
       "    .dataframe thead th {\n",
       "        text-align: right;\n",
       "    }\n",
       "</style>\n",
       "<table border=\"1\" class=\"dataframe\">\n",
       "  <thead>\n",
       "    <tr style=\"text-align: right;\">\n",
       "      <th></th>\n",
       "      <th>age</th>\n",
       "      <th>job</th>\n",
       "      <th>marital</th>\n",
       "      <th>education</th>\n",
       "      <th>default</th>\n",
       "      <th>balance</th>\n",
       "      <th>housing</th>\n",
       "      <th>loan</th>\n",
       "      <th>duration</th>\n",
       "      <th>campaign</th>\n",
       "      <th>pdays</th>\n",
       "      <th>previous</th>\n",
       "      <th>poutcome</th>\n",
       "      <th>y</th>\n",
       "    </tr>\n",
       "  </thead>\n",
       "  <tbody>\n",
       "    <tr>\n",
       "      <th>0</th>\n",
       "      <td>58</td>\n",
       "      <td>11.0</td>\n",
       "      <td>2</td>\n",
       "      <td>3</td>\n",
       "      <td>0</td>\n",
       "      <td>2143</td>\n",
       "      <td>1</td>\n",
       "      <td>0</td>\n",
       "      <td>261</td>\n",
       "      <td>1</td>\n",
       "      <td>-1</td>\n",
       "      <td>0</td>\n",
       "      <td>2</td>\n",
       "      <td>0</td>\n",
       "    </tr>\n",
       "    <tr>\n",
       "      <th>1</th>\n",
       "      <td>44</td>\n",
       "      <td>5.0</td>\n",
       "      <td>0</td>\n",
       "      <td>2</td>\n",
       "      <td>0</td>\n",
       "      <td>29</td>\n",
       "      <td>1</td>\n",
       "      <td>0</td>\n",
       "      <td>151</td>\n",
       "      <td>1</td>\n",
       "      <td>-1</td>\n",
       "      <td>0</td>\n",
       "      <td>2</td>\n",
       "      <td>0</td>\n",
       "    </tr>\n",
       "    <tr>\n",
       "      <th>2</th>\n",
       "      <td>33</td>\n",
       "      <td>10.0</td>\n",
       "      <td>2</td>\n",
       "      <td>2</td>\n",
       "      <td>0</td>\n",
       "      <td>2</td>\n",
       "      <td>1</td>\n",
       "      <td>1</td>\n",
       "      <td>76</td>\n",
       "      <td>1</td>\n",
       "      <td>-1</td>\n",
       "      <td>0</td>\n",
       "      <td>2</td>\n",
       "      <td>0</td>\n",
       "    </tr>\n",
       "    <tr>\n",
       "      <th>3</th>\n",
       "      <td>47</td>\n",
       "      <td>4.0</td>\n",
       "      <td>2</td>\n",
       "      <td>0</td>\n",
       "      <td>0</td>\n",
       "      <td>1506</td>\n",
       "      <td>1</td>\n",
       "      <td>0</td>\n",
       "      <td>92</td>\n",
       "      <td>1</td>\n",
       "      <td>-1</td>\n",
       "      <td>0</td>\n",
       "      <td>2</td>\n",
       "      <td>0</td>\n",
       "    </tr>\n",
       "    <tr>\n",
       "      <th>4</th>\n",
       "      <td>33</td>\n",
       "      <td>1.0</td>\n",
       "      <td>0</td>\n",
       "      <td>0</td>\n",
       "      <td>0</td>\n",
       "      <td>1</td>\n",
       "      <td>0</td>\n",
       "      <td>0</td>\n",
       "      <td>198</td>\n",
       "      <td>1</td>\n",
       "      <td>-1</td>\n",
       "      <td>0</td>\n",
       "      <td>2</td>\n",
       "      <td>0</td>\n",
       "    </tr>\n",
       "    <tr>\n",
       "      <th>...</th>\n",
       "      <td>...</td>\n",
       "      <td>...</td>\n",
       "      <td>...</td>\n",
       "      <td>...</td>\n",
       "      <td>...</td>\n",
       "      <td>...</td>\n",
       "      <td>...</td>\n",
       "      <td>...</td>\n",
       "      <td>...</td>\n",
       "      <td>...</td>\n",
       "      <td>...</td>\n",
       "      <td>...</td>\n",
       "      <td>...</td>\n",
       "      <td>...</td>\n",
       "    </tr>\n",
       "    <tr>\n",
       "      <th>45206</th>\n",
       "      <td>51</td>\n",
       "      <td>5.0</td>\n",
       "      <td>2</td>\n",
       "      <td>3</td>\n",
       "      <td>0</td>\n",
       "      <td>825</td>\n",
       "      <td>0</td>\n",
       "      <td>0</td>\n",
       "      <td>977</td>\n",
       "      <td>3</td>\n",
       "      <td>-1</td>\n",
       "      <td>0</td>\n",
       "      <td>2</td>\n",
       "      <td>1</td>\n",
       "    </tr>\n",
       "    <tr>\n",
       "      <th>45207</th>\n",
       "      <td>71</td>\n",
       "      <td>7.0</td>\n",
       "      <td>1</td>\n",
       "      <td>1</td>\n",
       "      <td>0</td>\n",
       "      <td>1729</td>\n",
       "      <td>0</td>\n",
       "      <td>0</td>\n",
       "      <td>456</td>\n",
       "      <td>2</td>\n",
       "      <td>-1</td>\n",
       "      <td>0</td>\n",
       "      <td>2</td>\n",
       "      <td>1</td>\n",
       "    </tr>\n",
       "    <tr>\n",
       "      <th>45208</th>\n",
       "      <td>72</td>\n",
       "      <td>7.0</td>\n",
       "      <td>2</td>\n",
       "      <td>2</td>\n",
       "      <td>0</td>\n",
       "      <td>5715</td>\n",
       "      <td>0</td>\n",
       "      <td>0</td>\n",
       "      <td>1127</td>\n",
       "      <td>5</td>\n",
       "      <td>184</td>\n",
       "      <td>3</td>\n",
       "      <td>3</td>\n",
       "      <td>1</td>\n",
       "    </tr>\n",
       "    <tr>\n",
       "      <th>45209</th>\n",
       "      <td>57</td>\n",
       "      <td>4.0</td>\n",
       "      <td>2</td>\n",
       "      <td>2</td>\n",
       "      <td>0</td>\n",
       "      <td>668</td>\n",
       "      <td>0</td>\n",
       "      <td>0</td>\n",
       "      <td>508</td>\n",
       "      <td>4</td>\n",
       "      <td>-1</td>\n",
       "      <td>0</td>\n",
       "      <td>2</td>\n",
       "      <td>0</td>\n",
       "    </tr>\n",
       "    <tr>\n",
       "      <th>45210</th>\n",
       "      <td>37</td>\n",
       "      <td>10.0</td>\n",
       "      <td>2</td>\n",
       "      <td>2</td>\n",
       "      <td>0</td>\n",
       "      <td>2971</td>\n",
       "      <td>0</td>\n",
       "      <td>0</td>\n",
       "      <td>361</td>\n",
       "      <td>2</td>\n",
       "      <td>188</td>\n",
       "      <td>11</td>\n",
       "      <td>1</td>\n",
       "      <td>0</td>\n",
       "    </tr>\n",
       "  </tbody>\n",
       "</table>\n",
       "<p>45211 rows × 14 columns</p>\n",
       "</div>"
      ],
      "text/plain": [
       "       age   job  marital  education  default  balance  housing  loan  \\\n",
       "0       58  11.0        2          3        0     2143        1     0   \n",
       "1       44   5.0        0          2        0       29        1     0   \n",
       "2       33  10.0        2          2        0        2        1     1   \n",
       "3       47   4.0        2          0        0     1506        1     0   \n",
       "4       33   1.0        0          0        0        1        0     0   \n",
       "...    ...   ...      ...        ...      ...      ...      ...   ...   \n",
       "45206   51   5.0        2          3        0      825        0     0   \n",
       "45207   71   7.0        1          1        0     1729        0     0   \n",
       "45208   72   7.0        2          2        0     5715        0     0   \n",
       "45209   57   4.0        2          2        0      668        0     0   \n",
       "45210   37  10.0        2          2        0     2971        0     0   \n",
       "\n",
       "       duration  campaign  pdays  previous  poutcome  y  \n",
       "0           261         1     -1         0         2  0  \n",
       "1           151         1     -1         0         2  0  \n",
       "2            76         1     -1         0         2  0  \n",
       "3            92         1     -1         0         2  0  \n",
       "4           198         1     -1         0         2  0  \n",
       "...         ...       ...    ...       ...       ... ..  \n",
       "45206       977         3     -1         0         2  1  \n",
       "45207       456         2     -1         0         2  1  \n",
       "45208      1127         5    184         3         3  1  \n",
       "45209       508         4     -1         0         2  0  \n",
       "45210       361         2    188        11         1  0  \n",
       "\n",
       "[45211 rows x 14 columns]"
      ]
     },
     "execution_count": 18,
     "metadata": {},
     "output_type": "execute_result"
    }
   ],
   "source": [
    "df"
   ]
  },
  {
   "cell_type": "markdown",
   "id": "0651c0a8",
   "metadata": {
    "id": "0651c0a8"
   },
   "source": [
    "## 3. Correlation and Heat Map"
   ]
  },
  {
   "cell_type": "code",
   "execution_count": 19,
   "id": "413c3ca6",
   "metadata": {
    "colab": {
     "base_uri": "https://localhost:8080/",
     "height": 634
    },
    "id": "413c3ca6",
    "outputId": "7da3993d-51e9-4c20-94b0-7e24ac2fb3c8",
    "scrolled": false
   },
   "outputs": [
    {
     "data": {
      "text/html": [
       "<div>\n",
       "<style scoped>\n",
       "    .dataframe tbody tr th:only-of-type {\n",
       "        vertical-align: middle;\n",
       "    }\n",
       "\n",
       "    .dataframe tbody tr th {\n",
       "        vertical-align: top;\n",
       "    }\n",
       "\n",
       "    .dataframe thead th {\n",
       "        text-align: right;\n",
       "    }\n",
       "</style>\n",
       "<table border=\"1\" class=\"dataframe\">\n",
       "  <thead>\n",
       "    <tr style=\"text-align: right;\">\n",
       "      <th></th>\n",
       "      <th>age</th>\n",
       "      <th>job</th>\n",
       "      <th>marital</th>\n",
       "      <th>education</th>\n",
       "      <th>default</th>\n",
       "      <th>balance</th>\n",
       "      <th>housing</th>\n",
       "      <th>loan</th>\n",
       "      <th>duration</th>\n",
       "      <th>campaign</th>\n",
       "      <th>pdays</th>\n",
       "      <th>previous</th>\n",
       "      <th>poutcome</th>\n",
       "      <th>y</th>\n",
       "    </tr>\n",
       "  </thead>\n",
       "  <tbody>\n",
       "    <tr>\n",
       "      <th>age</th>\n",
       "      <td>1.000000</td>\n",
       "      <td>0.078259</td>\n",
       "      <td>0.376104</td>\n",
       "      <td>-0.173615</td>\n",
       "      <td>-0.017879</td>\n",
       "      <td>0.097783</td>\n",
       "      <td>-0.185513</td>\n",
       "      <td>-0.015655</td>\n",
       "      <td>-0.004648</td>\n",
       "      <td>0.004760</td>\n",
       "      <td>-0.023758</td>\n",
       "      <td>0.001288</td>\n",
       "      <td>0.020678</td>\n",
       "      <td>0.025155</td>\n",
       "    </tr>\n",
       "    <tr>\n",
       "      <th>job</th>\n",
       "      <td>0.078259</td>\n",
       "      <td>1.000000</td>\n",
       "      <td>0.035643</td>\n",
       "      <td>0.376480</td>\n",
       "      <td>0.008913</td>\n",
       "      <td>0.067506</td>\n",
       "      <td>-0.063879</td>\n",
       "      <td>-0.015011</td>\n",
       "      <td>0.003221</td>\n",
       "      <td>0.023540</td>\n",
       "      <td>-0.023232</td>\n",
       "      <td>0.006032</td>\n",
       "      <td>0.007397</td>\n",
       "      <td>0.016835</td>\n",
       "    </tr>\n",
       "    <tr>\n",
       "      <th>marital</th>\n",
       "      <td>0.376104</td>\n",
       "      <td>0.035643</td>\n",
       "      <td>1.000000</td>\n",
       "      <td>-0.137510</td>\n",
       "      <td>-0.009584</td>\n",
       "      <td>0.020602</td>\n",
       "      <td>0.020202</td>\n",
       "      <td>0.046738</td>\n",
       "      <td>-0.022895</td>\n",
       "      <td>0.029121</td>\n",
       "      <td>-0.029490</td>\n",
       "      <td>-0.015676</td>\n",
       "      <td>0.007471</td>\n",
       "      <td>-0.065668</td>\n",
       "    </tr>\n",
       "    <tr>\n",
       "      <th>education</th>\n",
       "      <td>-0.173615</td>\n",
       "      <td>0.376480</td>\n",
       "      <td>-0.137510</td>\n",
       "      <td>1.000000</td>\n",
       "      <td>-0.009035</td>\n",
       "      <td>0.050572</td>\n",
       "      <td>-0.038689</td>\n",
       "      <td>0.004307</td>\n",
       "      <td>0.002554</td>\n",
       "      <td>0.000194</td>\n",
       "      <td>0.007092</td>\n",
       "      <td>0.025295</td>\n",
       "      <td>-0.009235</td>\n",
       "      <td>0.051341</td>\n",
       "    </tr>\n",
       "    <tr>\n",
       "      <th>default</th>\n",
       "      <td>-0.017879</td>\n",
       "      <td>0.008913</td>\n",
       "      <td>-0.009584</td>\n",
       "      <td>-0.009035</td>\n",
       "      <td>1.000000</td>\n",
       "      <td>-0.066745</td>\n",
       "      <td>-0.006025</td>\n",
       "      <td>0.077234</td>\n",
       "      <td>-0.010021</td>\n",
       "      <td>0.016822</td>\n",
       "      <td>-0.029979</td>\n",
       "      <td>-0.018329</td>\n",
       "      <td>0.022274</td>\n",
       "      <td>-0.022419</td>\n",
       "    </tr>\n",
       "    <tr>\n",
       "      <th>balance</th>\n",
       "      <td>0.097783</td>\n",
       "      <td>0.067506</td>\n",
       "      <td>0.020602</td>\n",
       "      <td>0.050572</td>\n",
       "      <td>-0.066745</td>\n",
       "      <td>1.000000</td>\n",
       "      <td>-0.068768</td>\n",
       "      <td>-0.084350</td>\n",
       "      <td>0.021560</td>\n",
       "      <td>-0.014578</td>\n",
       "      <td>0.003435</td>\n",
       "      <td>0.016674</td>\n",
       "      <td>-0.004008</td>\n",
       "      <td>0.052838</td>\n",
       "    </tr>\n",
       "    <tr>\n",
       "      <th>housing</th>\n",
       "      <td>-0.185513</td>\n",
       "      <td>-0.063879</td>\n",
       "      <td>0.020202</td>\n",
       "      <td>-0.038689</td>\n",
       "      <td>-0.006025</td>\n",
       "      <td>-0.068768</td>\n",
       "      <td>1.000000</td>\n",
       "      <td>0.041323</td>\n",
       "      <td>0.005075</td>\n",
       "      <td>-0.023599</td>\n",
       "      <td>0.124178</td>\n",
       "      <td>0.037076</td>\n",
       "      <td>-0.134047</td>\n",
       "      <td>-0.139173</td>\n",
       "    </tr>\n",
       "    <tr>\n",
       "      <th>loan</th>\n",
       "      <td>-0.015655</td>\n",
       "      <td>-0.015011</td>\n",
       "      <td>0.046738</td>\n",
       "      <td>0.004307</td>\n",
       "      <td>0.077234</td>\n",
       "      <td>-0.084350</td>\n",
       "      <td>0.041323</td>\n",
       "      <td>1.000000</td>\n",
       "      <td>-0.012412</td>\n",
       "      <td>0.009980</td>\n",
       "      <td>-0.022754</td>\n",
       "      <td>-0.011043</td>\n",
       "      <td>-0.009605</td>\n",
       "      <td>-0.068185</td>\n",
       "    </tr>\n",
       "    <tr>\n",
       "      <th>duration</th>\n",
       "      <td>-0.004648</td>\n",
       "      <td>0.003221</td>\n",
       "      <td>-0.022895</td>\n",
       "      <td>0.002554</td>\n",
       "      <td>-0.010021</td>\n",
       "      <td>0.021560</td>\n",
       "      <td>0.005075</td>\n",
       "      <td>-0.012412</td>\n",
       "      <td>1.000000</td>\n",
       "      <td>-0.084570</td>\n",
       "      <td>-0.001565</td>\n",
       "      <td>0.001203</td>\n",
       "      <td>0.029232</td>\n",
       "      <td>0.394521</td>\n",
       "    </tr>\n",
       "    <tr>\n",
       "      <th>campaign</th>\n",
       "      <td>0.004760</td>\n",
       "      <td>0.023540</td>\n",
       "      <td>0.029121</td>\n",
       "      <td>0.000194</td>\n",
       "      <td>0.016822</td>\n",
       "      <td>-0.014578</td>\n",
       "      <td>-0.023599</td>\n",
       "      <td>0.009980</td>\n",
       "      <td>-0.084570</td>\n",
       "      <td>1.000000</td>\n",
       "      <td>-0.088628</td>\n",
       "      <td>-0.032855</td>\n",
       "      <td>0.071612</td>\n",
       "      <td>-0.073172</td>\n",
       "    </tr>\n",
       "    <tr>\n",
       "      <th>pdays</th>\n",
       "      <td>-0.023758</td>\n",
       "      <td>-0.023232</td>\n",
       "      <td>-0.029490</td>\n",
       "      <td>0.007092</td>\n",
       "      <td>-0.029979</td>\n",
       "      <td>0.003435</td>\n",
       "      <td>0.124178</td>\n",
       "      <td>-0.022754</td>\n",
       "      <td>-0.001565</td>\n",
       "      <td>-0.088628</td>\n",
       "      <td>1.000000</td>\n",
       "      <td>0.454820</td>\n",
       "      <td>-0.697576</td>\n",
       "      <td>0.103621</td>\n",
       "    </tr>\n",
       "    <tr>\n",
       "      <th>previous</th>\n",
       "      <td>0.001288</td>\n",
       "      <td>0.006032</td>\n",
       "      <td>-0.015676</td>\n",
       "      <td>0.025295</td>\n",
       "      <td>-0.018329</td>\n",
       "      <td>0.016674</td>\n",
       "      <td>0.037076</td>\n",
       "      <td>-0.011043</td>\n",
       "      <td>0.001203</td>\n",
       "      <td>-0.032855</td>\n",
       "      <td>0.454820</td>\n",
       "      <td>1.000000</td>\n",
       "      <td>-0.358357</td>\n",
       "      <td>0.093236</td>\n",
       "    </tr>\n",
       "    <tr>\n",
       "      <th>poutcome</th>\n",
       "      <td>0.020678</td>\n",
       "      <td>0.007397</td>\n",
       "      <td>0.007471</td>\n",
       "      <td>-0.009235</td>\n",
       "      <td>0.022274</td>\n",
       "      <td>-0.004008</td>\n",
       "      <td>-0.134047</td>\n",
       "      <td>-0.009605</td>\n",
       "      <td>0.029232</td>\n",
       "      <td>0.071612</td>\n",
       "      <td>-0.697576</td>\n",
       "      <td>-0.358357</td>\n",
       "      <td>1.000000</td>\n",
       "      <td>0.063098</td>\n",
       "    </tr>\n",
       "    <tr>\n",
       "      <th>y</th>\n",
       "      <td>0.025155</td>\n",
       "      <td>0.016835</td>\n",
       "      <td>-0.065668</td>\n",
       "      <td>0.051341</td>\n",
       "      <td>-0.022419</td>\n",
       "      <td>0.052838</td>\n",
       "      <td>-0.139173</td>\n",
       "      <td>-0.068185</td>\n",
       "      <td>0.394521</td>\n",
       "      <td>-0.073172</td>\n",
       "      <td>0.103621</td>\n",
       "      <td>0.093236</td>\n",
       "      <td>0.063098</td>\n",
       "      <td>1.000000</td>\n",
       "    </tr>\n",
       "  </tbody>\n",
       "</table>\n",
       "</div>"
      ],
      "text/plain": [
       "                age       job   marital  education   default   balance  \\\n",
       "age        1.000000  0.078259  0.376104  -0.173615 -0.017879  0.097783   \n",
       "job        0.078259  1.000000  0.035643   0.376480  0.008913  0.067506   \n",
       "marital    0.376104  0.035643  1.000000  -0.137510 -0.009584  0.020602   \n",
       "education -0.173615  0.376480 -0.137510   1.000000 -0.009035  0.050572   \n",
       "default   -0.017879  0.008913 -0.009584  -0.009035  1.000000 -0.066745   \n",
       "balance    0.097783  0.067506  0.020602   0.050572 -0.066745  1.000000   \n",
       "housing   -0.185513 -0.063879  0.020202  -0.038689 -0.006025 -0.068768   \n",
       "loan      -0.015655 -0.015011  0.046738   0.004307  0.077234 -0.084350   \n",
       "duration  -0.004648  0.003221 -0.022895   0.002554 -0.010021  0.021560   \n",
       "campaign   0.004760  0.023540  0.029121   0.000194  0.016822 -0.014578   \n",
       "pdays     -0.023758 -0.023232 -0.029490   0.007092 -0.029979  0.003435   \n",
       "previous   0.001288  0.006032 -0.015676   0.025295 -0.018329  0.016674   \n",
       "poutcome   0.020678  0.007397  0.007471  -0.009235  0.022274 -0.004008   \n",
       "y          0.025155  0.016835 -0.065668   0.051341 -0.022419  0.052838   \n",
       "\n",
       "            housing      loan  duration  campaign     pdays  previous  \\\n",
       "age       -0.185513 -0.015655 -0.004648  0.004760 -0.023758  0.001288   \n",
       "job       -0.063879 -0.015011  0.003221  0.023540 -0.023232  0.006032   \n",
       "marital    0.020202  0.046738 -0.022895  0.029121 -0.029490 -0.015676   \n",
       "education -0.038689  0.004307  0.002554  0.000194  0.007092  0.025295   \n",
       "default   -0.006025  0.077234 -0.010021  0.016822 -0.029979 -0.018329   \n",
       "balance   -0.068768 -0.084350  0.021560 -0.014578  0.003435  0.016674   \n",
       "housing    1.000000  0.041323  0.005075 -0.023599  0.124178  0.037076   \n",
       "loan       0.041323  1.000000 -0.012412  0.009980 -0.022754 -0.011043   \n",
       "duration   0.005075 -0.012412  1.000000 -0.084570 -0.001565  0.001203   \n",
       "campaign  -0.023599  0.009980 -0.084570  1.000000 -0.088628 -0.032855   \n",
       "pdays      0.124178 -0.022754 -0.001565 -0.088628  1.000000  0.454820   \n",
       "previous   0.037076 -0.011043  0.001203 -0.032855  0.454820  1.000000   \n",
       "poutcome  -0.134047 -0.009605  0.029232  0.071612 -0.697576 -0.358357   \n",
       "y         -0.139173 -0.068185  0.394521 -0.073172  0.103621  0.093236   \n",
       "\n",
       "           poutcome         y  \n",
       "age        0.020678  0.025155  \n",
       "job        0.007397  0.016835  \n",
       "marital    0.007471 -0.065668  \n",
       "education -0.009235  0.051341  \n",
       "default    0.022274 -0.022419  \n",
       "balance   -0.004008  0.052838  \n",
       "housing   -0.134047 -0.139173  \n",
       "loan      -0.009605 -0.068185  \n",
       "duration   0.029232  0.394521  \n",
       "campaign   0.071612 -0.073172  \n",
       "pdays     -0.697576  0.103621  \n",
       "previous  -0.358357  0.093236  \n",
       "poutcome   1.000000  0.063098  \n",
       "y          0.063098  1.000000  "
      ]
     },
     "execution_count": 19,
     "metadata": {},
     "output_type": "execute_result"
    }
   ],
   "source": [
    "# Finding the correlation\n",
    "df.corr()"
   ]
  },
  {
   "cell_type": "code",
   "execution_count": 20,
   "id": "88ae6cdd",
   "metadata": {
    "colab": {
     "base_uri": "https://localhost:8080/",
     "height": 346
    },
    "id": "88ae6cdd",
    "outputId": "c33a3e13-5a8c-406c-fdd7-9c507c437730"
   },
   "outputs": [
    {
     "data": {
      "text/plain": [
       "<AxesSubplot:>"
      ]
     },
     "execution_count": 20,
     "metadata": {},
     "output_type": "execute_result"
    },
    {
     "data": {
      "image/png": "[encoded data removed]",
      "text/plain": [
       "<Figure size 432x288 with 2 Axes>"
      ]
     },
     "metadata": {
      "needs_background": "light"
     },
     "output_type": "display_data"
    }
   ],
   "source": [
    "# Displaying the Heat Map\n",
    "sns.heatmap(df.corr())"
   ]
  },
  {
   "cell_type": "markdown",
   "id": "0f7049a1",
   "metadata": {
    "id": "0f7049a1"
   },
   "source": [
    "## 4. Training and Testing the Data"
   ]
  },
  {
   "cell_type": "code",
   "execution_count": 21,
   "id": "458d76af",
   "metadata": {
    "id": "458d76af"
   },
   "outputs": [],
   "source": [
    "# training the dataset\n",
    "X = df.drop(\"y\", axis=1)\n",
    "y = df[\"y\"]\n",
    "X_train, X_test, y_train, y_test = train_test_split(X, y, test_size=0.2, random_state=42)"
   ]
  },
  {
   "cell_type": "code",
   "execution_count": 22,
   "id": "799ed644",
   "metadata": {
    "colab": {
     "base_uri": "https://localhost:8080/"
    },
    "id": "799ed644",
    "outputId": "1a1b159d-f2c5-4cfc-cd3f-e91723460763"
   },
   "outputs": [
    {
     "name": "stdout",
     "output_type": "stream",
     "text": [
      "==============================\n",
      "DecisionTreeClassifier\n",
      "****Results****\n",
      "Accuracy: 100.0000%\n",
      "precision_score: \n",
      " 1.0\n",
      "f1_score: \n",
      " 1.0\n",
      "confusion_matrix: \n",
      " [[31970     0]\n",
      " [    0  4198]]\n",
      "log_loss: \n",
      " 9.992007221626413e-16\n",
      "==============================\n",
      "RandomForestClassifier\n",
      "****Results****\n",
      "Accuracy: 99.9945%\n",
      "precision_score: \n",
      " 1.0\n",
      "f1_score: \n",
      " 0.9997617345723135\n",
      "confusion_matrix: \n",
      " [[31970     0]\n",
      " [    2  4196]]\n",
      "log_loss: \n",
      " 0.0019099080067976524\n",
      "==============================\n",
      "GradientBoostingClassifier\n",
      "****Results****\n",
      "Accuracy: 90.8344%\n",
      "precision_score: \n",
      " 0.6769539078156313\n",
      "f1_score: \n",
      " 0.5047064096817571\n",
      "confusion_matrix: \n",
      " [[31164   806]\n",
      " [ 2509  1689]]\n",
      "log_loss: \n",
      " 3.1656903402084073\n"
     ]
    },
    {
     "name": "stderr",
     "output_type": "stream",
     "text": [
      "/opt/anaconda3/lib/python3.8/site-packages/sklearn/linear_model/_logistic.py:763: ConvergenceWarning: lbfgs failed to converge (status=1):\n",
      "STOP: TOTAL NO. of ITERATIONS REACHED LIMIT.\n",
      "\n",
      "Increase the number of iterations (max_iter) or scale the data as shown in:\n",
      "    https://scikit-learn.org/stable/modules/preprocessing.html\n",
      "Please also refer to the documentation for alternative solver options:\n",
      "    https://scikit-learn.org/stable/modules/linear_model.html#logistic-regression\n",
      "  n_iter_i = _check_optimize_result(\n"
     ]
    },
    {
     "name": "stdout",
     "output_type": "stream",
     "text": [
      "==============================\n",
      "LogisticRegression\n",
      "****Results****\n",
      "Accuracy: 88.8963%\n",
      "precision_score: \n",
      " 0.5675074183976261\n",
      "f1_score: \n",
      " 0.27587450414713305\n",
      "confusion_matrix: \n",
      " [[31387   583]\n",
      " [ 3433   765]]\n",
      "log_loss: \n",
      " 3.835108166535697\n",
      "==============================\n",
      "GaussianNB\n",
      "****Results****\n",
      "Accuracy: 85.7222%\n",
      "precision_score: \n",
      " 0.39242761692650335\n",
      "f1_score: \n",
      " 0.4056169429097606\n",
      "confusion_matrix: \n",
      " [[29242  2728]\n",
      " [ 2436  1762]]\n",
      "log_loss: \n",
      " 4.931442783817418\n",
      "==============================\n",
      "SVC\n",
      "****Results****\n",
      "Accuracy: 88.4152%\n",
      "precision_score: \n",
      " 0.5689655172413793\n",
      "f1_score: \n",
      " 0.015507518796992484\n",
      "confusion_matrix: \n",
      " [[31945    25]\n",
      " [ 4165    33]]\n",
      "log_loss: \n",
      " 4.001257826935732\n",
      "==============================\n"
     ]
    }
   ],
   "source": [
    "# Implimenting different models\n",
    "classifiers = [\n",
    "    DecisionTreeClassifier(),\n",
    "    RandomForestClassifier(),\n",
    "    GradientBoostingClassifier(),\n",
    "    LogisticRegression(),\n",
    "    GaussianNB(),\n",
    "    SVC()]\n",
    "\n",
    "# Logging for Visual Comparison\n",
    "log_cols=[\"Classifier\", \"Accuracy\", 'Log Loss']\n",
    "log = pd.DataFrame(columns=log_cols)\n",
    "\n",
    "for clf in classifiers:\n",
    "    clf.fit(X_train, y_train)\n",
    "    name = clf.__class__.__name__\n",
    "    \n",
    "    print(\"=\"*30)\n",
    "    print(name)\n",
    "    try:\n",
    "        print('****Results****')\n",
    "        train_predictions = clf.predict(X_train)\n",
    "        acc = accuracy_score(y_train, train_predictions)\n",
    "        print(\"Accuracy: {:.4%}\".format(acc))\n",
    "        print(\"precision_score: \\n\",precision_score(y_train, train_predictions))\n",
    "        print(\"f1_score: \\n\",f1_score(y_train, train_predictions))\n",
    "        print(\"confusion_matrix: \\n\",confusion_matrix(y_train, train_predictions))\n",
    "        print(\"log_loss: \\n\",log_loss(y_train, train_predictions))\n",
    "        log_entry = pd.DataFrame([[name, acc*100, log_loss(y_train, train_predictions)]], columns=log_cols)\n",
    "        log = log.append(log_entry)\n",
    "    except Exception as e:\n",
    "        print (e)\n",
    "    \n",
    "print(\"=\"*30)"
   ]
  },
  {
   "cell_type": "code",
   "execution_count": 23,
   "id": "8490f6e7",
   "metadata": {
    "colab": {
     "base_uri": "https://localhost:8080/",
     "height": 573
    },
    "id": "8490f6e7",
    "outputId": "9db4f62b-ca1c-4c82-f61e-ec37d480a462"
   },
   "outputs": [
    {
     "data": {
      "image/png": "[encoded data removed]",
      "text/plain": [
       "<Figure size 432x288 with 1 Axes>"
      ]
     },
     "metadata": {
      "needs_background": "light"
     },
     "output_type": "display_data"
    },
    {
     "data": {
      "image/png": "[encoded data removed]",
      "text/plain": [
       "<Figure size 432x288 with 1 Axes>"
      ]
     },
     "metadata": {
      "needs_background": "light"
     },
     "output_type": "display_data"
    }
   ],
   "source": [
    "# Comparison between Classifier Accuracy and Accuracy Percentage \n",
    "sns.set_color_codes(\"muted\")\n",
    "sns.barplot(x='Accuracy', y='Classifier', data=log, color=\"b\")\n",
    "\n",
    "plt.xlabel('Accuracy %')\n",
    "plt.title('Classifier Accuracy')\n",
    "plt.show()\n",
    "\n",
    "sns.set_color_codes(\"muted\")\n",
    "sns.barplot(x='Log Loss', y='Classifier', data=log, color=\"g\")\n",
    "\n",
    "plt.xlabel('Log Loss')\n",
    "plt.title('Classifier Log Loss')\n",
    "plt.show()"
   ]
  },
  {
   "cell_type": "code",
   "execution_count": 24,
   "id": "6e342556",
   "metadata": {},
   "outputs": [
    {
     "name": "stdout",
     "output_type": "stream",
     "text": [
      "==============================\n",
      "DecisionTreeClassifier\n",
      "****Results****\n",
      "Accuracy: 85.0382%\n",
      "precision_score: \n",
      " 0.3910149750415973\n",
      "f1_score: \n",
      " 0.4099433057130397\n",
      "confusion_matrix: \n",
      " [[7220  732]\n",
      " [ 621  470]]\n",
      "log_loss: \n",
      " 5.16770427597402\n",
      "==============================\n",
      "RandomForestClassifier\n",
      "****Results****\n",
      "Accuracy: 89.6495%\n",
      "precision_score: \n",
      " 0.6148148148148148\n",
      "f1_score: \n",
      " 0.46998867497168745\n",
      "confusion_matrix: \n",
      " [[7692  260]\n",
      " [ 676  415]]\n",
      "log_loss: \n",
      " 3.5749754064987567\n",
      "==============================\n",
      "GradientBoostingClassifier\n",
      "****Results****\n",
      "Accuracy: 89.7047%\n",
      "precision_score: \n",
      " 0.621580547112462\n",
      "f1_score: \n",
      " 0.46769582618639227\n",
      "confusion_matrix: \n",
      " [[7703  249]\n",
      " [ 682  409]]\n",
      "log_loss: \n",
      " 3.5558774658212946\n",
      "==============================\n",
      "LogisticRegression\n",
      "****Results****\n",
      "Accuracy: 88.5768%\n",
      "precision_score: \n",
      " 0.5814606741573034\n",
      "f1_score: \n",
      " 0.286109191430546\n"
     ]
    },
    {
     "name": "stderr",
     "output_type": "stream",
     "text": [
      "/opt/anaconda3/lib/python3.8/site-packages/sklearn/linear_model/_logistic.py:763: ConvergenceWarning: lbfgs failed to converge (status=1):\n",
      "STOP: TOTAL NO. of ITERATIONS REACHED LIMIT.\n",
      "\n",
      "Increase the number of iterations (max_iter) or scale the data as shown in:\n",
      "    https://scikit-learn.org/stable/modules/preprocessing.html\n",
      "Please also refer to the documentation for alternative solver options:\n",
      "    https://scikit-learn.org/stable/modules/linear_model.html#logistic-regression\n",
      "  n_iter_i = _check_optimize_result(\n"
     ]
    },
    {
     "name": "stdout",
     "output_type": "stream",
     "text": [
      "confusion_matrix: \n",
      " [[7803  149]\n",
      " [ 884  207]]\n",
      "log_loss: \n",
      " 3.9454467716421364\n",
      "==============================\n",
      "GaussianNB\n",
      "****Results****\n",
      "Accuracy: 85.1266%\n",
      "precision_score: \n",
      " 0.39327731092436974\n",
      "f1_score: \n",
      " 0.4103463393248575\n",
      "confusion_matrix: \n",
      " [[7230  722]\n",
      " [ 623  468]]\n",
      "log_loss: \n",
      " 5.137148242894999\n",
      "==============================\n",
      "SVC\n",
      "****Results****\n",
      "Accuracy: 87.9465%\n",
      "precision_score: \n",
      " 0.5384615384615384\n",
      "f1_score: \n",
      " 0.012681159420289856\n",
      "confusion_matrix: \n",
      " [[7946    6]\n",
      " [1084    7]]\n",
      "log_loss: \n",
      " 4.163139562981005\n",
      "==============================\n"
     ]
    }
   ],
   "source": [
    "# Implimenting different models\n",
    "classifiers = [\n",
    "    DecisionTreeClassifier(),\n",
    "    RandomForestClassifier(),\n",
    "    GradientBoostingClassifier(),\n",
    "    LogisticRegression(),\n",
    "    GaussianNB(),\n",
    "    SVC()]\n",
    "\n",
    "# Logging for Visual Comparison\n",
    "log_cols=[\"Classifier\", \"Accuracy\", 'Log Loss']\n",
    "log = pd.DataFrame(columns=log_cols)\n",
    "\n",
    "for clf in classifiers:\n",
    "    clf.fit(X_train, y_train)\n",
    "    name = clf.__class__.__name__\n",
    "    \n",
    "    print(\"=\"*30)\n",
    "    print(name)\n",
    "    try:\n",
    "        print('****Results****')\n",
    "        train_predictions = clf.predict(X_test)\n",
    "        acc = accuracy_score(y_test, train_predictions)\n",
    "        print(\"Accuracy: {:.4%}\".format(acc))\n",
    "        print(\"precision_score: \\n\",precision_score(y_test, train_predictions))\n",
    "        print(\"f1_score: \\n\",f1_score(y_test, train_predictions))\n",
    "        print(\"confusion_matrix: \\n\",confusion_matrix(y_test, train_predictions))\n",
    "        print(\"log_loss: \\n\",log_loss(y_test, train_predictions))\n",
    "        log_entry = pd.DataFrame([[name, acc*100, log_loss(y_test, train_predictions)]], columns=log_cols)\n",
    "        log = log.append(log_entry)\n",
    "    except Exception as e:\n",
    "        print (e)\n",
    "    \n",
    "print(\"=\"*30)"
   ]
  },
  {
   "cell_type": "markdown",
   "id": "a2a10713",
   "metadata": {},
   "source": [
    "## Oversampling"
   ]
  },
  {
   "cell_type": "code",
   "execution_count": 25,
   "id": "a2e567e5",
   "metadata": {},
   "outputs": [],
   "source": [
    "from sklearn.datasets import make_classification\n",
    "from imblearn.over_sampling import RandomOverSampler\n",
    "from imblearn.under_sampling import RandomUnderSampler\n",
    "from collections import Counter"
   ]
  },
  {
   "cell_type": "code",
   "execution_count": 24,
   "id": "1bf9c15e",
   "metadata": {},
   "outputs": [],
   "source": [
    "ros = RandomOverSampler()\n",
    "X_ros, y_ros = ros.fit_resample(X, y)"
   ]
  },
  {
   "cell_type": "code",
   "execution_count": 27,
   "id": "6370134d",
   "metadata": {},
   "outputs": [
    {
     "name": "stdout",
     "output_type": "stream",
     "text": [
      "Counter({0: 31970, 1: 31970})\n"
     ]
    }
   ],
   "source": [
    "print(Counter(y_ros))"
   ]
  },
  {
   "cell_type": "code",
   "execution_count": 26,
   "id": "fd2dae41",
   "metadata": {},
   "outputs": [],
   "source": [
    "# training the dataset\n",
    "X_train1, X_test1, y_train1, y_test1 = train_test_split(X_ros, y_ros, test_size=0.2, random_state=42)"
   ]
  },
  {
   "cell_type": "code",
   "execution_count": 27,
   "id": "dab0422b",
   "metadata": {},
   "outputs": [
    {
     "name": "stdout",
     "output_type": "stream",
     "text": [
      "==============================\n",
      "DecisionTreeClassifier\n",
      "****Results****\n",
      "Accuracy: 93.5170%\n",
      "precision_score: \n",
      " 0.982489730557683\n",
      "f1_score: \n",
      " 0.9316520045554327\n",
      "confusion_matrix: \n",
      " [[31511   503]\n",
      " [ 3638 28223]]\n",
      "log_loss: \n",
      " 2.239146383543367\n",
      "==============================\n",
      "RandomForestClassifier\n",
      "****Results****\n",
      "Accuracy: 93.3057%\n",
      "precision_score: \n",
      " 0.9936647696767958\n",
      "f1_score: \n",
      " 0.928494983277592\n",
      "confusion_matrix: \n",
      " [[31837   177]\n",
      " [ 4099 27762]]\n",
      "log_loss: \n",
      " 2.3121401079198947\n",
      "==============================\n",
      "AdaBoostClassifier\n",
      "****Results****\n",
      "Accuracy: 66.1949%\n",
      "precision_score: \n",
      " 0.9281187458305536\n",
      "f1_score: \n",
      " 0.5076049529108614\n",
      "confusion_matrix: \n",
      " [[31152   862]\n",
      " [20731 11130]]\n",
      "log_loss: \n",
      " 11.675874566705145\n",
      "==============================\n",
      "GradientBoostingClassifier\n",
      "****Results****\n",
      "Accuracy: 68.8297%\n",
      "precision_score: \n",
      " 0.938054394839088\n",
      "f1_score: \n",
      " 0.5624368159641334\n",
      "confusion_matrix: \n",
      " [[31169   845]\n",
      " [19065 12796]]\n",
      "log_loss: \n",
      " 10.765835047866931\n",
      "==============================\n",
      "LogisticRegression\n",
      "****Results****\n",
      "Accuracy: 58.3108%\n",
      "precision_score: \n",
      " 0.9077306733167082\n",
      "f1_score: \n",
      " 0.30430807012043787\n",
      "confusion_matrix: \n",
      " [[31422   592]\n",
      " [26037  5824]]\n",
      "log_loss: \n",
      " 14.39895968660282\n",
      "==============================\n",
      "GaussianNB\n",
      "****Results****\n",
      "Accuracy: 66.8556%\n",
      "precision_score: \n",
      " 0.8297347316471314\n",
      "f1_score: \n",
      " 0.5595889413575752\n",
      "confusion_matrix: \n",
      " [[29254  2760]\n",
      " [18411 13450]]\n",
      "log_loss: \n",
      " 11.447712594059672\n",
      "==============================\n"
     ]
    },
    {
     "name": "stderr",
     "output_type": "stream",
     "text": [
      "/opt/anaconda3/lib/python3.8/site-packages/sklearn/linear_model/_logistic.py:763: ConvergenceWarning: lbfgs failed to converge (status=1):\n",
      "STOP: TOTAL NO. of ITERATIONS REACHED LIMIT.\n",
      "\n",
      "Increase the number of iterations (max_iter) or scale the data as shown in:\n",
      "    https://scikit-learn.org/stable/modules/preprocessing.html\n",
      "Please also refer to the documentation for alternative solver options:\n",
      "    https://scikit-learn.org/stable/modules/linear_model.html#logistic-regression\n",
      "  n_iter_i = _check_optimize_result(\n"
     ]
    }
   ],
   "source": [
    "# Implimenting different models\n",
    "classifiers = [\n",
    "    DecisionTreeClassifier(),\n",
    "    RandomForestClassifier(),\n",
    "    AdaBoostClassifier(),\n",
    "    GradientBoostingClassifier(),\n",
    "    LogisticRegression(),\n",
    "    GaussianNB()]\n",
    "\n",
    "# Logging for Visual Comparison\n",
    "log_cols=[\"Classifier\", \"Accuracy\", 'Log Loss']\n",
    "log = pd.DataFrame(columns=log_cols)\n",
    "\n",
    "for clf in classifiers:\n",
    "    clf.fit(X_train, y_train)\n",
    "    name = clf.__class__.__name__\n",
    "    \n",
    "    print(\"=\"*30)\n",
    "    print(name)\n",
    "    try:\n",
    "        print('****Results****')\n",
    "        train_predictions = clf.predict(X_train1)\n",
    "        acc = accuracy_score(y_train1, train_predictions)\n",
    "        print(\"Accuracy: {:.4%}\".format(acc))\n",
    "        print(\"precision_score: \\n\",precision_score(y_train1, train_predictions))\n",
    "        print(\"f1_score: \\n\",f1_score(y_train1, train_predictions))\n",
    "        print(\"confusion_matrix: \\n\",confusion_matrix(y_train1, train_predictions))\n",
    "        print(\"log_loss: \\n\",log_loss(y_train1, train_predictions))\n",
    "        log_entry = pd.DataFrame([[name, acc*100, log_loss(y_train1, train_predictions)]], columns=log_cols)\n",
    "        log = log.append(log_entry)\n",
    "    except Exception as e:\n",
    "        print (e)\n",
    "    \n",
    "print(\"=\"*30)"
   ]
  },
  {
   "cell_type": "code",
   "execution_count": 28,
   "id": "55ca75e8",
   "metadata": {},
   "outputs": [
    {
     "data": {
      "image/png": "[encoded data removed]",
      "text/plain": [
       "<Figure size 432x288 with 1 Axes>"
      ]
     },
     "metadata": {
      "needs_background": "light"
     },
     "output_type": "display_data"
    },
    {
     "data": {
      "image/png": "[encoded data removed]",
      "text/plain": [
       "<Figure size 432x288 with 1 Axes>"
      ]
     },
     "metadata": {
      "needs_background": "light"
     },
     "output_type": "display_data"
    }
   ],
   "source": [
    "# Comparison between Classifier Accuracy and Accuracy Percentage \n",
    "sns.set_color_codes(\"muted\")\n",
    "sns.barplot(x='Accuracy', y='Classifier', data=log, color=\"b\")\n",
    "\n",
    "plt.xlabel('Accuracy %')\n",
    "plt.title('Classifier Accuracy')\n",
    "plt.show()\n",
    "\n",
    "sns.set_color_codes(\"muted\")\n",
    "sns.barplot(x='Log Loss', y='Classifier', data=log, color=\"g\")\n",
    "\n",
    "plt.xlabel('Log Loss')\n",
    "plt.title('Classifier Log Loss')\n",
    "plt.show()"
   ]
  },
  {
   "cell_type": "code",
   "execution_count": 29,
   "id": "1fc4e86d",
   "metadata": {},
   "outputs": [
    {
     "name": "stdout",
     "output_type": "stream",
     "text": [
      "==============================\n",
      "DecisionTreeClassifier\n",
      "****Results****\n",
      "Accuracy: 92.2913%\n",
      "precision_score: \n",
      " 0.9710344827586207\n",
      "f1_score: \n",
      " 0.9196002873750898\n",
      "confusion_matrix: \n",
      " [[7698  210]\n",
      " [1021 7040]]\n",
      "log_loss: \n",
      " 2.6624961899677753\n",
      "==============================\n",
      "RandomForestClassifier\n",
      "****Results****\n",
      "Accuracy: 92.6107%\n",
      "precision_score: \n",
      " 0.9891938006540595\n",
      "f1_score: \n",
      " 0.9218232410229231\n",
      "confusion_matrix: \n",
      " [[7832   76]\n",
      " [1104 6957]]\n",
      "log_loss: \n",
      " 2.5521834125743195\n",
      "==============================\n",
      "AdaBoostClassifier\n",
      "****Results****\n",
      "Accuracy: 65.4518%\n",
      "precision_score: \n",
      " 0.9277067921990585\n",
      "f1_score: \n",
      " 0.500045310376076\n",
      "confusion_matrix: \n",
      " [[7693  215]\n",
      " [5302 2759]]\n",
      "log_loss: \n",
      " 11.932531860740793\n",
      "==============================\n",
      "GradientBoostingClassifier\n",
      "****Results****\n",
      "Accuracy: 67.9191%\n",
      "precision_score: \n",
      " 0.9374627754615843\n",
      "f1_score: \n",
      " 0.5513617654785884\n",
      "confusion_matrix: \n",
      " [[7698  210]\n",
      " [4913 3148]]\n",
      "log_loss: \n",
      " 11.080363165294493\n",
      "==============================\n",
      "LogisticRegression\n",
      "****Results****\n",
      "Accuracy: 58.0124%\n",
      "precision_score: \n",
      " 0.9144254278728606\n",
      "f1_score: \n",
      " 0.3085490357842632\n",
      "confusion_matrix: \n",
      " [[7768  140]\n",
      " [6565 1496]]\n",
      "log_loss: \n",
      " 14.502010625055817\n",
      "==============================\n",
      "GaussianNB\n",
      "****Results****\n",
      "Accuracy: 66.5915%\n",
      "precision_score: \n",
      " 0.8319532391622017\n",
      "f1_score: \n",
      " 0.5615188624969178\n",
      "confusion_matrix: \n",
      " [[7218  690]\n",
      " [4645 3416]]\n",
      "log_loss: \n",
      " 11.538914383435115\n",
      "==============================\n"
     ]
    },
    {
     "name": "stderr",
     "output_type": "stream",
     "text": [
      "/opt/anaconda3/lib/python3.8/site-packages/sklearn/linear_model/_logistic.py:763: ConvergenceWarning: lbfgs failed to converge (status=1):\n",
      "STOP: TOTAL NO. of ITERATIONS REACHED LIMIT.\n",
      "\n",
      "Increase the number of iterations (max_iter) or scale the data as shown in:\n",
      "    https://scikit-learn.org/stable/modules/preprocessing.html\n",
      "Please also refer to the documentation for alternative solver options:\n",
      "    https://scikit-learn.org/stable/modules/linear_model.html#logistic-regression\n",
      "  n_iter_i = _check_optimize_result(\n"
     ]
    }
   ],
   "source": [
    "# Implimenting different models\n",
    "classifiers = [\n",
    "    DecisionTreeClassifier(),\n",
    "    RandomForestClassifier(),\n",
    "    AdaBoostClassifier(),\n",
    "    GradientBoostingClassifier(),\n",
    "    LogisticRegression(),\n",
    "    GaussianNB()]\n",
    "\n",
    "# Logging for Visual Comparison\n",
    "log_cols=[\"Classifier\", \"Accuracy\", 'Log Loss']\n",
    "log = pd.DataFrame(columns=log_cols)\n",
    "\n",
    "for clf in classifiers:\n",
    "    clf.fit(X_train, y_train)\n",
    "    name = clf.__class__.__name__\n",
    "    \n",
    "    print(\"=\"*30)\n",
    "    print(name)\n",
    "    try:\n",
    "        print('****Results****')\n",
    "        train_predictions = clf.predict(X_test1)\n",
    "        acc = accuracy_score(y_test1, train_predictions)\n",
    "        print(\"Accuracy: {:.4%}\".format(acc))\n",
    "        print(\"precision_score: \\n\",precision_score(y_test1, train_predictions))\n",
    "        print(\"f1_score: \\n\",f1_score(y_test1, train_predictions))\n",
    "        print(\"confusion_matrix: \\n\",confusion_matrix(y_test1, train_predictions))\n",
    "        print(\"log_loss: \\n\",log_loss(y_test1, train_predictions))\n",
    "        log_entry = pd.DataFrame([[name, acc*100, log_loss(y_test1, train_predictions)]], columns=log_cols)\n",
    "        log = log.append(log_entry)\n",
    "    except Exception as e:\n",
    "        print (e)\n",
    "    \n",
    "print(\"=\"*30)"
   ]
  },
  {
   "cell_type": "markdown",
   "id": "0c248c5b",
   "metadata": {},
   "source": [
    "## Hyperparameter Tuning"
   ]
  },
  {
   "cell_type": "markdown",
   "id": "65ebebef",
   "metadata": {},
   "source": [
    "### 1. Decision Tree"
   ]
  },
  {
   "cell_type": "code",
   "execution_count": 30,
   "id": "c94e2c74",
   "metadata": {},
   "outputs": [],
   "source": [
    "param_dict = {\n",
    "    \"criterion\": ['gini', 'entropy'],\n",
    "    \"max_depth\": range (1,10),\n",
    "    \"min_samples_split\":range (1,10),\n",
    "    \"min_samples_leaf\":range (1,5)\n",
    "}"
   ]
  },
  {
   "cell_type": "code",
   "execution_count": 188,
   "id": "aeb4653f",
   "metadata": {},
   "outputs": [
    {
     "name": "stdout",
     "output_type": "stream",
     "text": [
      "Fitting 5 folds for each of 648 candidates, totalling 3240 fits\n"
     ]
    },
    {
     "name": "stderr",
     "output_type": "stream",
     "text": [
      "/opt/anaconda3/lib/python3.8/site-packages/sklearn/model_selection/_search.py:918: UserWarning: One or more of the test scores are non-finite: [       nan 0.71724462 0.71724462 0.71724462 0.71724462 0.71724462\n",
      " 0.71724462 0.71724462 0.71724462        nan 0.71724462 0.71724462\n",
      " 0.71724462 0.71724462 0.71724462 0.71724462 0.71724462 0.71724462\n",
      "        nan 0.71724462 0.71724462 0.71724462 0.71724462 0.71724462\n",
      " 0.71724462 0.71724462 0.71724462        nan 0.71724462 0.71724462\n",
      " 0.71724462 0.71724462 0.71724462 0.71724462 0.71724462 0.71724462\n",
      "        nan 0.73631311 0.73631311 0.73631311 0.73631311 0.73631311\n",
      " 0.73631311 0.73631311 0.73631311        nan 0.73631311 0.73631311\n",
      " 0.73631311 0.73631311 0.73631311 0.73631311 0.73631311 0.73631311\n",
      "        nan 0.73631311 0.73631311 0.73631311 0.73631311 0.73631311\n",
      " 0.73631311 0.73631311 0.73631311        nan 0.73631311 0.73631311\n",
      " 0.73631311 0.73631311 0.73631311 0.73631311 0.73631311 0.73631311\n",
      "        nan 0.78155773 0.78155773 0.78155773 0.78155773 0.78155773\n",
      " 0.78155773 0.78155773 0.78155773        nan 0.78155773 0.78155773\n",
      " 0.78155773 0.78155773 0.78155773 0.78155773 0.78155773 0.78155773\n",
      "        nan 0.78155773 0.78155773 0.78155773 0.78155773 0.78155773\n",
      " 0.78155773 0.78155773 0.78155773        nan 0.78155773 0.78155773\n",
      " 0.78155773 0.78155773 0.78155773 0.78155773 0.78155773 0.78155773\n",
      "        nan 0.79223483 0.79223483 0.79223483 0.79223483 0.79223483\n",
      " 0.79223483 0.79223483 0.79223483        nan 0.79223483 0.79223483\n",
      " 0.79223483 0.79223483 0.79223483 0.79223483 0.79223483 0.79223483\n",
      "        nan 0.79223483 0.79223483 0.79223483 0.79223483 0.79223483\n",
      " 0.79223483 0.79223483 0.79223483        nan 0.79223483 0.79223483\n",
      " 0.79223483 0.79223483 0.79223483 0.79223483 0.79223483 0.79223483\n",
      "        nan 0.80407045 0.80407045 0.80407045 0.80407045 0.80407045\n",
      " 0.80407045 0.80407045 0.80407045        nan 0.80407045 0.80407045\n",
      " 0.80407045 0.80407045 0.80407045 0.80407045 0.80407045 0.80407045\n",
      "        nan 0.80403914 0.80403914 0.80403914 0.80403914 0.80403914\n",
      " 0.80403914 0.80403914 0.80403914        nan 0.80403914 0.80403914\n",
      " 0.80403914 0.80403914 0.80403914 0.80403914 0.80403914 0.80403914\n",
      "        nan 0.81268102 0.81274364 0.81269667 0.81269667 0.81268102\n",
      " 0.81268102 0.81268102 0.81269667        nan 0.8126184  0.8126184\n",
      " 0.81269667 0.81266536 0.8126184  0.8126184  0.8126184  0.81264971\n",
      "        nan 0.81260274 0.8126184  0.81263405 0.81260274 0.8126184\n",
      " 0.8126184  0.81260274 0.81257143        nan 0.81254012 0.81250881\n",
      " 0.8124775  0.8124775  0.81250881 0.81250881 0.81249315 0.81246184\n",
      "        nan 0.81690802 0.81693933 0.8169863  0.81693933 0.81697065\n",
      " 0.81695499 0.81695499 0.81690802        nan 0.81686106 0.8168454\n",
      " 0.8168454  0.8168454  0.81676712 0.81687671 0.81676712 0.81668885\n",
      "        nan 0.81665753 0.81664188 0.81657926 0.81664188 0.81661057\n",
      " 0.81664188 0.81648532 0.8165636         nan 0.81639139 0.81636008\n",
      " 0.81631311 0.81637573 0.81632877 0.81639139 0.81629746 0.81639139\n",
      "        nan 0.82260665 0.82260665 0.82265362 0.82266928 0.82252838\n",
      " 0.82263796 0.82248141 0.8224501         nan 0.82251272 0.8224501\n",
      " 0.8224501  0.82235616 0.82235616 0.82237182 0.82232485 0.82221526\n",
      "        nan 0.82226223 0.82232485 0.82232485 0.82226223 0.82229354\n",
      " 0.8223092  0.82224658 0.82205871        nan 0.82187084 0.82185519\n",
      " 0.82191781 0.82185519 0.82191781 0.82183953 0.82191781 0.82176125\n",
      "        nan 0.82869667 0.82858708 0.82863405 0.82868102 0.82841487\n",
      " 0.82846184 0.82830528 0.82821135        nan 0.82813307 0.82819569\n",
      " 0.82818004 0.82800783 0.82802348 0.82800783 0.82788258 0.82777299\n",
      "        nan 0.82780431 0.82774168 0.82774168 0.82775734 0.82789824\n",
      " 0.82783562 0.82774168 0.82750685        nan 0.82694325 0.82692759\n",
      " 0.82697456 0.82692759 0.8269589  0.82688063 0.82688063 0.826818\n",
      "        nan 0.71724462 0.71724462 0.71724462 0.71724462 0.71724462\n",
      " 0.71724462 0.71724462 0.71724462        nan 0.71724462 0.71724462\n",
      " 0.71724462 0.71724462 0.71724462 0.71724462 0.71724462 0.71724462\n",
      "        nan 0.71724462 0.71724462 0.71724462 0.71724462 0.71724462\n",
      " 0.71724462 0.71724462 0.71724462        nan 0.71724462 0.71724462\n",
      " 0.71724462 0.71724462 0.71724462 0.71724462 0.71724462 0.71724462\n",
      "        nan 0.73631311 0.73631311 0.73631311 0.73631311 0.73631311\n",
      " 0.73631311 0.73631311 0.73631311        nan 0.73631311 0.73631311\n",
      " 0.73631311 0.73631311 0.73631311 0.73631311 0.73631311 0.73631311\n",
      "        nan 0.73631311 0.73631311 0.73631311 0.73631311 0.73631311\n",
      " 0.73631311 0.73631311 0.73631311        nan 0.73631311 0.73631311\n",
      " 0.73631311 0.73631311 0.73631311 0.73631311 0.73631311 0.73631311\n",
      "        nan 0.74088454 0.74088454 0.74088454 0.74088454 0.74088454\n",
      " 0.74088454 0.74088454 0.74088454        nan 0.74088454 0.74088454\n",
      " 0.74088454 0.74088454 0.74088454 0.74088454 0.74088454 0.74088454\n",
      "        nan 0.74088454 0.74088454 0.74088454 0.74088454 0.74088454\n",
      " 0.74088454 0.74088454 0.74088454        nan 0.74088454 0.74088454\n",
      " 0.74088454 0.74088454 0.74088454 0.74088454 0.74088454 0.74088454\n",
      "        nan 0.79015264 0.79015264 0.79015264 0.79015264 0.79015264\n",
      " 0.79015264 0.79015264 0.79015264        nan 0.79015264 0.79015264\n",
      " 0.79015264 0.79015264 0.79015264 0.79015264 0.79015264 0.79015264\n",
      "        nan 0.79015264 0.79015264 0.79015264 0.79015264 0.79015264\n",
      " 0.79015264 0.79015264 0.79015264        nan 0.79015264 0.79015264\n",
      " 0.79015264 0.79015264 0.79015264 0.79015264 0.79015264 0.79015264\n",
      "        nan 0.79614873 0.79614873 0.79614873 0.79614873 0.79614873\n",
      " 0.79614873 0.79614873 0.79614873        nan 0.79614873 0.79614873\n",
      " 0.79614873 0.79614873 0.79614873 0.79614873 0.79614873 0.79614873\n",
      "        nan 0.79614873 0.79614873 0.79614873 0.79614873 0.79614873\n",
      " 0.79614873 0.79614873 0.79614873        nan 0.79614873 0.79614873\n",
      " 0.79614873 0.79614873 0.79614873 0.79614873 0.79614873 0.79614873\n",
      "        nan 0.80386693 0.80385127 0.80386693 0.80386693 0.80385127\n",
      " 0.80383562 0.80383562 0.80381996        nan 0.80386693 0.80386693\n",
      " 0.80386693 0.80386693 0.80386693 0.80385127 0.80383562 0.80383562\n",
      "        nan 0.80385127 0.80385127 0.80385127 0.80385127 0.80385127\n",
      " 0.80383562 0.80381996 0.80381996        nan 0.80374168 0.80374168\n",
      " 0.80372603 0.80374168 0.80372603 0.80372603 0.80372603 0.80374168\n",
      "        nan 0.81236791 0.81235225 0.81235225 0.81236791 0.81236791\n",
      " 0.81235225 0.81230528 0.81228963        nan 0.81233659 0.81235225\n",
      " 0.81235225 0.81235225 0.81233659 0.81232094 0.81232094 0.81232094\n",
      "        nan 0.81228963 0.81230528 0.81232094 0.81228963 0.81232094\n",
      " 0.81228963 0.81228963 0.81228963        nan 0.81211742 0.81210176\n",
      " 0.81210176 0.81208611 0.81210176 0.81211742 0.81210176 0.81210176\n",
      "        nan 0.81925636 0.81916243 0.81917808 0.81917808 0.81911546\n",
      " 0.81908415 0.81911546 0.81905284        nan 0.81906849 0.81911546\n",
      " 0.81917808 0.8190998  0.8190998  0.81905284 0.81897456 0.81903718\n",
      "        nan 0.81888063 0.81886497 0.81886497 0.81886497 0.81889628\n",
      " 0.81880235 0.81873973 0.818818          nan 0.81831703 0.81837965\n",
      " 0.81828571 0.81831703 0.81833268 0.81831703 0.81836399 0.81828571\n",
      "        nan 0.82425049 0.82423483 0.82423483 0.82412524 0.82420352\n",
      " 0.82412524 0.82396869 0.82393738        nan 0.82389041 0.82395303\n",
      " 0.82393738 0.82382779 0.82387476 0.82379648 0.82373386 0.82374951\n",
      "        nan 0.82342074 0.82342074 0.8234364  0.82346771 0.82338943\n",
      " 0.82340509 0.8232955  0.82320157        nan 0.82265362 0.8227319\n",
      " 0.82276321 0.82277886 0.82270059 0.82274755 0.82260665 0.82260665]\n",
      "  warnings.warn(\n"
     ]
    },
    {
     "data": {
      "text/plain": [
       "GridSearchCV(cv=5, estimator=DecisionTreeClassifier(), n_jobs=-1,\n",
       "             param_grid={'criterion': ['gini', 'entropy'],\n",
       "                         'max_depth': range(1, 10),\n",
       "                         'min_samples_leaf': range(1, 5),\n",
       "                         'min_samples_split': range(1, 10)},\n",
       "             verbose=1)"
      ]
     },
     "execution_count": 188,
     "metadata": {},
     "output_type": "execute_result"
    }
   ],
   "source": [
    "grid = GridSearchCV(estimator=DecisionTreeClassifier(),\n",
    "                    param_grid=param_dict,\n",
    "                    cv = 5 ,\n",
    "                    verbose = 1 ,\n",
    "                    scoring = 'f1',\n",
    "                    n_jobs=-1)\n",
    "\n",
    "grid.fit(X_train1,y_train1)"
   ]
  },
  {
   "cell_type": "code",
   "execution_count": 189,
   "id": "912f2544",
   "metadata": {},
   "outputs": [
    {
     "data": {
      "text/plain": [
       "{'criterion': 'gini',\n",
       " 'max_depth': 9,\n",
       " 'min_samples_leaf': 1,\n",
       " 'min_samples_split': 2}"
      ]
     },
     "execution_count": 189,
     "metadata": {},
     "output_type": "execute_result"
    }
   ],
   "source": [
    "print('Best Params: ', grid_search.best_params_)"
   ]
  },
  {
   "cell_type": "code",
   "execution_count": 191,
   "id": "acb3d3ed",
   "metadata": {},
   "outputs": [
    {
     "data": {
      "text/plain": [
       "0.8286966731898238"
      ]
     },
     "execution_count": 191,
     "metadata": {},
     "output_type": "execute_result"
    }
   ],
   "source": [
    "print('Best Score: ', grid_search.best_score_)"
   ]
  },
  {
   "cell_type": "code",
   "execution_count": 40,
   "id": "1b45201d",
   "metadata": {},
   "outputs": [],
   "source": [
    "def met(model,X_train1,y_train1,X_test1,y_test1):\n",
    "  model.fit(X_train1,y_train1)\n",
    "\n",
    "  print('................Train .......................')\n",
    "\n",
    "  y_train_pred=model.predict(X_train1)\n",
    "  print(confusion_matrix(y_train1, y_train_pred), \": is the confusion matrix\")\n",
    "  print(accuracy_score(y_train1, y_train_pred), \": is the accuracy score\")\n",
    "  print(precision_score(y_train1, y_train_pred), \": is the precision score\")\n",
    "  print(f1_score(y_train1, y_train_pred), \": is the f1 score\")\n",
    "  print(roc_auc_score(y_train1, y_train_pred), \": is the roc auc score\")\n",
    "  print(log_loss(y_train1, y_train_pred), \": is the logloss\")\n",
    "\n",
    "  print('................Test.......................')\n",
    "\n",
    "  y_pred=model.predict(X_test1)\n",
    "  print(confusion_matrix(y_test1, y_pred), \": is the confusion matrix\")\n",
    "  print(accuracy_score(y_test1, y_pred), \": is the accuracy score\")\n",
    "  print(precision_score(y_test1, y_pred), \": is the precision score\")\n",
    "  print(f1_score(y_test1, y_pred), \": is the f1 score\")\n",
    "  print(roc_auc_score(y_test1, y_pred), \": is the roc auc score\")\n",
    "  print(log_loss(y_test1, y_pred), \": is the logloss\")"
   ]
  },
  {
   "cell_type": "code",
   "execution_count": 224,
   "id": "ab62b4cd",
   "metadata": {},
   "outputs": [],
   "source": [
    "model = DecisionTreeClassifier(criterion = 'gini',\n",
    "                               max_depth = 9,\n",
    "                               min_samples_leaf = 1,\n",
    "                               min_samples_split = 2)"
   ]
  },
  {
   "cell_type": "code",
   "execution_count": 230,
   "id": "72270f65",
   "metadata": {},
   "outputs": [
    {
     "name": "stdout",
     "output_type": "stream",
     "text": [
      "................Train .......................\n",
      "[[25899  6115]\n",
      " [ 4179 27682]] : is the confusion matrix\n",
      "0.8388414872798434 : is the accuracy score\n",
      "0.8190667810752433 : is the precision score\n",
      "0.8432178866246307 : is the f1 score\n",
      "0.8389131627696225 : is the roc auc score\n",
      "5.566294383522447 : is the logloss\n",
      "................Test.......................\n",
      "[[6292 1616]\n",
      " [1074 6987]] : is the confusion matrix\n",
      "0.8315486254618323 : is the accuracy score\n",
      "0.8121585493432524 : is the precision score\n",
      "0.8385741718674988 : is the f1 score\n",
      "0.8312079423229438 : is the roc auc score\n",
      "5.818185274704549 : is the logloss\n"
     ]
    }
   ],
   "source": [
    "met(model,X_train1,y_train1,X_test1,y_test1)"
   ]
  },
  {
   "cell_type": "code",
   "execution_count": null,
   "id": "755e10e5",
   "metadata": {},
   "outputs": [],
   "source": []
  },
  {
   "cell_type": "code",
   "execution_count": null,
   "id": "92378535",
   "metadata": {},
   "outputs": [],
   "source": []
  },
  {
   "cell_type": "markdown",
   "id": "e9a5c937",
   "metadata": {},
   "source": [
    "### 2. Random Forest"
   ]
  },
  {
   "cell_type": "code",
   "execution_count": 192,
   "id": "f738d11f",
   "metadata": {},
   "outputs": [],
   "source": [
    "param_grid = {\n",
    "    'bootstrap': [True],\n",
    "    'max_depth': [10,15],\n",
    "    'max_features': [3],\n",
    "    'min_samples_leaf': [3,4,5,6],\n",
    "    'min_samples_split': [3,4,5,6],\n",
    "    'n_estimators': [1150, 1200, 1250, 1300,1350]\n",
    "}\n",
    "# Create a based model\n",
    "rf = RandomForestClassifier()\n",
    "# Instantiate the grid search model\n",
    "grid_search = GridSearchCV(estimator = rf,\n",
    "                           param_grid = param_grid, \n",
    "                           cv = 5,\n",
    "                           scoring = 'f1',\n",
    "                           n_jobs = -1, \n",
    "                           verbose = 1)"
   ]
  },
  {
   "cell_type": "code",
   "execution_count": 193,
   "id": "ddeb3be9",
   "metadata": {},
   "outputs": [
    {
     "name": "stdout",
     "output_type": "stream",
     "text": [
      "Fitting 5 folds for each of 160 candidates, totalling 800 fits\n"
     ]
    },
    {
     "data": {
      "text/plain": [
       "GridSearchCV(cv=5, estimator=RandomForestClassifier(), n_jobs=-1,\n",
       "             param_grid={'bootstrap': [True], 'max_depth': [10, 15],\n",
       "                         'max_features': [3], 'min_samples_leaf': [3, 4, 5, 6],\n",
       "                         'min_samples_split': [3, 4, 5, 6],\n",
       "                         'n_estimators': [1150, 1200, 1250, 1300, 1350]},\n",
       "             verbose=1)"
      ]
     },
     "execution_count": 193,
     "metadata": {},
     "output_type": "execute_result"
    }
   ],
   "source": [
    "grid_search.fit(X_train1,y_train1)"
   ]
  },
  {
   "cell_type": "code",
   "execution_count": 194,
   "id": "861e7654",
   "metadata": {},
   "outputs": [
    {
     "name": "stdout",
     "output_type": "stream",
     "text": [
      "Best Score:  0.8943091976516634\n"
     ]
    }
   ],
   "source": [
    "print('Best Score: ', grid_search.best_score_)"
   ]
  },
  {
   "cell_type": "code",
   "execution_count": 195,
   "id": "f2e23ce7",
   "metadata": {},
   "outputs": [
    {
     "name": "stdout",
     "output_type": "stream",
     "text": [
      "Best Params:  {'bootstrap': True, 'max_depth': 15, 'max_features': 3, 'min_samples_leaf': 3, 'min_samples_split': 3, 'n_estimators': 1150}\n"
     ]
    }
   ],
   "source": [
    "print('Best Params: ', grid_search.best_params_)"
   ]
  },
  {
   "cell_type": "code",
   "execution_count": 34,
   "id": "ef208870",
   "metadata": {},
   "outputs": [],
   "source": [
    "rfc = RandomForestClassifier(bootstrap = True,\n",
    "                               max_depth = 15,\n",
    "                               max_features = 4, \n",
    "                               min_samples_leaf = 4, \n",
    "                               min_samples_split = 4, \n",
    "                               n_estimators = 1300)"
   ]
  },
  {
   "cell_type": "code",
   "execution_count": 38,
   "id": "13bcc03a",
   "metadata": {},
   "outputs": [],
   "source": [
    "rfc.fit(X_train1,y_train1)\n",
    "y_pred=rfc.predict(X_test1)"
   ]
  },
  {
   "cell_type": "code",
   "execution_count": 42,
   "id": "775e9c83",
   "metadata": {},
   "outputs": [
    {
     "name": "stdout",
     "output_type": "stream",
     "text": [
      "................Train .......................\n",
      "[[28735  3279]\n",
      " [ 2640 29221]] : is the confusion matrix\n",
      "0.907334637964775 : is the accuracy score\n",
      "0.8991076923076923 : is the precision score\n",
      "0.9080343686393934 : is the f1 score\n",
      "0.9073580688419627 : is the roc auc score\n",
      "3.2005892659326807 : is the logloss\n",
      "................Test.......................\n",
      "[[6750 1158]\n",
      " [ 813 7248]] : is the confusion matrix\n",
      "0.876573360886718 : is the accuracy score\n",
      "0.8622412562455389 : is the precision score\n",
      "0.8803060666788123 : is the f1 score\n",
      "0.8763550179501935 : is the roc auc score\n",
      "4.2630630727154575 : is the logloss\n"
     ]
    }
   ],
   "source": [
    "met(rfc,X_train1,y_train1,X_test1,y_test1)"
   ]
  },
  {
   "cell_type": "code",
   "execution_count": null,
   "id": "55534b24",
   "metadata": {},
   "outputs": [],
   "source": []
  },
  {
   "cell_type": "code",
   "execution_count": 31,
   "id": "eba51bdd",
   "metadata": {},
   "outputs": [
    {
     "data": {
      "text/html": [
       "<div>\n",
       "<style scoped>\n",
       "    .dataframe tbody tr th:only-of-type {\n",
       "        vertical-align: middle;\n",
       "    }\n",
       "\n",
       "    .dataframe tbody tr th {\n",
       "        vertical-align: top;\n",
       "    }\n",
       "\n",
       "    .dataframe thead th {\n",
       "        text-align: right;\n",
       "    }\n",
       "</style>\n",
       "<table border=\"1\" class=\"dataframe\">\n",
       "  <thead>\n",
       "    <tr style=\"text-align: right;\">\n",
       "      <th></th>\n",
       "      <th>age</th>\n",
       "      <th>job</th>\n",
       "      <th>marital</th>\n",
       "      <th>education</th>\n",
       "      <th>default</th>\n",
       "      <th>balance</th>\n",
       "      <th>housing</th>\n",
       "      <th>loan</th>\n",
       "      <th>duration</th>\n",
       "      <th>campaign</th>\n",
       "      <th>pdays</th>\n",
       "      <th>previous</th>\n",
       "      <th>poutcome</th>\n",
       "    </tr>\n",
       "  </thead>\n",
       "  <tbody>\n",
       "    <tr>\n",
       "      <th>72809</th>\n",
       "      <td>27</td>\n",
       "      <td>4.0</td>\n",
       "      <td>2</td>\n",
       "      <td>1</td>\n",
       "      <td>0</td>\n",
       "      <td>416</td>\n",
       "      <td>1</td>\n",
       "      <td>0</td>\n",
       "      <td>1193</td>\n",
       "      <td>2</td>\n",
       "      <td>-1</td>\n",
       "      <td>0</td>\n",
       "      <td>2</td>\n",
       "    </tr>\n",
       "    <tr>\n",
       "      <th>71061</th>\n",
       "      <td>32</td>\n",
       "      <td>11.0</td>\n",
       "      <td>0</td>\n",
       "      <td>3</td>\n",
       "      <td>0</td>\n",
       "      <td>2016</td>\n",
       "      <td>0</td>\n",
       "      <td>0</td>\n",
       "      <td>232</td>\n",
       "      <td>1</td>\n",
       "      <td>348</td>\n",
       "      <td>1</td>\n",
       "      <td>3</td>\n",
       "    </tr>\n",
       "    <tr>\n",
       "      <th>57176</th>\n",
       "      <td>39</td>\n",
       "      <td>4.0</td>\n",
       "      <td>1</td>\n",
       "      <td>1</td>\n",
       "      <td>0</td>\n",
       "      <td>1317</td>\n",
       "      <td>1</td>\n",
       "      <td>0</td>\n",
       "      <td>543</td>\n",
       "      <td>1</td>\n",
       "      <td>170</td>\n",
       "      <td>4</td>\n",
       "      <td>1</td>\n",
       "    </tr>\n",
       "    <tr>\n",
       "      <th>40165</th>\n",
       "      <td>35</td>\n",
       "      <td>11.0</td>\n",
       "      <td>2</td>\n",
       "      <td>3</td>\n",
       "      <td>0</td>\n",
       "      <td>697</td>\n",
       "      <td>0</td>\n",
       "      <td>0</td>\n",
       "      <td>57</td>\n",
       "      <td>2</td>\n",
       "      <td>304</td>\n",
       "      <td>1</td>\n",
       "      <td>0</td>\n",
       "    </tr>\n",
       "    <tr>\n",
       "      <th>71998</th>\n",
       "      <td>45</td>\n",
       "      <td>11.0</td>\n",
       "      <td>0</td>\n",
       "      <td>3</td>\n",
       "      <td>0</td>\n",
       "      <td>2067</td>\n",
       "      <td>1</td>\n",
       "      <td>0</td>\n",
       "      <td>393</td>\n",
       "      <td>2</td>\n",
       "      <td>462</td>\n",
       "      <td>1</td>\n",
       "      <td>3</td>\n",
       "    </tr>\n",
       "    <tr>\n",
       "      <th>...</th>\n",
       "      <td>...</td>\n",
       "      <td>...</td>\n",
       "      <td>...</td>\n",
       "      <td>...</td>\n",
       "      <td>...</td>\n",
       "      <td>...</td>\n",
       "      <td>...</td>\n",
       "      <td>...</td>\n",
       "      <td>...</td>\n",
       "      <td>...</td>\n",
       "      <td>...</td>\n",
       "      <td>...</td>\n",
       "      <td>...</td>\n",
       "    </tr>\n",
       "    <tr>\n",
       "      <th>68683</th>\n",
       "      <td>63</td>\n",
       "      <td>7.0</td>\n",
       "      <td>1</td>\n",
       "      <td>1</td>\n",
       "      <td>0</td>\n",
       "      <td>109</td>\n",
       "      <td>0</td>\n",
       "      <td>0</td>\n",
       "      <td>406</td>\n",
       "      <td>2</td>\n",
       "      <td>-1</td>\n",
       "      <td>0</td>\n",
       "      <td>2</td>\n",
       "    </tr>\n",
       "    <tr>\n",
       "      <th>39543</th>\n",
       "      <td>52</td>\n",
       "      <td>0.0</td>\n",
       "      <td>2</td>\n",
       "      <td>2</td>\n",
       "      <td>0</td>\n",
       "      <td>5091</td>\n",
       "      <td>0</td>\n",
       "      <td>0</td>\n",
       "      <td>309</td>\n",
       "      <td>1</td>\n",
       "      <td>-1</td>\n",
       "      <td>0</td>\n",
       "      <td>2</td>\n",
       "    </tr>\n",
       "    <tr>\n",
       "      <th>32278</th>\n",
       "      <td>51</td>\n",
       "      <td>4.0</td>\n",
       "      <td>2</td>\n",
       "      <td>2</td>\n",
       "      <td>0</td>\n",
       "      <td>2964</td>\n",
       "      <td>1</td>\n",
       "      <td>0</td>\n",
       "      <td>177</td>\n",
       "      <td>1</td>\n",
       "      <td>-1</td>\n",
       "      <td>0</td>\n",
       "      <td>2</td>\n",
       "    </tr>\n",
       "    <tr>\n",
       "      <th>65269</th>\n",
       "      <td>54</td>\n",
       "      <td>0.0</td>\n",
       "      <td>0</td>\n",
       "      <td>2</td>\n",
       "      <td>0</td>\n",
       "      <td>380</td>\n",
       "      <td>0</td>\n",
       "      <td>0</td>\n",
       "      <td>696</td>\n",
       "      <td>2</td>\n",
       "      <td>-1</td>\n",
       "      <td>0</td>\n",
       "      <td>2</td>\n",
       "    </tr>\n",
       "    <tr>\n",
       "      <th>47389</th>\n",
       "      <td>31</td>\n",
       "      <td>11.0</td>\n",
       "      <td>0</td>\n",
       "      <td>3</td>\n",
       "      <td>0</td>\n",
       "      <td>533</td>\n",
       "      <td>0</td>\n",
       "      <td>0</td>\n",
       "      <td>372</td>\n",
       "      <td>1</td>\n",
       "      <td>90</td>\n",
       "      <td>10</td>\n",
       "      <td>3</td>\n",
       "    </tr>\n",
       "  </tbody>\n",
       "</table>\n",
       "<p>15969 rows × 13 columns</p>\n",
       "</div>"
      ],
      "text/plain": [
       "       age   job  marital  education  default  balance  housing  loan  \\\n",
       "72809   27   4.0        2          1        0      416        1     0   \n",
       "71061   32  11.0        0          3        0     2016        0     0   \n",
       "57176   39   4.0        1          1        0     1317        1     0   \n",
       "40165   35  11.0        2          3        0      697        0     0   \n",
       "71998   45  11.0        0          3        0     2067        1     0   \n",
       "...    ...   ...      ...        ...      ...      ...      ...   ...   \n",
       "68683   63   7.0        1          1        0      109        0     0   \n",
       "39543   52   0.0        2          2        0     5091        0     0   \n",
       "32278   51   4.0        2          2        0     2964        1     0   \n",
       "65269   54   0.0        0          2        0      380        0     0   \n",
       "47389   31  11.0        0          3        0      533        0     0   \n",
       "\n",
       "       duration  campaign  pdays  previous  poutcome  \n",
       "72809      1193         2     -1         0         2  \n",
       "71061       232         1    348         1         3  \n",
       "57176       543         1    170         4         1  \n",
       "40165        57         2    304         1         0  \n",
       "71998       393         2    462         1         3  \n",
       "...         ...       ...    ...       ...       ...  \n",
       "68683       406         2     -1         0         2  \n",
       "39543       309         1     -1         0         2  \n",
       "32278       177         1     -1         0         2  \n",
       "65269       696         2     -1         0         2  \n",
       "47389       372         1     90        10         3  \n",
       "\n",
       "[15969 rows x 13 columns]"
      ]
     },
     "execution_count": 31,
     "metadata": {},
     "output_type": "execute_result"
    }
   ],
   "source": [
    "X_test1"
   ]
  },
  {
   "cell_type": "code",
   "execution_count": null,
   "id": "44feb77a",
   "metadata": {},
   "outputs": [],
   "source": []
  },
  {
   "cell_type": "code",
   "execution_count": null,
   "id": "37b293e8",
   "metadata": {},
   "outputs": [],
   "source": []
  },
  {
   "cell_type": "markdown",
   "id": "60c03b6b",
   "metadata": {},
   "source": [
    "### 3. Logistic Regression"
   ]
  },
  {
   "cell_type": "code",
   "execution_count": 209,
   "id": "pHzFTQK6tdlm",
   "metadata": {
    "id": "pHzFTQK6tdlm"
   },
   "outputs": [],
   "source": [
    "penalty = ['l1', 'l2']\n",
    "C = [0.0001, 0.001, 0.01, 0.1, 1, 10, 100, 1000]\n",
    "class_weight = [{1:0.5, 0:0.5}, {1:0.4, 0:0.6}, {1:0.6, 0:0.4}, {1:0.7, 0:0.3}]\n",
    "solver = ['liblinear', 'saga']\n",
    "param_grid = dict(penalty=penalty,\n",
    "                  C=C,\n",
    "                  class_weight=class_weight,\n",
    "                  solver=solver)\n",
    "grid = GridSearchCV(estimator=LogisticRegression(),\n",
    "                    param_grid=param_grid,\n",
    "                    scoring='f1',\n",
    "                    verbose=1,\n",
    "                    n_jobs=-1)"
   ]
  },
  {
   "cell_type": "code",
   "execution_count": 210,
   "id": "vjGnFHYztdjW",
   "metadata": {
    "colab": {
     "base_uri": "https://localhost:8080/"
    },
    "id": "vjGnFHYztdjW",
    "outputId": "aec05232-f534-49da-915b-e299595694da"
   },
   "outputs": [
    {
     "name": "stdout",
     "output_type": "stream",
     "text": [
      "Fitting 5 folds for each of 128 candidates, totalling 640 fits\n"
     ]
    }
   ],
   "source": [
    "grid_result = grid.fit(X_train1, y_train1)"
   ]
  },
  {
   "cell_type": "code",
   "execution_count": 211,
   "id": "T3G8xdk9y8kv",
   "metadata": {
    "id": "T3G8xdk9y8kv"
   },
   "outputs": [
    {
     "name": "stdout",
     "output_type": "stream",
     "text": [
      "Best Score:  0.8090444190553614\n"
     ]
    }
   ],
   "source": [
    "print('Best Score: ', grid_result.best_score_)"
   ]
  },
  {
   "cell_type": "code",
   "execution_count": 212,
   "id": "Mc1Kle8MtdbJ",
   "metadata": {
    "id": "Mc1Kle8MtdbJ"
   },
   "outputs": [
    {
     "name": "stdout",
     "output_type": "stream",
     "text": [
      "Best Params:  {'C': 0.01, 'class_weight': {1: 0.6, 0: 0.4}, 'penalty': 'l1', 'solver': 'liblinear'}\n"
     ]
    }
   ],
   "source": [
    "print('Best Params: ', grid_result.best_params_)"
   ]
  },
  {
   "cell_type": "code",
   "execution_count": 234,
   "id": "Er9a4nQdtdYq",
   "metadata": {
    "id": "Er9a4nQdtdYq"
   },
   "outputs": [],
   "source": [
    "model = LogisticRegression(C=10,class_weight={1: 0.7, 0: 0.3},penalty='l1',solver='liblinear')"
   ]
  },
  {
   "cell_type": "code",
   "execution_count": 235,
   "id": "3jYLq8I8pPL-",
   "metadata": {
    "id": "3jYLq8I8pPL-"
   },
   "outputs": [],
   "source": [
    "model.fit(X_train1,y_train1)\n",
    "y_pred=model.predict(X_test1)"
   ]
  },
  {
   "cell_type": "code",
   "execution_count": 236,
   "id": "98d6a7d7",
   "metadata": {},
   "outputs": [
    {
     "name": "stdout",
     "output_type": "stream",
     "text": [
      "................Train .......................\n",
      "[[20373 11641]\n",
      " [ 2678 29183]] : is the confusion matrix\n",
      "0.7758277886497065 : is the accuracy score\n",
      "0.7148491083676269 : is the precision score\n",
      "0.802999243310174 : is the f1 score\n",
      "0.7761626156004412 : is the roc auc score\n",
      "7.7427796056737535 : is the logloss\n",
      "................Test.......................\n",
      "[[4946 2962]\n",
      " [ 670 7391]] : is the confusion matrix\n",
      "0.7725593337090613 : is the accuracy score\n",
      "0.713899352844586 : is the precision score\n",
      "0.8027587705007061 : is the f1 score\n",
      "0.771163175551217 : is the roc auc score\n",
      "7.8556706289626055 : is the logloss\n"
     ]
    }
   ],
   "source": [
    "met(model,X_train1,y_train1,X_test1,y_test1)"
   ]
  },
  {
   "cell_type": "code",
   "execution_count": null,
   "id": "987c2871",
   "metadata": {},
   "outputs": [],
   "source": []
  },
  {
   "cell_type": "markdown",
   "id": "a22d29ce",
   "metadata": {},
   "source": [
    "### 4. XGboost"
   ]
  },
  {
   "cell_type": "code",
   "execution_count": null,
   "id": "1d325075",
   "metadata": {},
   "outputs": [],
   "source": [
    "from xgboost import XGBClassifier\n",
    "estimator = XGBClassifier(\n",
    "    objective= 'binary:logistic',\n",
    "    njob = -1,\n",
    "    cv = 5,\n",
    "    scoring = 'f1',\n",
    "    seed=42\n",
    ")"
   ]
  },
  {
   "cell_type": "code",
   "execution_count": null,
   "id": "62442191",
   "metadata": {},
   "outputs": [],
   "source": [
    "parameters = {\n",
    "    'max_depth': range (2, 10, 1),\n",
    "    'n_estimators': range(60, 220, 40),\n",
    "    'learning_rate': [0.1, 0.01, 0.05]\n",
    "}"
   ]
  },
  {
   "cell_type": "code",
   "execution_count": null,
   "id": "9fe35d0b",
   "metadata": {},
   "outputs": [],
   "source": [
    "grid_search = GridSearchCV(\n",
    "    estimator=estimator,\n",
    "    param_grid=parameters,\n",
    "    verbose=True\n",
    ")"
   ]
  },
  {
   "cell_type": "code",
   "execution_count": null,
   "id": "2476021e",
   "metadata": {},
   "outputs": [],
   "source": [
    "grid_search.fit(X_train1, y_train1)"
   ]
  },
  {
   "cell_type": "code",
   "execution_count": null,
   "id": "97eaaf75",
   "metadata": {},
   "outputs": [],
   "source": [
    "print('Best Score: ', grid_result.best_score_)"
   ]
  },
  {
   "cell_type": "code",
   "execution_count": null,
   "id": "f7e0d368",
   "metadata": {},
   "outputs": [],
   "source": [
    "print('Best Params: ', grid_result.best_params_)"
   ]
  },
  {
   "cell_type": "code",
   "execution_count": null,
   "id": "6d0a2b37",
   "metadata": {},
   "outputs": [],
   "source": [
    "grid_search.best_estimator_"
   ]
  },
  {
   "cell_type": "code",
   "execution_count": null,
   "id": "be49999b",
   "metadata": {},
   "outputs": [],
   "source": [
    "model = XGBClassifier(cv=5, max_depth=4, n_estimators=180, njob=-1, scoring='roc_auc',\n",
    "              seed=42)\n",
    "model.fit(X_train1, y_train1)"
   ]
  },
  {
   "cell_type": "code",
   "execution_count": null,
   "id": "a845c544",
   "metadata": {},
   "outputs": [],
   "source": [
    "met(model,X_train1,y_train1,X_test1,y_test1)"
   ]
  },
  {
   "cell_type": "markdown",
   "id": "537b6066",
   "metadata": {},
   "source": [
    "### 5. SVM"
   ]
  },
  {
   "cell_type": "code",
   "execution_count": 199,
   "id": "2bd5ab16",
   "metadata": {},
   "outputs": [],
   "source": [
    "from sklearn.model_selection import GridSearchCV\n",
    "from sklearn.svm import SVC"
   ]
  },
  {
   "cell_type": "code",
   "execution_count": 218,
   "id": "062203b0",
   "metadata": {},
   "outputs": [],
   "source": [
    "param_grid = {'C': [0.1, 1, 10, 100, 1000],\n",
    "              'gamma': [1, 0.1, 0.01, 0.001, 0.0001],\n",
    "              'kernel': ['rbf']}\n",
    " \n",
    "grid = GridSearchCV(SVC(), param_grid, refit = True, verbose = 3)"
   ]
  },
  {
   "cell_type": "code",
   "execution_count": null,
   "id": "d78b38f2",
   "metadata": {},
   "outputs": [],
   "source": [
    "grid.fit(X_train1,y_train1)"
   ]
  },
  {
   "cell_type": "code",
   "execution_count": null,
   "id": "48b9ae89",
   "metadata": {},
   "outputs": [],
   "source": [
    "print('Best Params: ', grid_result.best_params_)"
   ]
  },
  {
   "cell_type": "code",
   "execution_count": null,
   "id": "f696721e",
   "metadata": {},
   "outputs": [],
   "source": [
    "print('Best Score: ', grid_result.best_score_)"
   ]
  },
  {
   "cell_type": "code",
   "execution_count": 208,
   "id": "d0f90922",
   "metadata": {},
   "outputs": [
    {
     "ename": "SyntaxError",
     "evalue": "invalid syntax (<ipython-input-208-013c92576b16>, line 1)",
     "output_type": "error",
     "traceback": [
      "\u001b[0;36m  File \u001b[0;32m\"<ipython-input-208-013c92576b16>\"\u001b[0;36m, line \u001b[0;32m1\u001b[0m\n\u001b[0;31m    model = class sklearn.svm.SVC(criterion = 'gini', max_depth = 9, min_samples_leaf = 1, min_samples_split = 3)\u001b[0m\n\u001b[0m            ^\u001b[0m\n\u001b[0;31mSyntaxError\u001b[0m\u001b[0;31m:\u001b[0m invalid syntax\n"
     ]
    }
   ],
   "source": [
    "model = class sklearn.svm.SVC(criterion = 'gini', max_depth = 9, min_samples_leaf = 1, min_samples_split = 3)"
   ]
  },
  {
   "cell_type": "code",
   "execution_count": 204,
   "id": "6eb343d7",
   "metadata": {},
   "outputs": [
    {
     "name": "stdout",
     "output_type": "stream",
     "text": [
      "................Train .......................\n",
      "[[28451  3563]\n",
      " [ 1538 30323]] : is the confusion matrix\n",
      "0.9201409001956947 : is the accuracy score\n",
      "0.8948533317594287 : is the precision score\n",
      "0.9224147109373811 : is the f1 score\n",
      "................Test.......................\n",
      "[[6742 1166]\n",
      " [ 464 7597]] : is the confusion matrix\n",
      "0.8979272340159058 : is the accuracy score\n",
      "0.8669405454752939 : is the precision score\n",
      "0.9031145981930574 : is the f1 score\n"
     ]
    }
   ],
   "source": [
    "met(model,X_train1,y_train1,X_test1,y_test1)"
   ]
  },
  {
   "cell_type": "code",
   "execution_count": null,
   "id": "4131d79d",
   "metadata": {},
   "outputs": [],
   "source": []
  },
  {
   "cell_type": "markdown",
   "id": "d521c25a",
   "metadata": {},
   "source": [
    "### 6. Naive Bayes"
   ]
  },
  {
   "cell_type": "code",
   "execution_count": null,
   "id": "f91c7298",
   "metadata": {},
   "outputs": [],
   "source": [
    "param_grid_nb = {\n",
    "    'var_smoothing': np.logspace(0,-9, num=100)\n",
    "}"
   ]
  },
  {
   "cell_type": "code",
   "execution_count": null,
   "id": "686e6c4c",
   "metadata": {},
   "outputs": [],
   "source": [
    "from sklearn.naive_bayes import GaussianNB\n",
    "from sklearn.model_selection import GridSearchCV\n",
    "nbModel_grid = GridSearchCV(estimator=GaussianNB(),\n",
    "                            param_grid=param_grid_nb, \n",
    "                            scoring = 'f1',\n",
    "                            verbose=1, \n",
    "                            cv=5, \n",
    "                            n_jobs=-1)"
   ]
  },
  {
   "cell_type": "code",
   "execution_count": null,
   "id": "86e9f11b",
   "metadata": {},
   "outputs": [],
   "source": [
    "nbModel_grid.fit(X_train, y_train)"
   ]
  },
  {
   "cell_type": "code",
   "execution_count": null,
   "id": "6046099b",
   "metadata": {},
   "outputs": [],
   "source": [
    "print(nbModel_grid.best_estimator_)"
   ]
  },
  {
   "cell_type": "code",
   "execution_count": null,
   "id": "2383869a",
   "metadata": {},
   "outputs": [],
   "source": [
    "print('Best Score: ', nbModel_grid.best_score_)"
   ]
  },
  {
   "cell_type": "code",
   "execution_count": null,
   "id": "9f71560a",
   "metadata": {},
   "outputs": [],
   "source": [
    "print('Best Params: ', nbModel_grid.best_params_)"
   ]
  },
  {
   "cell_type": "code",
   "execution_count": null,
   "id": "204a9721",
   "metadata": {},
   "outputs": [],
   "source": [
    "model = GaussianNB(var_smoothing=0.002848035868435802)"
   ]
  },
  {
   "cell_type": "code",
   "execution_count": null,
   "id": "7bb1d2f5",
   "metadata": {},
   "outputs": [],
   "source": [
    "model.fit(X_train1,y_train1)\n",
    "y_pred=model.predict(X_test1)"
   ]
  },
  {
   "cell_type": "code",
   "execution_count": null,
   "id": "e8894513",
   "metadata": {},
   "outputs": [],
   "source": [
    "met(model,X_train1,y_train1,X_test1,y_test1)"
   ]
  },
  {
   "cell_type": "code",
   "execution_count": null,
   "id": "d8841d21",
   "metadata": {},
   "outputs": [],
   "source": []
  },
  {
   "cell_type": "code",
   "execution_count": null,
   "id": "215d7db1",
   "metadata": {},
   "outputs": [],
   "source": []
  },
  {
   "cell_type": "code",
   "execution_count": null,
   "id": "1407f0e7",
   "metadata": {},
   "outputs": [],
   "source": []
  },
  {
   "cell_type": "code",
   "execution_count": 37,
   "id": "e8ee39c4",
   "metadata": {},
   "outputs": [],
   "source": [
    "del(X_train1['job'])\n",
    "del(X_train1['marital'])\n",
    "del(X_train1['education'])\n",
    "del(X_train1['default'])\n",
    "del(X_train1['housing'])\n",
    "del(X_train1['campaign'])\n",
    "del(X_train1['pdays'])\n",
    "del(X_train1['previous'])\n",
    "del(X_train1['loan'])"
   ]
  },
  {
   "cell_type": "code",
   "execution_count": 33,
   "id": "dcb81c50",
   "metadata": {},
   "outputs": [],
   "source": [
    "del(X_test1['job'])\n",
    "del(X_test1['marital'])\n",
    "del(X_test1['education'])\n",
    "del(X_test1['default'])\n",
    "del(X_test1['housing'])\n",
    "del(X_test1['campaign'])\n",
    "del(X_test1['pdays'])\n",
    "del(X_test1['previous'])\n",
    "del(X_test1['loan'])"
   ]
  },
  {
   "cell_type": "code",
   "execution_count": 43,
   "id": "98bc41eb",
   "metadata": {},
   "outputs": [],
   "source": [
    "y_predict= rfc.predict(X_test1)"
   ]
  },
  {
   "cell_type": "code",
   "execution_count": 45,
   "id": "9584ec1a",
   "metadata": {},
   "outputs": [],
   "source": [
    "# Using pickle to link with the html page\n",
    "import pickle\n",
    "pickle.dump(rfc,open('output.pkl','wb'))\n",
    "model=pickle.load(open('output.pkl','rb'))"
   ]
  },
  {
   "cell_type": "code",
   "execution_count": null,
   "id": "a5b06cc0",
   "metadata": {},
   "outputs": [],
   "source": []
  },
  {
   "cell_type": "code",
   "execution_count": null,
   "id": "864bacda",
   "metadata": {},
   "outputs": [],
   "source": []
  },
  {
   "cell_type": "markdown",
   "id": "kLOHbdfpg0fh",
   "metadata": {
    "id": "kLOHbdfpg0fh"
   },
   "source": [
    "# THE END"
   ]
  },
  {
   "cell_type": "markdown",
   "id": "34b8e21f",
   "metadata": {
    "id": "34b8e21f"
   },
   "source": [
    "## 5. HTML Page"
   ]
  },
  {
   "cell_type": "markdown",
   "id": "2cedcbaa",
   "metadata": {
    "id": "2cedcbaa"
   },
   "source": [
    "The below html page can take values like:\n",
    "1. \"age\" : Any values\n",
    "\n",
    "2. \"job\" : {\n",
    "            'unemployed'    :0,\n",
    "            'unknown'       :1,\n",
    "            'student'       :2,\n",
    "            'housemaid'     :3,\n",
    "            'blue-collar'   :4,\n",
    "            'technician'    :5,\n",
    "            'services'      :6,\n",
    "            'retired'       :7,\n",
    "            'admin'         :8,\n",
    "            'self-employed' :9,\n",
    "            'entrepreneur'  :10,\n",
    "            'management'    :11\n",
    "           } \n",
    "            \n",
    "3. \"marital\": {\n",
    "               'single'   :0,\n",
    "               'divorced' :1,\n",
    "               'married'  :2\n",
    "              }\n",
    "               \n",
    "4. \"education\" : {\n",
    "                  'unknown'   :0,\n",
    "                  'primary'   :1,\n",
    "                  'secondary' :2,\n",
    "                  'tertiary'  :3\n",
    "                 }\n",
    "                  \n",
    "5. \"default\" : { \n",
    "                 'yes' : 1,\n",
    "                 'no'  : 0\n",
    "               }\n",
    "                 \n",
    "6. \"balance\" : Any Values\n",
    "\n",
    "7. \"housing\" : { \n",
    "                 'yes' : 1,\n",
    "                 'no'  : 0\n",
    "               }\n",
    "               \n",
    "8. \"loan\" : { \n",
    "                 'yes' : 1,\n",
    "                 'no'  : 0\n",
    "            }\n",
    "   \n",
    "9. \"duration\" : Any values (in sec)\n",
    "\n",
    "10. \"campaign\" : Any value\n",
    "\n",
    "11. \"pdays\" : Any value\n",
    "\n",
    "12. \"previous\" : Any value\n",
    "\n",
    "13. \"poutcome\" : {\n",
    "                   'failure'  :0,\n",
    "                   'other'    :1,\n",
    "                   'unknown'  :2,\n",
    "                   'success'  :3\n",
    "                   \n",
    "                  } \t"
   ]
  },
  {
   "cell_type": "code",
   "execution_count": null,
   "id": "ab925641",
   "metadata": {
    "id": "ab925641"
   },
   "outputs": [],
   "source": [
    "from IPython.display import Image\n",
    "Image(\"Desktop/2.png\")"
   ]
  },
  {
   "cell_type": "code",
   "execution_count": null,
   "id": "02174687",
   "metadata": {
    "id": "02174687"
   },
   "outputs": [],
   "source": [
    "from IPython.display import Image\n",
    "Image(\"Desktop/1.png\")"
   ]
  },
  {
   "cell_type": "code",
   "execution_count": null,
   "id": "b50f1a51",
   "metadata": {
    "id": "b50f1a51"
   },
   "outputs": [],
   "source": [
    "from IPython.display import Image\n",
    "Image(\"Desktop/0.png\")"
   ]
  }
 ],
 "metadata": {
  "accelerator": "GPU",
  "colab": {
   "name": "Confused_Trio.ipynb",
   "provenance": []
  },
  "kernelspec": {
   "display_name": "Python 3",
   "language": "python",
   "name": "python3"
  },
  "language_info": {
   "codemirror_mode": {
    "name": "ipython",
    "version": 3
   },
   "file_extension": ".py",
   "mimetype": "text/x-python",
   "name": "python",
   "nbconvert_exporter": "python",
   "pygments_lexer": "ipython3",
   "version": "3.8.8"
  }
 },
 "nbformat": 4,
 "nbformat_minor": 5
}
