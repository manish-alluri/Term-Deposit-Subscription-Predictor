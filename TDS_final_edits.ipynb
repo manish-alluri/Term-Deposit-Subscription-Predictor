{
 "cells": [
  {
   "cell_type": "markdown",
   "id": "0450d4bf",
   "metadata": {
    "id": "0450d4bf"
   },
   "source": [
    "## 1. Data Pre-processing"
   ]
  },
  {
   "cell_type": "code",
   "execution_count": 1,
   "id": "3BZ_0n4LqR8H",
   "metadata": {
    "colab": {
     "base_uri": "https://localhost:8080/"
    },
    "id": "3BZ_0n4LqR8H",
    "outputId": "b52ff29f-bea4-4686-de19-0153638a67c6"
   },
   "outputs": [],
   "source": [
    "# !pip install category_encoders"
   ]
  },
  {
   "cell_type": "code",
   "execution_count": 2,
   "id": "35b1b7e5",
   "metadata": {
    "colab": {
     "base_uri": "https://localhost:8080/"
    },
    "id": "35b1b7e5",
    "outputId": "3c2f6b17-da78-425d-b40f-071dbcc638c0"
   },
   "outputs": [],
   "source": [
    "# !pip install imbalanced-learn"
   ]
  },
  {
   "cell_type": "code",
   "execution_count": 2,
   "id": "d3f9961a",
   "metadata": {
    "id": "d3f9961a"
   },
   "outputs": [],
   "source": [
    "\n",
    "# from sklearn.ensemble import RandomForestClassifier\n",
    "# from sklearn.neighbors import KNeighborsClassifier\n",
    "# from sklearn.svm import SVC, LinearSVC, NuSVC\n",
    "# from sklearn.discriminant_analysis import LinearDiscriminantAnalysis\n",
    "# from sklearn.discriminant_analysis import QuadraticDiscriminantAnalysis\n",
    "# from sklearn.metrics import accuracy_score, , log_loss\n",
    "# from sklearn.metrics import classification_report,confusion_matrix, precision_recall_fscore_support \n",
    "# from sklearn.svm import SVC\n",
    "# from sklearn import svm\n",
    "# from sklearn.metrics import confusion_matrix\n",
    "#from xgboost import XGBClassifier\n",
    "# from sklearn.metrics import roc_auc_score\n",
    "# from sklearn.metrics import log_loss"
   ]
  },
  {
   "cell_type": "code",
   "execution_count": 1,
   "id": "fa580d85",
   "metadata": {
    "colab": {
     "base_uri": "https://localhost:8080/"
    },
    "id": "fa580d85",
    "outputId": "49565794-827b-442c-9e2c-4d67dd6df251"
   },
   "outputs": [],
   "source": [
    "# Importing the required libraries\n",
    "import pandas as pd\n",
    "import numpy as np\n",
    "import seaborn as sns\n",
    "import category_encoders as ce\n",
    "from sklearn.model_selection import train_test_split, GridSearchCV\n",
    "from sklearn.metrics import roc_curve, roc_auc_score, auc, confusion_matrix, classification_report,accuracy_score, log_loss,precision_score, f1_score\n",
    "from sklearn.tree import DecisionTreeClassifier\n",
    "from sklearn.ensemble import RandomForestClassifier, GradientBoostingClassifier\n",
    "from sklearn.naive_bayes import GaussianNB\n",
    "from sklearn.linear_model import LogisticRegression\n",
    "import matplotlib.pyplot as plt\n",
    "%matplotlib inline"
   ]
  },
  {
   "cell_type": "code",
   "execution_count": 4,
   "id": "e1017cc2",
   "metadata": {
    "id": "e1017cc2"
   },
   "outputs": [],
   "source": [
    "# Reading the csv file\n",
    "df = pd.read_csv(\"bank-full.csv\",sep=';')"
   ]
  },
  {
   "cell_type": "code",
   "execution_count": 5,
   "id": "f5b1be9d",
   "metadata": {
    "colab": {
     "base_uri": "https://localhost:8080/",
     "height": 423
    },
    "id": "f5b1be9d",
    "outputId": "ee06a424-79bc-416b-e18f-bbf09fb652e1"
   },
   "outputs": [
    {
     "data": {
      "text/html": [
       "<div>\n",
       "<style scoped>\n",
       "    .dataframe tbody tr th:only-of-type {\n",
       "        vertical-align: middle;\n",
       "    }\n",
       "\n",
       "    .dataframe tbody tr th {\n",
       "        vertical-align: top;\n",
       "    }\n",
       "\n",
       "    .dataframe thead th {\n",
       "        text-align: right;\n",
       "    }\n",
       "</style>\n",
       "<table border=\"1\" class=\"dataframe\">\n",
       "  <thead>\n",
       "    <tr style=\"text-align: right;\">\n",
       "      <th></th>\n",
       "      <th>age</th>\n",
       "      <th>job</th>\n",
       "      <th>marital</th>\n",
       "      <th>education</th>\n",
       "      <th>default</th>\n",
       "      <th>balance</th>\n",
       "      <th>housing</th>\n",
       "      <th>loan</th>\n",
       "      <th>contact</th>\n",
       "      <th>day</th>\n",
       "      <th>month</th>\n",
       "      <th>duration</th>\n",
       "      <th>campaign</th>\n",
       "      <th>pdays</th>\n",
       "      <th>previous</th>\n",
       "      <th>poutcome</th>\n",
       "      <th>y</th>\n",
       "    </tr>\n",
       "  </thead>\n",
       "  <tbody>\n",
       "    <tr>\n",
       "      <th>0</th>\n",
       "      <td>58</td>\n",
       "      <td>management</td>\n",
       "      <td>married</td>\n",
       "      <td>tertiary</td>\n",
       "      <td>no</td>\n",
       "      <td>2143</td>\n",
       "      <td>yes</td>\n",
       "      <td>no</td>\n",
       "      <td>unknown</td>\n",
       "      <td>5</td>\n",
       "      <td>may</td>\n",
       "      <td>261</td>\n",
       "      <td>1</td>\n",
       "      <td>-1</td>\n",
       "      <td>0</td>\n",
       "      <td>unknown</td>\n",
       "      <td>no</td>\n",
       "    </tr>\n",
       "    <tr>\n",
       "      <th>1</th>\n",
       "      <td>44</td>\n",
       "      <td>technician</td>\n",
       "      <td>single</td>\n",
       "      <td>secondary</td>\n",
       "      <td>no</td>\n",
       "      <td>29</td>\n",
       "      <td>yes</td>\n",
       "      <td>no</td>\n",
       "      <td>unknown</td>\n",
       "      <td>5</td>\n",
       "      <td>may</td>\n",
       "      <td>151</td>\n",
       "      <td>1</td>\n",
       "      <td>-1</td>\n",
       "      <td>0</td>\n",
       "      <td>unknown</td>\n",
       "      <td>no</td>\n",
       "    </tr>\n",
       "    <tr>\n",
       "      <th>2</th>\n",
       "      <td>33</td>\n",
       "      <td>entrepreneur</td>\n",
       "      <td>married</td>\n",
       "      <td>secondary</td>\n",
       "      <td>no</td>\n",
       "      <td>2</td>\n",
       "      <td>yes</td>\n",
       "      <td>yes</td>\n",
       "      <td>unknown</td>\n",
       "      <td>5</td>\n",
       "      <td>may</td>\n",
       "      <td>76</td>\n",
       "      <td>1</td>\n",
       "      <td>-1</td>\n",
       "      <td>0</td>\n",
       "      <td>unknown</td>\n",
       "      <td>no</td>\n",
       "    </tr>\n",
       "    <tr>\n",
       "      <th>3</th>\n",
       "      <td>47</td>\n",
       "      <td>blue-collar</td>\n",
       "      <td>married</td>\n",
       "      <td>unknown</td>\n",
       "      <td>no</td>\n",
       "      <td>1506</td>\n",
       "      <td>yes</td>\n",
       "      <td>no</td>\n",
       "      <td>unknown</td>\n",
       "      <td>5</td>\n",
       "      <td>may</td>\n",
       "      <td>92</td>\n",
       "      <td>1</td>\n",
       "      <td>-1</td>\n",
       "      <td>0</td>\n",
       "      <td>unknown</td>\n",
       "      <td>no</td>\n",
       "    </tr>\n",
       "    <tr>\n",
       "      <th>4</th>\n",
       "      <td>33</td>\n",
       "      <td>unknown</td>\n",
       "      <td>single</td>\n",
       "      <td>unknown</td>\n",
       "      <td>no</td>\n",
       "      <td>1</td>\n",
       "      <td>no</td>\n",
       "      <td>no</td>\n",
       "      <td>unknown</td>\n",
       "      <td>5</td>\n",
       "      <td>may</td>\n",
       "      <td>198</td>\n",
       "      <td>1</td>\n",
       "      <td>-1</td>\n",
       "      <td>0</td>\n",
       "      <td>unknown</td>\n",
       "      <td>no</td>\n",
       "    </tr>\n",
       "    <tr>\n",
       "      <th>...</th>\n",
       "      <td>...</td>\n",
       "      <td>...</td>\n",
       "      <td>...</td>\n",
       "      <td>...</td>\n",
       "      <td>...</td>\n",
       "      <td>...</td>\n",
       "      <td>...</td>\n",
       "      <td>...</td>\n",
       "      <td>...</td>\n",
       "      <td>...</td>\n",
       "      <td>...</td>\n",
       "      <td>...</td>\n",
       "      <td>...</td>\n",
       "      <td>...</td>\n",
       "      <td>...</td>\n",
       "      <td>...</td>\n",
       "      <td>...</td>\n",
       "    </tr>\n",
       "    <tr>\n",
       "      <th>45206</th>\n",
       "      <td>51</td>\n",
       "      <td>technician</td>\n",
       "      <td>married</td>\n",
       "      <td>tertiary</td>\n",
       "      <td>no</td>\n",
       "      <td>825</td>\n",
       "      <td>no</td>\n",
       "      <td>no</td>\n",
       "      <td>cellular</td>\n",
       "      <td>17</td>\n",
       "      <td>nov</td>\n",
       "      <td>977</td>\n",
       "      <td>3</td>\n",
       "      <td>-1</td>\n",
       "      <td>0</td>\n",
       "      <td>unknown</td>\n",
       "      <td>yes</td>\n",
       "    </tr>\n",
       "    <tr>\n",
       "      <th>45207</th>\n",
       "      <td>71</td>\n",
       "      <td>retired</td>\n",
       "      <td>divorced</td>\n",
       "      <td>primary</td>\n",
       "      <td>no</td>\n",
       "      <td>1729</td>\n",
       "      <td>no</td>\n",
       "      <td>no</td>\n",
       "      <td>cellular</td>\n",
       "      <td>17</td>\n",
       "      <td>nov</td>\n",
       "      <td>456</td>\n",
       "      <td>2</td>\n",
       "      <td>-1</td>\n",
       "      <td>0</td>\n",
       "      <td>unknown</td>\n",
       "      <td>yes</td>\n",
       "    </tr>\n",
       "    <tr>\n",
       "      <th>45208</th>\n",
       "      <td>72</td>\n",
       "      <td>retired</td>\n",
       "      <td>married</td>\n",
       "      <td>secondary</td>\n",
       "      <td>no</td>\n",
       "      <td>5715</td>\n",
       "      <td>no</td>\n",
       "      <td>no</td>\n",
       "      <td>cellular</td>\n",
       "      <td>17</td>\n",
       "      <td>nov</td>\n",
       "      <td>1127</td>\n",
       "      <td>5</td>\n",
       "      <td>184</td>\n",
       "      <td>3</td>\n",
       "      <td>success</td>\n",
       "      <td>yes</td>\n",
       "    </tr>\n",
       "    <tr>\n",
       "      <th>45209</th>\n",
       "      <td>57</td>\n",
       "      <td>blue-collar</td>\n",
       "      <td>married</td>\n",
       "      <td>secondary</td>\n",
       "      <td>no</td>\n",
       "      <td>668</td>\n",
       "      <td>no</td>\n",
       "      <td>no</td>\n",
       "      <td>telephone</td>\n",
       "      <td>17</td>\n",
       "      <td>nov</td>\n",
       "      <td>508</td>\n",
       "      <td>4</td>\n",
       "      <td>-1</td>\n",
       "      <td>0</td>\n",
       "      <td>unknown</td>\n",
       "      <td>no</td>\n",
       "    </tr>\n",
       "    <tr>\n",
       "      <th>45210</th>\n",
       "      <td>37</td>\n",
       "      <td>entrepreneur</td>\n",
       "      <td>married</td>\n",
       "      <td>secondary</td>\n",
       "      <td>no</td>\n",
       "      <td>2971</td>\n",
       "      <td>no</td>\n",
       "      <td>no</td>\n",
       "      <td>cellular</td>\n",
       "      <td>17</td>\n",
       "      <td>nov</td>\n",
       "      <td>361</td>\n",
       "      <td>2</td>\n",
       "      <td>188</td>\n",
       "      <td>11</td>\n",
       "      <td>other</td>\n",
       "      <td>no</td>\n",
       "    </tr>\n",
       "  </tbody>\n",
       "</table>\n",
       "<p>45211 rows × 17 columns</p>\n",
       "</div>"
      ],
      "text/plain": [
       "       age           job   marital  education default  balance housing loan  \\\n",
       "0       58    management   married   tertiary      no     2143     yes   no   \n",
       "1       44    technician    single  secondary      no       29     yes   no   \n",
       "2       33  entrepreneur   married  secondary      no        2     yes  yes   \n",
       "3       47   blue-collar   married    unknown      no     1506     yes   no   \n",
       "4       33       unknown    single    unknown      no        1      no   no   \n",
       "...    ...           ...       ...        ...     ...      ...     ...  ...   \n",
       "45206   51    technician   married   tertiary      no      825      no   no   \n",
       "45207   71       retired  divorced    primary      no     1729      no   no   \n",
       "45208   72       retired   married  secondary      no     5715      no   no   \n",
       "45209   57   blue-collar   married  secondary      no      668      no   no   \n",
       "45210   37  entrepreneur   married  secondary      no     2971      no   no   \n",
       "\n",
       "         contact  day month  duration  campaign  pdays  previous poutcome    y  \n",
       "0        unknown    5   may       261         1     -1         0  unknown   no  \n",
       "1        unknown    5   may       151         1     -1         0  unknown   no  \n",
       "2        unknown    5   may        76         1     -1         0  unknown   no  \n",
       "3        unknown    5   may        92         1     -1         0  unknown   no  \n",
       "4        unknown    5   may       198         1     -1         0  unknown   no  \n",
       "...          ...  ...   ...       ...       ...    ...       ...      ...  ...  \n",
       "45206   cellular   17   nov       977         3     -1         0  unknown  yes  \n",
       "45207   cellular   17   nov       456         2     -1         0  unknown  yes  \n",
       "45208   cellular   17   nov      1127         5    184         3  success  yes  \n",
       "45209  telephone   17   nov       508         4     -1         0  unknown   no  \n",
       "45210   cellular   17   nov       361         2    188        11    other   no  \n",
       "\n",
       "[45211 rows x 17 columns]"
      ]
     },
     "execution_count": 5,
     "metadata": {},
     "output_type": "execute_result"
    }
   ],
   "source": [
    "# The Data\n",
    "df"
   ]
  },
  {
   "cell_type": "code",
   "execution_count": 6,
   "id": "d0e9f78f",
   "metadata": {
    "colab": {
     "base_uri": "https://localhost:8080/"
    },
    "id": "d0e9f78f",
    "outputId": "35f4f2cf-93c4-4808-fa01-87d5860c6bac"
   },
   "outputs": [
    {
     "data": {
      "text/plain": [
       "age          False\n",
       "job          False\n",
       "marital      False\n",
       "education    False\n",
       "default      False\n",
       "balance      False\n",
       "housing      False\n",
       "loan         False\n",
       "contact      False\n",
       "day          False\n",
       "month        False\n",
       "duration     False\n",
       "campaign     False\n",
       "pdays        False\n",
       "previous     False\n",
       "poutcome     False\n",
       "y            False\n",
       "dtype: bool"
      ]
     },
     "execution_count": 6,
     "metadata": {},
     "output_type": "execute_result"
    }
   ],
   "source": [
    "# Checking for null values\n",
    "df.isnull().any()"
   ]
  },
  {
   "cell_type": "code",
   "execution_count": 7,
   "id": "818e5d16",
   "metadata": {
    "id": "818e5d16"
   },
   "outputs": [],
   "source": [
    "# Replacing yes with 1 and no with 0\n",
    "\n",
    "df.y = df.y.eq('yes').mul(1)\n",
    "df.default = df.default.eq('no').mul(1) #NO default said yes, no =1, yes = 0\n",
    "df.loan = df.loan.eq('no').mul(1) #NO loan said yes, no =1, yes = 0\n",
    "\n",
    "df.housing = df.housing.eq('no').mul(1) #No housing said yes, no=1, yes = 0\n"
   ]
  },
  {
   "cell_type": "code",
   "execution_count": 8,
   "id": "2c2a928f",
   "metadata": {},
   "outputs": [
    {
     "data": {
      "text/html": [
       "<div>\n",
       "<style scoped>\n",
       "    .dataframe tbody tr th:only-of-type {\n",
       "        vertical-align: middle;\n",
       "    }\n",
       "\n",
       "    .dataframe tbody tr th {\n",
       "        vertical-align: top;\n",
       "    }\n",
       "\n",
       "    .dataframe thead th {\n",
       "        text-align: right;\n",
       "    }\n",
       "</style>\n",
       "<table border=\"1\" class=\"dataframe\">\n",
       "  <thead>\n",
       "    <tr style=\"text-align: right;\">\n",
       "      <th></th>\n",
       "      <th>age</th>\n",
       "      <th>job</th>\n",
       "      <th>marital</th>\n",
       "      <th>education</th>\n",
       "      <th>default</th>\n",
       "      <th>balance</th>\n",
       "      <th>housing</th>\n",
       "      <th>loan</th>\n",
       "      <th>contact</th>\n",
       "      <th>day</th>\n",
       "      <th>month</th>\n",
       "      <th>duration</th>\n",
       "      <th>campaign</th>\n",
       "      <th>pdays</th>\n",
       "      <th>previous</th>\n",
       "      <th>poutcome</th>\n",
       "      <th>y</th>\n",
       "    </tr>\n",
       "  </thead>\n",
       "  <tbody>\n",
       "    <tr>\n",
       "      <th>0</th>\n",
       "      <td>58</td>\n",
       "      <td>management</td>\n",
       "      <td>married</td>\n",
       "      <td>tertiary</td>\n",
       "      <td>1</td>\n",
       "      <td>2143</td>\n",
       "      <td>0</td>\n",
       "      <td>1</td>\n",
       "      <td>unknown</td>\n",
       "      <td>5</td>\n",
       "      <td>may</td>\n",
       "      <td>261</td>\n",
       "      <td>1</td>\n",
       "      <td>-1</td>\n",
       "      <td>0</td>\n",
       "      <td>unknown</td>\n",
       "      <td>0</td>\n",
       "    </tr>\n",
       "    <tr>\n",
       "      <th>1</th>\n",
       "      <td>44</td>\n",
       "      <td>technician</td>\n",
       "      <td>single</td>\n",
       "      <td>secondary</td>\n",
       "      <td>1</td>\n",
       "      <td>29</td>\n",
       "      <td>0</td>\n",
       "      <td>1</td>\n",
       "      <td>unknown</td>\n",
       "      <td>5</td>\n",
       "      <td>may</td>\n",
       "      <td>151</td>\n",
       "      <td>1</td>\n",
       "      <td>-1</td>\n",
       "      <td>0</td>\n",
       "      <td>unknown</td>\n",
       "      <td>0</td>\n",
       "    </tr>\n",
       "    <tr>\n",
       "      <th>2</th>\n",
       "      <td>33</td>\n",
       "      <td>entrepreneur</td>\n",
       "      <td>married</td>\n",
       "      <td>secondary</td>\n",
       "      <td>1</td>\n",
       "      <td>2</td>\n",
       "      <td>0</td>\n",
       "      <td>0</td>\n",
       "      <td>unknown</td>\n",
       "      <td>5</td>\n",
       "      <td>may</td>\n",
       "      <td>76</td>\n",
       "      <td>1</td>\n",
       "      <td>-1</td>\n",
       "      <td>0</td>\n",
       "      <td>unknown</td>\n",
       "      <td>0</td>\n",
       "    </tr>\n",
       "    <tr>\n",
       "      <th>3</th>\n",
       "      <td>47</td>\n",
       "      <td>blue-collar</td>\n",
       "      <td>married</td>\n",
       "      <td>unknown</td>\n",
       "      <td>1</td>\n",
       "      <td>1506</td>\n",
       "      <td>0</td>\n",
       "      <td>1</td>\n",
       "      <td>unknown</td>\n",
       "      <td>5</td>\n",
       "      <td>may</td>\n",
       "      <td>92</td>\n",
       "      <td>1</td>\n",
       "      <td>-1</td>\n",
       "      <td>0</td>\n",
       "      <td>unknown</td>\n",
       "      <td>0</td>\n",
       "    </tr>\n",
       "    <tr>\n",
       "      <th>4</th>\n",
       "      <td>33</td>\n",
       "      <td>unknown</td>\n",
       "      <td>single</td>\n",
       "      <td>unknown</td>\n",
       "      <td>1</td>\n",
       "      <td>1</td>\n",
       "      <td>1</td>\n",
       "      <td>1</td>\n",
       "      <td>unknown</td>\n",
       "      <td>5</td>\n",
       "      <td>may</td>\n",
       "      <td>198</td>\n",
       "      <td>1</td>\n",
       "      <td>-1</td>\n",
       "      <td>0</td>\n",
       "      <td>unknown</td>\n",
       "      <td>0</td>\n",
       "    </tr>\n",
       "    <tr>\n",
       "      <th>...</th>\n",
       "      <td>...</td>\n",
       "      <td>...</td>\n",
       "      <td>...</td>\n",
       "      <td>...</td>\n",
       "      <td>...</td>\n",
       "      <td>...</td>\n",
       "      <td>...</td>\n",
       "      <td>...</td>\n",
       "      <td>...</td>\n",
       "      <td>...</td>\n",
       "      <td>...</td>\n",
       "      <td>...</td>\n",
       "      <td>...</td>\n",
       "      <td>...</td>\n",
       "      <td>...</td>\n",
       "      <td>...</td>\n",
       "      <td>...</td>\n",
       "    </tr>\n",
       "    <tr>\n",
       "      <th>45206</th>\n",
       "      <td>51</td>\n",
       "      <td>technician</td>\n",
       "      <td>married</td>\n",
       "      <td>tertiary</td>\n",
       "      <td>1</td>\n",
       "      <td>825</td>\n",
       "      <td>1</td>\n",
       "      <td>1</td>\n",
       "      <td>cellular</td>\n",
       "      <td>17</td>\n",
       "      <td>nov</td>\n",
       "      <td>977</td>\n",
       "      <td>3</td>\n",
       "      <td>-1</td>\n",
       "      <td>0</td>\n",
       "      <td>unknown</td>\n",
       "      <td>1</td>\n",
       "    </tr>\n",
       "    <tr>\n",
       "      <th>45207</th>\n",
       "      <td>71</td>\n",
       "      <td>retired</td>\n",
       "      <td>divorced</td>\n",
       "      <td>primary</td>\n",
       "      <td>1</td>\n",
       "      <td>1729</td>\n",
       "      <td>1</td>\n",
       "      <td>1</td>\n",
       "      <td>cellular</td>\n",
       "      <td>17</td>\n",
       "      <td>nov</td>\n",
       "      <td>456</td>\n",
       "      <td>2</td>\n",
       "      <td>-1</td>\n",
       "      <td>0</td>\n",
       "      <td>unknown</td>\n",
       "      <td>1</td>\n",
       "    </tr>\n",
       "    <tr>\n",
       "      <th>45208</th>\n",
       "      <td>72</td>\n",
       "      <td>retired</td>\n",
       "      <td>married</td>\n",
       "      <td>secondary</td>\n",
       "      <td>1</td>\n",
       "      <td>5715</td>\n",
       "      <td>1</td>\n",
       "      <td>1</td>\n",
       "      <td>cellular</td>\n",
       "      <td>17</td>\n",
       "      <td>nov</td>\n",
       "      <td>1127</td>\n",
       "      <td>5</td>\n",
       "      <td>184</td>\n",
       "      <td>3</td>\n",
       "      <td>success</td>\n",
       "      <td>1</td>\n",
       "    </tr>\n",
       "    <tr>\n",
       "      <th>45209</th>\n",
       "      <td>57</td>\n",
       "      <td>blue-collar</td>\n",
       "      <td>married</td>\n",
       "      <td>secondary</td>\n",
       "      <td>1</td>\n",
       "      <td>668</td>\n",
       "      <td>1</td>\n",
       "      <td>1</td>\n",
       "      <td>telephone</td>\n",
       "      <td>17</td>\n",
       "      <td>nov</td>\n",
       "      <td>508</td>\n",
       "      <td>4</td>\n",
       "      <td>-1</td>\n",
       "      <td>0</td>\n",
       "      <td>unknown</td>\n",
       "      <td>0</td>\n",
       "    </tr>\n",
       "    <tr>\n",
       "      <th>45210</th>\n",
       "      <td>37</td>\n",
       "      <td>entrepreneur</td>\n",
       "      <td>married</td>\n",
       "      <td>secondary</td>\n",
       "      <td>1</td>\n",
       "      <td>2971</td>\n",
       "      <td>1</td>\n",
       "      <td>1</td>\n",
       "      <td>cellular</td>\n",
       "      <td>17</td>\n",
       "      <td>nov</td>\n",
       "      <td>361</td>\n",
       "      <td>2</td>\n",
       "      <td>188</td>\n",
       "      <td>11</td>\n",
       "      <td>other</td>\n",
       "      <td>0</td>\n",
       "    </tr>\n",
       "  </tbody>\n",
       "</table>\n",
       "<p>45211 rows × 17 columns</p>\n",
       "</div>"
      ],
      "text/plain": [
       "       age           job   marital  education  default  balance  housing  \\\n",
       "0       58    management   married   tertiary        1     2143        0   \n",
       "1       44    technician    single  secondary        1       29        0   \n",
       "2       33  entrepreneur   married  secondary        1        2        0   \n",
       "3       47   blue-collar   married    unknown        1     1506        0   \n",
       "4       33       unknown    single    unknown        1        1        1   \n",
       "...    ...           ...       ...        ...      ...      ...      ...   \n",
       "45206   51    technician   married   tertiary        1      825        1   \n",
       "45207   71       retired  divorced    primary        1     1729        1   \n",
       "45208   72       retired   married  secondary        1     5715        1   \n",
       "45209   57   blue-collar   married  secondary        1      668        1   \n",
       "45210   37  entrepreneur   married  secondary        1     2971        1   \n",
       "\n",
       "       loan    contact  day month  duration  campaign  pdays  previous  \\\n",
       "0         1    unknown    5   may       261         1     -1         0   \n",
       "1         1    unknown    5   may       151         1     -1         0   \n",
       "2         0    unknown    5   may        76         1     -1         0   \n",
       "3         1    unknown    5   may        92         1     -1         0   \n",
       "4         1    unknown    5   may       198         1     -1         0   \n",
       "...     ...        ...  ...   ...       ...       ...    ...       ...   \n",
       "45206     1   cellular   17   nov       977         3     -1         0   \n",
       "45207     1   cellular   17   nov       456         2     -1         0   \n",
       "45208     1   cellular   17   nov      1127         5    184         3   \n",
       "45209     1  telephone   17   nov       508         4     -1         0   \n",
       "45210     1   cellular   17   nov       361         2    188        11   \n",
       "\n",
       "      poutcome  y  \n",
       "0      unknown  0  \n",
       "1      unknown  0  \n",
       "2      unknown  0  \n",
       "3      unknown  0  \n",
       "4      unknown  0  \n",
       "...        ... ..  \n",
       "45206  unknown  1  \n",
       "45207  unknown  1  \n",
       "45208  success  1  \n",
       "45209  unknown  0  \n",
       "45210    other  0  \n",
       "\n",
       "[45211 rows x 17 columns]"
      ]
     },
     "execution_count": 8,
     "metadata": {},
     "output_type": "execute_result"
    }
   ],
   "source": [
    "df"
   ]
  },
  {
   "cell_type": "code",
   "execution_count": 9,
   "id": "583fada0",
   "metadata": {
    "id": "583fada0"
   },
   "outputs": [],
   "source": [
    "# Deleting the unwanted columns\n",
    "# del(df['contact'])\n",
    "# del(df['day'])\n",
    "# del(df['month'])\n",
    "# np.unique(df['housing'])"
   ]
  },
  {
   "cell_type": "markdown",
   "id": "788073d0",
   "metadata": {
    "id": "788073d0"
   },
   "source": [
    "## 2. Ordinal Encoding"
   ]
  },
  {
   "cell_type": "code",
   "execution_count": 10,
   "id": "4e9ac90e",
   "metadata": {},
   "outputs": [],
   "source": [
    "# Using Ordinal Encoding to convert categorical columns\n",
    "encoder= ce.OrdinalEncoder(cols=['contact'],return_df=True,\n",
    "                           mapping=[{'col':'contact',\n",
    "'mapping':{'cellular':2, 'telephone':0, 'unknown':1}}])"
   ]
  },
  {
   "cell_type": "code",
   "execution_count": 11,
   "id": "0668b489",
   "metadata": {},
   "outputs": [],
   "source": [
    "df[['contact']] = encoder.fit_transform(df[['contact']])"
   ]
  },
  {
   "cell_type": "code",
   "execution_count": 12,
   "id": "88341dec",
   "metadata": {},
   "outputs": [],
   "source": [
    "# Using Ordinal Encoding to convert categorical columns\n",
    "encoder= ce.OrdinalEncoder(cols=['month'],return_df=True,\n",
    "                           mapping=[{'col':'month',\n",
    "'mapping':{'apr':9, 'aug':11, 'dec':1, 'feb':7, 'jan':2, 'jul':10, 'jun':8, 'mar':3, 'may':12,\n",
    "       'nov':6, 'oct':5, 'sep':4}}])"
   ]
  },
  {
   "cell_type": "code",
   "execution_count": 13,
   "id": "8e47b13b",
   "metadata": {},
   "outputs": [],
   "source": [
    "df[['month']] = encoder.fit_transform(df[['month']])"
   ]
  },
  {
   "cell_type": "code",
   "execution_count": 14,
   "id": "c9f0ddd0",
   "metadata": {
    "id": "c9f0ddd0"
   },
   "outputs": [],
   "source": [
    "# Using Ordinal Encoding to convert categorical columns\n",
    "encoder= ce.OrdinalEncoder(cols=['job'],return_df=True,\n",
    "                           mapping=[{'col':'job',\n",
    "'mapping':{'unemployed':5,'unknown':0,'student':6,'housemaid':1,'blue-collar':10,'technician':11,'services':7,\n",
    "           'retired':8,'admin':9,'self-employed':4,'entrepreneur':3,'management':12}}])"
   ]
  },
  {
   "cell_type": "code",
   "execution_count": 15,
   "id": "37f9ee18",
   "metadata": {
    "id": "37f9ee18"
   },
   "outputs": [],
   "source": [
    "df[['job']] = encoder.fit_transform(df[['job']])"
   ]
  },
  {
   "cell_type": "code",
   "execution_count": 16,
   "id": "e5de5e02",
   "metadata": {
    "id": "e5de5e02"
   },
   "outputs": [],
   "source": [
    "# Using Ordinal Encoding to convert categorical columns\n",
    "encoder= ce.OrdinalEncoder(cols=['marital'],return_df=True,\n",
    "                           mapping=[{'col':'marital',\n",
    "'mapping':{'single':1,'divorced':0,'married':2}}])"
   ]
  },
  {
   "cell_type": "code",
   "execution_count": 17,
   "id": "6754c463",
   "metadata": {
    "id": "6754c463"
   },
   "outputs": [],
   "source": [
    "df[['marital']] = encoder.fit_transform(df[['marital']])"
   ]
  },
  {
   "cell_type": "code",
   "execution_count": 18,
   "id": "d673ded4",
   "metadata": {
    "id": "d673ded4"
   },
   "outputs": [],
   "source": [
    "# Using Ordinal Encoding to convert categorical columns\n",
    "encoder= ce.OrdinalEncoder(cols=['education'],return_df=True,\n",
    "                           mapping=[{'col':'education',\n",
    "'mapping':{'unknown':0,'primary':1,'secondary':3,'tertiary':2}}])"
   ]
  },
  {
   "cell_type": "code",
   "execution_count": 19,
   "id": "93d8779a",
   "metadata": {
    "id": "93d8779a"
   },
   "outputs": [],
   "source": [
    "df[['education']] = encoder.fit_transform(df[['education']])"
   ]
  },
  {
   "cell_type": "code",
   "execution_count": 20,
   "id": "be875de3",
   "metadata": {
    "id": "be875de3"
   },
   "outputs": [],
   "source": [
    "# Using Ordinal Encoding to convert categorical columns\n",
    "encoder= ce.OrdinalEncoder(cols=['poutcome'],return_df=True,\n",
    "                           mapping=[{'col':'poutcome',\n",
    "'mapping':{'failure':1,'other':0,'unknown':3,'success':2}}])"
   ]
  },
  {
   "cell_type": "code",
   "execution_count": 21,
   "id": "06cae376",
   "metadata": {
    "id": "06cae376"
   },
   "outputs": [],
   "source": [
    "df[['poutcome']] = encoder.fit_transform(df[['poutcome']])"
   ]
  },
  {
   "cell_type": "code",
   "execution_count": 22,
   "id": "f39f6bc7",
   "metadata": {
    "colab": {
     "base_uri": "https://localhost:8080/",
     "height": 423
    },
    "id": "f39f6bc7",
    "outputId": "ee9323fe-2e07-4692-edf9-021af52a73f9"
   },
   "outputs": [
    {
     "data": {
      "text/html": [
       "<div>\n",
       "<style scoped>\n",
       "    .dataframe tbody tr th:only-of-type {\n",
       "        vertical-align: middle;\n",
       "    }\n",
       "\n",
       "    .dataframe tbody tr th {\n",
       "        vertical-align: top;\n",
       "    }\n",
       "\n",
       "    .dataframe thead th {\n",
       "        text-align: right;\n",
       "    }\n",
       "</style>\n",
       "<table border=\"1\" class=\"dataframe\">\n",
       "  <thead>\n",
       "    <tr style=\"text-align: right;\">\n",
       "      <th></th>\n",
       "      <th>age</th>\n",
       "      <th>job</th>\n",
       "      <th>marital</th>\n",
       "      <th>education</th>\n",
       "      <th>default</th>\n",
       "      <th>balance</th>\n",
       "      <th>housing</th>\n",
       "      <th>loan</th>\n",
       "      <th>contact</th>\n",
       "      <th>day</th>\n",
       "      <th>month</th>\n",
       "      <th>duration</th>\n",
       "      <th>campaign</th>\n",
       "      <th>pdays</th>\n",
       "      <th>previous</th>\n",
       "      <th>poutcome</th>\n",
       "      <th>y</th>\n",
       "    </tr>\n",
       "  </thead>\n",
       "  <tbody>\n",
       "    <tr>\n",
       "      <th>0</th>\n",
       "      <td>58</td>\n",
       "      <td>12.0</td>\n",
       "      <td>2</td>\n",
       "      <td>2</td>\n",
       "      <td>1</td>\n",
       "      <td>2143</td>\n",
       "      <td>0</td>\n",
       "      <td>1</td>\n",
       "      <td>1</td>\n",
       "      <td>5</td>\n",
       "      <td>12</td>\n",
       "      <td>261</td>\n",
       "      <td>1</td>\n",
       "      <td>-1</td>\n",
       "      <td>0</td>\n",
       "      <td>3</td>\n",
       "      <td>0</td>\n",
       "    </tr>\n",
       "    <tr>\n",
       "      <th>1</th>\n",
       "      <td>44</td>\n",
       "      <td>11.0</td>\n",
       "      <td>1</td>\n",
       "      <td>3</td>\n",
       "      <td>1</td>\n",
       "      <td>29</td>\n",
       "      <td>0</td>\n",
       "      <td>1</td>\n",
       "      <td>1</td>\n",
       "      <td>5</td>\n",
       "      <td>12</td>\n",
       "      <td>151</td>\n",
       "      <td>1</td>\n",
       "      <td>-1</td>\n",
       "      <td>0</td>\n",
       "      <td>3</td>\n",
       "      <td>0</td>\n",
       "    </tr>\n",
       "    <tr>\n",
       "      <th>2</th>\n",
       "      <td>33</td>\n",
       "      <td>3.0</td>\n",
       "      <td>2</td>\n",
       "      <td>3</td>\n",
       "      <td>1</td>\n",
       "      <td>2</td>\n",
       "      <td>0</td>\n",
       "      <td>0</td>\n",
       "      <td>1</td>\n",
       "      <td>5</td>\n",
       "      <td>12</td>\n",
       "      <td>76</td>\n",
       "      <td>1</td>\n",
       "      <td>-1</td>\n",
       "      <td>0</td>\n",
       "      <td>3</td>\n",
       "      <td>0</td>\n",
       "    </tr>\n",
       "    <tr>\n",
       "      <th>3</th>\n",
       "      <td>47</td>\n",
       "      <td>10.0</td>\n",
       "      <td>2</td>\n",
       "      <td>0</td>\n",
       "      <td>1</td>\n",
       "      <td>1506</td>\n",
       "      <td>0</td>\n",
       "      <td>1</td>\n",
       "      <td>1</td>\n",
       "      <td>5</td>\n",
       "      <td>12</td>\n",
       "      <td>92</td>\n",
       "      <td>1</td>\n",
       "      <td>-1</td>\n",
       "      <td>0</td>\n",
       "      <td>3</td>\n",
       "      <td>0</td>\n",
       "    </tr>\n",
       "    <tr>\n",
       "      <th>4</th>\n",
       "      <td>33</td>\n",
       "      <td>0.0</td>\n",
       "      <td>1</td>\n",
       "      <td>0</td>\n",
       "      <td>1</td>\n",
       "      <td>1</td>\n",
       "      <td>1</td>\n",
       "      <td>1</td>\n",
       "      <td>1</td>\n",
       "      <td>5</td>\n",
       "      <td>12</td>\n",
       "      <td>198</td>\n",
       "      <td>1</td>\n",
       "      <td>-1</td>\n",
       "      <td>0</td>\n",
       "      <td>3</td>\n",
       "      <td>0</td>\n",
       "    </tr>\n",
       "    <tr>\n",
       "      <th>...</th>\n",
       "      <td>...</td>\n",
       "      <td>...</td>\n",
       "      <td>...</td>\n",
       "      <td>...</td>\n",
       "      <td>...</td>\n",
       "      <td>...</td>\n",
       "      <td>...</td>\n",
       "      <td>...</td>\n",
       "      <td>...</td>\n",
       "      <td>...</td>\n",
       "      <td>...</td>\n",
       "      <td>...</td>\n",
       "      <td>...</td>\n",
       "      <td>...</td>\n",
       "      <td>...</td>\n",
       "      <td>...</td>\n",
       "      <td>...</td>\n",
       "    </tr>\n",
       "    <tr>\n",
       "      <th>45206</th>\n",
       "      <td>51</td>\n",
       "      <td>11.0</td>\n",
       "      <td>2</td>\n",
       "      <td>2</td>\n",
       "      <td>1</td>\n",
       "      <td>825</td>\n",
       "      <td>1</td>\n",
       "      <td>1</td>\n",
       "      <td>2</td>\n",
       "      <td>17</td>\n",
       "      <td>6</td>\n",
       "      <td>977</td>\n",
       "      <td>3</td>\n",
       "      <td>-1</td>\n",
       "      <td>0</td>\n",
       "      <td>3</td>\n",
       "      <td>1</td>\n",
       "    </tr>\n",
       "    <tr>\n",
       "      <th>45207</th>\n",
       "      <td>71</td>\n",
       "      <td>8.0</td>\n",
       "      <td>0</td>\n",
       "      <td>1</td>\n",
       "      <td>1</td>\n",
       "      <td>1729</td>\n",
       "      <td>1</td>\n",
       "      <td>1</td>\n",
       "      <td>2</td>\n",
       "      <td>17</td>\n",
       "      <td>6</td>\n",
       "      <td>456</td>\n",
       "      <td>2</td>\n",
       "      <td>-1</td>\n",
       "      <td>0</td>\n",
       "      <td>3</td>\n",
       "      <td>1</td>\n",
       "    </tr>\n",
       "    <tr>\n",
       "      <th>45208</th>\n",
       "      <td>72</td>\n",
       "      <td>8.0</td>\n",
       "      <td>2</td>\n",
       "      <td>3</td>\n",
       "      <td>1</td>\n",
       "      <td>5715</td>\n",
       "      <td>1</td>\n",
       "      <td>1</td>\n",
       "      <td>2</td>\n",
       "      <td>17</td>\n",
       "      <td>6</td>\n",
       "      <td>1127</td>\n",
       "      <td>5</td>\n",
       "      <td>184</td>\n",
       "      <td>3</td>\n",
       "      <td>2</td>\n",
       "      <td>1</td>\n",
       "    </tr>\n",
       "    <tr>\n",
       "      <th>45209</th>\n",
       "      <td>57</td>\n",
       "      <td>10.0</td>\n",
       "      <td>2</td>\n",
       "      <td>3</td>\n",
       "      <td>1</td>\n",
       "      <td>668</td>\n",
       "      <td>1</td>\n",
       "      <td>1</td>\n",
       "      <td>0</td>\n",
       "      <td>17</td>\n",
       "      <td>6</td>\n",
       "      <td>508</td>\n",
       "      <td>4</td>\n",
       "      <td>-1</td>\n",
       "      <td>0</td>\n",
       "      <td>3</td>\n",
       "      <td>0</td>\n",
       "    </tr>\n",
       "    <tr>\n",
       "      <th>45210</th>\n",
       "      <td>37</td>\n",
       "      <td>3.0</td>\n",
       "      <td>2</td>\n",
       "      <td>3</td>\n",
       "      <td>1</td>\n",
       "      <td>2971</td>\n",
       "      <td>1</td>\n",
       "      <td>1</td>\n",
       "      <td>2</td>\n",
       "      <td>17</td>\n",
       "      <td>6</td>\n",
       "      <td>361</td>\n",
       "      <td>2</td>\n",
       "      <td>188</td>\n",
       "      <td>11</td>\n",
       "      <td>0</td>\n",
       "      <td>0</td>\n",
       "    </tr>\n",
       "  </tbody>\n",
       "</table>\n",
       "<p>45211 rows × 17 columns</p>\n",
       "</div>"
      ],
      "text/plain": [
       "       age   job  marital  education  default  balance  housing  loan  \\\n",
       "0       58  12.0        2          2        1     2143        0     1   \n",
       "1       44  11.0        1          3        1       29        0     1   \n",
       "2       33   3.0        2          3        1        2        0     0   \n",
       "3       47  10.0        2          0        1     1506        0     1   \n",
       "4       33   0.0        1          0        1        1        1     1   \n",
       "...    ...   ...      ...        ...      ...      ...      ...   ...   \n",
       "45206   51  11.0        2          2        1      825        1     1   \n",
       "45207   71   8.0        0          1        1     1729        1     1   \n",
       "45208   72   8.0        2          3        1     5715        1     1   \n",
       "45209   57  10.0        2          3        1      668        1     1   \n",
       "45210   37   3.0        2          3        1     2971        1     1   \n",
       "\n",
       "       contact  day  month  duration  campaign  pdays  previous  poutcome  y  \n",
       "0            1    5     12       261         1     -1         0         3  0  \n",
       "1            1    5     12       151         1     -1         0         3  0  \n",
       "2            1    5     12        76         1     -1         0         3  0  \n",
       "3            1    5     12        92         1     -1         0         3  0  \n",
       "4            1    5     12       198         1     -1         0         3  0  \n",
       "...        ...  ...    ...       ...       ...    ...       ...       ... ..  \n",
       "45206        2   17      6       977         3     -1         0         3  1  \n",
       "45207        2   17      6       456         2     -1         0         3  1  \n",
       "45208        2   17      6      1127         5    184         3         2  1  \n",
       "45209        0   17      6       508         4     -1         0         3  0  \n",
       "45210        2   17      6       361         2    188        11         0  0  \n",
       "\n",
       "[45211 rows x 17 columns]"
      ]
     },
     "execution_count": 22,
     "metadata": {},
     "output_type": "execute_result"
    }
   ],
   "source": [
    "df"
   ]
  },
  {
   "cell_type": "markdown",
   "id": "0651c0a8",
   "metadata": {
    "id": "0651c0a8"
   },
   "source": [
    "## 3. Correlation and Heat Map"
   ]
  },
  {
   "cell_type": "code",
   "execution_count": 23,
   "id": "413c3ca6",
   "metadata": {
    "colab": {
     "base_uri": "https://localhost:8080/",
     "height": 488
    },
    "id": "413c3ca6",
    "outputId": "e096ec4a-bcd4-496c-f00b-48157b07d33b",
    "scrolled": false
   },
   "outputs": [
    {
     "data": {
      "text/plain": [
       "y            1.000000\n",
       "duration     0.394521\n",
       "housing      0.139173\n",
       "pdays        0.103621\n",
       "contact      0.100822\n",
       "previous     0.093236\n",
       "loan         0.068185\n",
       "balance      0.052838\n",
       "age          0.025155\n",
       "default      0.022419\n",
       "job         -0.005085\n",
       "education   -0.009795\n",
       "day         -0.028348\n",
       "marital     -0.043846\n",
       "campaign    -0.073172\n",
       "poutcome    -0.096257\n",
       "month       -0.150419\n",
       "Name: y, dtype: float64"
      ]
     },
     "execution_count": 23,
     "metadata": {},
     "output_type": "execute_result"
    }
   ],
   "source": [
    "# Finding the correlation\n",
    "corr_data = df.corr()\n",
    "corr_y = corr_data[\"y\"]\n",
    "corr_y.sort_values(ascending = False)"
   ]
  },
  {
   "cell_type": "code",
   "execution_count": 24,
   "id": "88ae6cdd",
   "metadata": {
    "colab": {
     "base_uri": "https://localhost:8080/",
     "height": 327
    },
    "id": "88ae6cdd",
    "outputId": "c97d302a-1af7-48cd-9ce9-a254965ebc8c"
   },
   "outputs": [
    {
     "data": {
      "text/plain": [
       "<AxesSubplot:>"
      ]
     },
     "execution_count": 24,
     "metadata": {},
     "output_type": "execute_result"
    },
    {
     "data": {
      "image/png": "[encoded data removed]",
      "text/plain": [
       "<Figure size 432x288 with 2 Axes>"
      ]
     },
     "metadata": {
      "needs_background": "light"
     },
     "output_type": "display_data"
    }
   ],
   "source": [
    "# Displaying the Heat Map\n",
    "sns.heatmap(df.corr())"
   ]
  },
  {
   "cell_type": "code",
   "execution_count": 25,
   "id": "f37247cf",
   "metadata": {},
   "outputs": [],
   "source": [
    "# new_df = df.drop([\"age\", \"job\", \"default\"], axis=1)\n",
    "# new_df"
   ]
  },
  {
   "cell_type": "markdown",
   "id": "0f7049a1",
   "metadata": {
    "id": "0f7049a1"
   },
   "source": [
    "## 4. Training and Testing the Data"
   ]
  },
  {
   "cell_type": "code",
   "execution_count": 26,
   "id": "a1bcbabf",
   "metadata": {},
   "outputs": [],
   "source": [
    "# training the dataset\n",
    "X = df.drop(\"y\", axis=1)\n",
    "y = df[\"y\"]\n",
    "# X = new_df.drop(\"y\", axis=1)\n",
    "# y = new_df[\"y\"]"
   ]
  },
  {
   "cell_type": "code",
   "execution_count": 27,
   "id": "ddcf5f0a",
   "metadata": {},
   "outputs": [
    {
     "name": "stderr",
     "output_type": "stream",
     "text": [
      "/opt/anaconda3/lib/python3.8/site-packages/sklearn/utils/validation.py:70: FutureWarning: Pass classes=[0 1], y=0        0\n",
      "1        0\n",
      "2        0\n",
      "3        0\n",
      "4        0\n",
      "        ..\n",
      "45206    1\n",
      "45207    1\n",
      "45208    1\n",
      "45209    0\n",
      "45210    0\n",
      "Name: y, Length: 45211, dtype: int64 as keyword args. From version 1.0 (renaming of 0.25) passing these as positional arguments will result in an error\n",
      "  warnings.warn(f\"Pass {args_msg} as keyword args. From version \"\n"
     ]
    },
    {
     "data": {
      "text/plain": [
       "array([0.56624167, 4.27405937])"
      ]
     },
     "execution_count": 27,
     "metadata": {},
     "output_type": "execute_result"
    }
   ],
   "source": [
    "from sklearn.utils.class_weight import compute_class_weight\n",
    "class_weights = compute_class_weight('balanced', np.unique(y), y)\n",
    "class_weights"
   ]
  },
  {
   "cell_type": "code",
   "execution_count": 28,
   "id": "9593e6da",
   "metadata": {},
   "outputs": [
    {
     "data": {
      "text/plain": [
       "0    39922\n",
       "1     5289\n",
       "Name: y, dtype: int64"
      ]
     },
     "execution_count": 28,
     "metadata": {},
     "output_type": "execute_result"
    }
   ],
   "source": [
    "df['y'].value_counts()"
   ]
  },
  {
   "cell_type": "code",
   "execution_count": 29,
   "id": "b0d1c265",
   "metadata": {},
   "outputs": [],
   "source": [
    "# w_y0=45211/(2*39922)\n",
    "# w_y1=45211/(2*5289)\n",
    "# print(f\"weight 0:\\t{w_y0}\\nweight 1:\\t{w_y1}\")\n",
    "# myweights = np.array([w_y0, w_y1])\n",
    "# myweights"
   ]
  },
  {
   "cell_type": "code",
   "execution_count": 30,
   "id": "458d76af",
   "metadata": {
    "id": "458d76af"
   },
   "outputs": [],
   "source": [
    "X_train, X_test, y_train, y_test = train_test_split(X, y, test_size=0.2, random_state=42)"
   ]
  },
  {
   "cell_type": "code",
   "execution_count": 31,
   "id": "799ed644",
   "metadata": {
    "colab": {
     "base_uri": "https://localhost:8080/"
    },
    "id": "799ed644",
    "outputId": "34f026bd-b162-4bcc-9f23-b24210fde7b3"
   },
   "outputs": [
    {
     "name": "stdout",
     "output_type": "stream",
     "text": [
      "==============================\n",
      "DecisionTreeClassifier\n",
      "****Results****\n",
      "Accuracy: 100.0000%\n",
      "precision_score: \n",
      " 1.0\n",
      "f1_score: \n",
      " 1.0\n",
      "confusion_matrix: \n",
      " [[31970     0]\n",
      " [    0  4198]]\n",
      "log_loss: \n",
      " 9.992007221626413e-16\n",
      "==============================\n",
      "RandomForestClassifier\n",
      "****Results****\n",
      "Accuracy: 100.0000%\n",
      "precision_score: \n",
      " 1.0\n",
      "f1_score: \n",
      " 1.0\n",
      "confusion_matrix: \n",
      " [[31970     0]\n",
      " [    0  4198]]\n",
      "log_loss: \n",
      " 9.992007221626413e-16\n"
     ]
    },
    {
     "name": "stderr",
     "output_type": "stream",
     "text": [
      "/opt/anaconda3/lib/python3.8/site-packages/sklearn/linear_model/_logistic.py:763: ConvergenceWarning: lbfgs failed to converge (status=1):\n",
      "STOP: TOTAL NO. of ITERATIONS REACHED LIMIT.\n",
      "\n",
      "Increase the number of iterations (max_iter) or scale the data as shown in:\n",
      "    https://scikit-learn.org/stable/modules/preprocessing.html\n",
      "Please also refer to the documentation for alternative solver options:\n",
      "    https://scikit-learn.org/stable/modules/linear_model.html#logistic-regression\n",
      "  n_iter_i = _check_optimize_result(\n"
     ]
    },
    {
     "name": "stdout",
     "output_type": "stream",
     "text": [
      "==============================\n",
      "LogisticRegression\n",
      "****Results****\n",
      "Accuracy: 88.8714%\n",
      "precision_score: \n",
      " 0.566692367000771\n",
      "f1_score: \n",
      " 0.267515923566879\n",
      "confusion_matrix: \n",
      " [[31408   562]\n",
      " [ 3463   735]]\n",
      "log_loss: \n",
      " 3.84370228830102\n",
      "==============================\n",
      "GradientBoostingClassifier\n",
      "****Results****\n",
      "Accuracy: 91.0142%\n",
      "precision_score: \n",
      " 0.6841491841491841\n",
      "f1_score: \n",
      " 0.5200826934435911\n",
      "confusion_matrix: \n",
      " [[31157   813]\n",
      " [ 2437  1761]]\n",
      "log_loss: \n",
      " 3.103618484742604\n",
      "==============================\n",
      "GaussianNB\n",
      "****Results****\n",
      "Accuracy: 84.1296%\n",
      "precision_score: \n",
      " 0.35626398210290827\n",
      "f1_score: \n",
      " 0.3997071742313324\n",
      "confusion_matrix: \n",
      " [[28517  3453]\n",
      " [ 2287  1911]]\n",
      "log_loss: \n",
      " 5.481512317980363\n",
      "==============================\n"
     ]
    }
   ],
   "source": [
    "# Implimenting different models\n",
    "classifiers = [\n",
    "#     DecisionTreeClassifier(class_weight = \"balanced\"),\n",
    "#     RandomForestClassifier(class_weight = \"balanced\"),\n",
    "#     LogisticRegression(class_weight = \"balanced\"),\n",
    "    DecisionTreeClassifier(),\n",
    "    RandomForestClassifier(),\n",
    "    LogisticRegression(),\n",
    "    GradientBoostingClassifier(),\n",
    "    GaussianNB()]\n",
    "\n",
    "# Logging for Visual Comparison\n",
    "log_cols=[\"Classifier\", \"Accuracy\", 'Log Loss']\n",
    "log = pd.DataFrame(columns=log_cols)\n",
    "\n",
    "for clf in classifiers:\n",
    "    clf.fit(X_train, y_train)\n",
    "    name = clf.__class__.__name__\n",
    "    \n",
    "    print(\"=\"*30)\n",
    "    print(name)\n",
    "    try:\n",
    "        print('****Results****')\n",
    "        train_predictions = clf.predict(X_train)\n",
    "        acc = accuracy_score(y_train, train_predictions)\n",
    "        print(\"Accuracy: {:.4%}\".format(acc))\n",
    "        print(\"precision_score: \\n\",precision_score(y_train, train_predictions))\n",
    "        print(\"f1_score: \\n\",f1_score(y_train, train_predictions))\n",
    "        print(\"confusion_matrix: \\n\",confusion_matrix(y_train, train_predictions))\n",
    "        print(\"log_loss: \\n\",log_loss(y_train, train_predictions))\n",
    "        log_entry = pd.DataFrame([[name, acc*100, log_loss(y_train, train_predictions)]], columns=log_cols)\n",
    "        log = log.append(log_entry)\n",
    "    except Exception as e:\n",
    "        print (e)\n",
    "    \n",
    "print(\"=\"*30)"
   ]
  },
  {
   "cell_type": "code",
   "execution_count": 32,
   "id": "8490f6e7",
   "metadata": {
    "colab": {
     "base_uri": "https://localhost:8080/",
     "height": 573
    },
    "id": "8490f6e7",
    "outputId": "8f544977-38e6-4ede-c3d2-71ca1a75473d"
   },
   "outputs": [
    {
     "data": {
      "image/png": "[encoded data removed]",
      "text/plain": [
       "<Figure size 432x288 with 1 Axes>"
      ]
     },
     "metadata": {
      "needs_background": "light"
     },
     "output_type": "display_data"
    },
    {
     "data": {
      "image/png": "[encoded data removed]",
      "text/plain": [
       "<Figure size 432x288 with 1 Axes>"
      ]
     },
     "metadata": {
      "needs_background": "light"
     },
     "output_type": "display_data"
    }
   ],
   "source": [
    "# Comparison between Classifier Accuracy and Log loss\n",
    "sns.set_color_codes(\"muted\")\n",
    "sns.barplot(x='Accuracy', y='Classifier', data=log, color=\"b\")\n",
    "\n",
    "plt.xlabel('Accuracy %')\n",
    "plt.title('Classifier Accuracy')\n",
    "plt.show()\n",
    "\n",
    "sns.set_color_codes(\"muted\")\n",
    "sns.barplot(x='Log Loss', y='Classifier', data=log, color=\"g\")\n",
    "\n",
    "plt.xlabel('Log Loss')\n",
    "plt.title('Classifier Log Loss')\n",
    "plt.show()"
   ]
  },
  {
   "cell_type": "code",
   "execution_count": 33,
   "id": "6e342556",
   "metadata": {
    "colab": {
     "base_uri": "https://localhost:8080/"
    },
    "id": "6e342556",
    "outputId": "90d65631-3013-4ae3-c6e2-7922bd42db4e"
   },
   "outputs": [
    {
     "name": "stdout",
     "output_type": "stream",
     "text": [
      "==============================\n",
      "DecisionTreeClassifier\n",
      "****Results****\n",
      "Accuracy: 87.2940%\n",
      "precision_score: \n",
      " 0.4739208633093525\n",
      "f1_score: \n",
      " 0.47843849296413976\n",
      "confusion_matrix: \n",
      " [[7367  585]\n",
      " [ 564  527]]\n",
      "log_loss: \n",
      " 4.3885349820025485\n",
      "==============================\n",
      "RandomForestClassifier\n",
      "****Results****\n",
      "Accuracy: 90.4346%\n",
      "precision_score: \n",
      " 0.6596045197740112\n",
      "f1_score: \n",
      " 0.519177320733741\n",
      "confusion_matrix: \n",
      " [[7711  241]\n",
      " [ 624  467]]\n",
      "log_loss: \n",
      " 3.3037967803359973\n"
     ]
    },
    {
     "name": "stderr",
     "output_type": "stream",
     "text": [
      "/opt/anaconda3/lib/python3.8/site-packages/sklearn/linear_model/_logistic.py:763: ConvergenceWarning: lbfgs failed to converge (status=1):\n",
      "STOP: TOTAL NO. of ITERATIONS REACHED LIMIT.\n",
      "\n",
      "Increase the number of iterations (max_iter) or scale the data as shown in:\n",
      "    https://scikit-learn.org/stable/modules/preprocessing.html\n",
      "Please also refer to the documentation for alternative solver options:\n",
      "    https://scikit-learn.org/stable/modules/linear_model.html#logistic-regression\n",
      "  n_iter_i = _check_optimize_result(\n"
     ]
    },
    {
     "name": "stdout",
     "output_type": "stream",
     "text": [
      "==============================\n",
      "LogisticRegression\n",
      "****Results****\n",
      "Accuracy: 88.4773%\n",
      "precision_score: \n",
      " 0.5714285714285714\n",
      "f1_score: \n",
      " 0.2733612273361227\n",
      "confusion_matrix: \n",
      " [[7805  147]\n",
      " [ 895  196]]\n",
      "log_loss: \n",
      " 3.979821137268514\n",
      "==============================\n",
      "GradientBoostingClassifier\n",
      "****Results****\n",
      "Accuracy: 90.1360%\n",
      "precision_score: \n",
      " 0.648729446935725\n",
      "f1_score: \n",
      " 0.49318181818181817\n",
      "confusion_matrix: \n",
      " [[7717  235]\n",
      " [ 657  434]]\n",
      "log_loss: \n",
      " 3.4069198772151306\n",
      "==============================\n",
      "GaussianNB\n",
      "****Results****\n",
      "Accuracy: 83.7333%\n",
      "precision_score: \n",
      " 0.36151603498542273\n",
      "f1_score: \n",
      " 0.40276086073893624\n",
      "confusion_matrix: \n",
      " [[7076  876]\n",
      " [ 595  496]]\n",
      "log_loss: \n",
      " 5.618405454413631\n",
      "==============================\n"
     ]
    }
   ],
   "source": [
    "# Testing all models\n",
    "classifiers = [\n",
    "#     DecisionTreeClassifier(class_weight = \"balanced\"),\n",
    "#     RandomForestClassifier(class_weight = \"balanced\"),\n",
    "#     LogisticRegression(class_weight = \"balanced\"),\n",
    "    DecisionTreeClassifier(),\n",
    "    RandomForestClassifier(),\n",
    "    LogisticRegression(),\n",
    "    GradientBoostingClassifier(),\n",
    "    GaussianNB()]\n",
    "\n",
    "# Logging for Visual Comparison\n",
    "log_cols=[\"Classifier\", \"Accuracy\", 'Log Loss']\n",
    "log = pd.DataFrame(columns=log_cols)\n",
    "\n",
    "for clf in classifiers:\n",
    "    clf.fit(X_train, y_train)\n",
    "    name = clf.__class__.__name__\n",
    "    \n",
    "    print(\"=\"*30)\n",
    "    print(name)\n",
    "    try:\n",
    "        print('****Results****')\n",
    "        test_predictions = clf.predict(X_test)\n",
    "        acc = accuracy_score(y_test, test_predictions)\n",
    "        print(\"Accuracy: {:.4%}\".format(acc))\n",
    "        print(\"precision_score: \\n\",precision_score(y_test, test_predictions))\n",
    "        print(\"f1_score: \\n\",f1_score(y_test, test_predictions))\n",
    "        print(\"confusion_matrix: \\n\",confusion_matrix(y_test, test_predictions))\n",
    "        print(\"log_loss: \\n\",log_loss(y_test, test_predictions))\n",
    "        log_entry = pd.DataFrame([[name, acc*100, log_loss(y_test, test_predictions)]], columns=log_cols)\n",
    "        log = log.append(log_entry)\n",
    "    except Exception as e:\n",
    "        print (e)\n",
    "    \n",
    "print(\"=\"*30)"
   ]
  },
  {
   "cell_type": "markdown",
   "id": "a2a10713",
   "metadata": {
    "id": "a2a10713"
   },
   "source": [
    "## Oversampling"
   ]
  },
  {
   "cell_type": "code",
   "execution_count": 34,
   "id": "a2e567e5",
   "metadata": {
    "id": "a2e567e5"
   },
   "outputs": [],
   "source": [
    "# from sklearn.datasets import make_classification\n",
    "# from imblearn.over_sampling import RandomOverSampler\n",
    "# from imblearn.under_sampling import RandomUnderSampler\n",
    "# from collections import Counter\n",
    "from imblearn.over_sampling import SMOTE\n",
    "from sklearn.preprocessing import StandardScaler"
   ]
  },
  {
   "cell_type": "code",
   "execution_count": 35,
   "id": "1bf9c15e",
   "metadata": {
    "id": "1bf9c15e"
   },
   "outputs": [],
   "source": [
    "from pandas.core.common import random_state\n",
    "# ros = RandomOverSampler()\n",
    "# X_train, y_train = ros.fit_resample(X_ros, y_ros )\n",
    "\n",
    "## Normalize data\n",
    "sc_X = StandardScaler()\n",
    "X_train_norm = sc_X.fit_transform(X_train)\n",
    "X_test_norm = sc_X.transform(X_test)\n",
    "\n",
    "## SMOTE only on training data\n",
    "# sm = SMOTE(sampling_strategy='all')\n",
    "sm = SMOTE(random_state = 42)\n",
    "X_train_smote, y_train_smote = sm.fit_resample(X_train_norm, y_train)"
   ]
  },
  {
   "cell_type": "code",
   "execution_count": 36,
   "id": "6370134d",
   "metadata": {
    "colab": {
     "base_uri": "https://localhost:8080/"
    },
    "id": "6370134d",
    "outputId": "01427403-cabb-4b40-c6cd-e7f3468af553"
   },
   "outputs": [],
   "source": [
    "# print(Counter(y_train))"
   ]
  },
  {
   "cell_type": "code",
   "execution_count": 37,
   "id": "fd2dae41",
   "metadata": {
    "id": "fd2dae41"
   },
   "outputs": [],
   "source": [
    "# training the dataset\n",
    "#X_train1, X_test1, y_train1, y_test1 = train_test_split(X_ros, y_ros, test_size=0.2, random_state=42)"
   ]
  },
  {
   "cell_type": "code",
   "execution_count": 38,
   "id": "dab0422b",
   "metadata": {
    "colab": {
     "base_uri": "https://localhost:8080/"
    },
    "id": "dab0422b",
    "outputId": "b5cc8a2a-61db-4734-c98e-7446fb34041c"
   },
   "outputs": [
    {
     "name": "stdout",
     "output_type": "stream",
     "text": [
      "==============================\n",
      "DecisionTreeClassifier\n",
      "****Results****\n",
      "Accuracy: 100.0000%\n",
      "precision_score: \n",
      " 1.0\n",
      "f1_score: \n",
      " 1.0\n",
      "confusion_matrix: \n",
      " [[31970     0]\n",
      " [    0 31970]]\n",
      "log_loss: \n",
      " 9.99200722162641e-16\n",
      "==============================\n",
      "RandomForestClassifier\n",
      "****Results****\n",
      "Accuracy: 100.0000%\n",
      "precision_score: \n",
      " 1.0\n",
      "f1_score: \n",
      " 1.0\n",
      "confusion_matrix: \n",
      " [[31970     0]\n",
      " [    0 31970]]\n",
      "log_loss: \n",
      " 9.99200722162641e-16\n",
      "==============================\n",
      "LogisticRegression\n",
      "****Results****\n",
      "Accuracy: 80.5380%\n",
      "precision_score: \n",
      " 0.8074766943814563\n",
      "f1_score: \n",
      " 0.804714227425379\n",
      "confusion_matrix: \n",
      " [[25857  6113]\n",
      " [ 6331 25639]]\n",
      "log_loss: \n",
      " 6.722011595204243\n",
      "==============================\n",
      "GradientBoostingClassifier\n",
      "****Results****\n",
      "Accuracy: 91.8502%\n",
      "precision_score: \n",
      " 0.9032763661572776\n",
      "f1_score: \n",
      " 0.9200116659247547\n",
      "confusion_matrix: \n",
      " [[28761  3209]\n",
      " [ 2002 29968]]\n",
      "log_loss: \n",
      " 2.814890986894481\n",
      "==============================\n",
      "GaussianNB\n",
      "****Results****\n",
      "Accuracy: 76.3716%\n",
      "precision_score: \n",
      " 0.7235746486343145\n",
      "f1_score: \n",
      " 0.7831802525832378\n",
      "confusion_matrix: \n",
      " [[21546 10424]\n",
      " [ 4684 27286]]\n",
      "log_loss: \n",
      " 8.161091160117657\n",
      "==============================\n"
     ]
    }
   ],
   "source": [
    "# Implimenting different models SMOTE\n",
    "classifiers = [\n",
    "#     DecisionTreeClassifier(class_weight = \"balanced\"),\n",
    "#     RandomForestClassifier(class_weight = \"balanced\"),\n",
    "#     LogisticRegression(class_weight = \"balanced\"),\n",
    "    DecisionTreeClassifier(),\n",
    "    RandomForestClassifier(),\n",
    "    LogisticRegression(),\n",
    "    GradientBoostingClassifier(),\n",
    "    GaussianNB()]\n",
    "\n",
    "# Logging for Visual Comparison\n",
    "log_cols=[\"Classifier\", \"Accuracy\", 'Log Loss']\n",
    "log = pd.DataFrame(columns=log_cols)\n",
    "\n",
    "for clf in classifiers:\n",
    "    # clf.fit(X_train, y_train)\n",
    "    clf.fit(X_train_smote, y_train_smote)\n",
    "    name = clf.__class__.__name__\n",
    "    \n",
    "    print(\"=\"*30)\n",
    "    print(name)\n",
    "    try:\n",
    "        print('****Results****')\n",
    "        train_predictions_smote = clf.predict(X_train_smote)\n",
    "        acc = accuracy_score(y_train_smote, train_predictions_smote)\n",
    "        print(\"Accuracy: {:.4%}\".format(acc))\n",
    "        print(\"precision_score: \\n\",precision_score(y_train_smote, train_predictions_smote))\n",
    "        print(\"f1_score: \\n\",f1_score(y_train_smote, train_predictions_smote))\n",
    "        print(\"confusion_matrix: \\n\",confusion_matrix(y_train_smote, train_predictions_smote))\n",
    "        print(\"log_loss: \\n\",log_loss(y_train_smote, train_predictions_smote))\n",
    "        log_entry = pd.DataFrame([[name, acc*100, log_loss(y_train_smote, train_predictions_smote)]], columns=log_cols)\n",
    "        log = log.append(log_entry)\n",
    "    except Exception as e:\n",
    "        print (e)\n",
    "    \n",
    "print(\"=\"*30)"
   ]
  },
  {
   "cell_type": "code",
   "execution_count": 39,
   "id": "55ca75e8",
   "metadata": {
    "colab": {
     "base_uri": "https://localhost:8080/",
     "height": 573
    },
    "id": "55ca75e8",
    "outputId": "9737bdf6-4620-4aed-ce57-0faf0f77568a"
   },
   "outputs": [
    {
     "data": {
      "image/png": "[encoded data removed]",
      "text/plain": [
       "<Figure size 432x288 with 1 Axes>"
      ]
     },
     "metadata": {
      "needs_background": "light"
     },
     "output_type": "display_data"
    },
    {
     "data": {
      "image/png": "[encoded data removed]",
      "text/plain": [
       "<Figure size 432x288 with 1 Axes>"
      ]
     },
     "metadata": {
      "needs_background": "light"
     },
     "output_type": "display_data"
    }
   ],
   "source": [
    "# Comparison between Classifier Accuracy and Accuracy Percentage \n",
    "sns.set_color_codes(\"muted\")\n",
    "sns.barplot(x='Accuracy', y='Classifier', data=log, color=\"b\")\n",
    "\n",
    "plt.xlabel('Accuracy %')\n",
    "plt.title('Classifier Accuracy')\n",
    "plt.show()\n",
    "\n",
    "sns.set_color_codes(\"muted\")\n",
    "sns.barplot(x='Log Loss', y='Classifier', data=log, color=\"g\")\n",
    "\n",
    "plt.xlabel('Log Loss')\n",
    "plt.title('Classifier Log Loss')\n",
    "plt.show()"
   ]
  },
  {
   "cell_type": "code",
   "execution_count": 40,
   "id": "1fc4e86d",
   "metadata": {
    "colab": {
     "base_uri": "https://localhost:8080/"
    },
    "id": "1fc4e86d",
    "outputId": "724d342f-f5aa-42bf-c704-83e57d5c50dd"
   },
   "outputs": [
    {
     "name": "stdout",
     "output_type": "stream",
     "text": [
      "==============================\n",
      "DecisionTreeClassifier\n",
      "****Results****\n",
      "Accuracy: 86.0776%\n",
      "precision_score: \n",
      " 0.4370314842578711\n",
      "f1_score: \n",
      " 0.4808247422680412\n",
      "confusion_matrix: \n",
      " [[7201  751]\n",
      " [ 508  583]]\n",
      "log_loss: \n",
      " 4.8086829568575284\n",
      "==============================\n",
      "RandomForestClassifier\n",
      "****Results****\n",
      "Accuracy: 89.4615%\n",
      "precision_score: \n",
      " 0.5566502463054187\n",
      "f1_score: \n",
      " 0.5872672152446947\n",
      "confusion_matrix: \n",
      " [[7412  540]\n",
      " [ 413  678]]\n",
      "log_loss: \n",
      " 3.639929855906468\n",
      "==============================\n",
      "LogisticRegression\n",
      "****Results****\n",
      "Accuracy: 80.2389%\n",
      "precision_score: \n",
      " 0.35512073272273104\n",
      "f1_score: \n",
      " 0.48840538219295737\n",
      "confusion_matrix: \n",
      " [[6403 1549]\n",
      " [ 238  853]]\n",
      "log_loss: \n",
      " 6.825393342267474\n",
      "==============================\n",
      "GradientBoostingClassifier\n",
      "****Results****\n",
      "Accuracy: 87.7585%\n",
      "precision_score: \n",
      " 0.49510403916768664\n",
      "f1_score: \n",
      " 0.5937614678899081\n",
      "confusion_matrix: \n",
      " [[7127  825]\n",
      " [ 282  809]]\n",
      "log_loss: \n",
      " 4.228141671684843\n",
      "==============================\n",
      "GaussianNB\n",
      "****Results****\n",
      "Accuracy: 69.0368%\n",
      "precision_score: \n",
      " 0.25882020886254586\n",
      "f1_score: \n",
      " 0.3957703927492447\n",
      "confusion_matrix: \n",
      " [[5326 2626]\n",
      " [ 174  917]]\n",
      "log_loss: \n",
      " 10.69453429709185\n",
      "==============================\n"
     ]
    }
   ],
   "source": [
    "# Testing all models SMOTE\n",
    "classifiers = [\n",
    "#     DecisionTreeClassifier(class_weight = \"balanced\"),\n",
    "#     RandomForestClassifier(class_weight = \"balanced\"),\n",
    "#     LogisticRegression(class_weight = \"balanced\"),\n",
    "    DecisionTreeClassifier(),\n",
    "    RandomForestClassifier(),\n",
    "    LogisticRegression(),\n",
    "    GradientBoostingClassifier(),\n",
    "    GaussianNB()]\n",
    "\n",
    "# Logging for Visual Comparison\n",
    "log_cols=[\"Classifier\", \"Accuracy\", 'Log Loss']\n",
    "log = pd.DataFrame(columns=log_cols)\n",
    "\n",
    "for clf in classifiers:\n",
    "    clf.fit(X_train_smote, y_train_smote)\n",
    "    name = clf.__class__.__name__\n",
    "    \n",
    "    print(\"=\"*30)\n",
    "    print(name)\n",
    "    try:\n",
    "        print('****Results****')\n",
    "        test_predictions_smote = clf.predict(X_test_norm)\n",
    "        acc = accuracy_score(y_test, test_predictions_smote)\n",
    "        print(\"Accuracy: {:.4%}\".format(acc))\n",
    "        print(\"precision_score: \\n\",precision_score(y_test, test_predictions_smote))\n",
    "        print(\"f1_score: \\n\",f1_score(y_test, test_predictions_smote))\n",
    "        print(\"confusion_matrix: \\n\",confusion_matrix(y_test, test_predictions_smote))\n",
    "        print(\"log_loss: \\n\",log_loss(y_test, test_predictions_smote))\n",
    "        log_entry = pd.DataFrame([[name, acc*100, log_loss(y_test, test_predictions_smote)]], columns=log_cols)\n",
    "        log = log.append(log_entry)\n",
    "    except Exception as e:\n",
    "        print (e)\n",
    "\n",
    "print(\"=\"*30)"
   ]
  },
  {
   "cell_type": "markdown",
   "id": "0c248c5b",
   "metadata": {
    "id": "0c248c5b"
   },
   "source": [
    "## Hyperparameter Tuning"
   ]
  },
  {
   "cell_type": "code",
   "execution_count": 41,
   "id": "1b45201d",
   "metadata": {
    "id": "1b45201d"
   },
   "outputs": [],
   "source": [
    "def met(model,X_train1,y_train1,X_test1,y_test1):\n",
    "  model.fit(X_train1,y_train1)\n",
    "\n",
    "  print('................Train .......................')\n",
    "\n",
    "  y_train_pred=model.predict(X_train1)\n",
    "  print(confusion_matrix(y_train1, y_train_pred), \": is the confusion matrix\")\n",
    "  print(accuracy_score(y_train1, y_train_pred), \": is the accuracy score\")\n",
    "  print(precision_score(y_train1, y_train_pred), \": is the precision score\")\n",
    "  print(f1_score(y_train1, y_train_pred), \": is the f1 score\")\n",
    "  print(roc_auc_score(y_train1, y_train_pred), \": is the roc auc score\")\n",
    "  print(log_loss(y_train1, y_train_pred), \": is the logloss\")\n",
    "\n",
    "  print('................Test.......................')\n",
    "\n",
    "  y_pred=model.predict(X_test1)\n",
    "  print(confusion_matrix(y_test1, y_pred), \": is the confusion matrix\")\n",
    "  print(accuracy_score(y_test1, y_pred), \": is the accuracy score\")\n",
    "  print(precision_score(y_test1, y_pred), \": is the precision score\")\n",
    "  print(f1_score(y_test1, y_pred), \": is the f1 score\")\n",
    "  print(roc_auc_score(y_test1, y_pred), \": is the roc auc score\")\n",
    "  print(log_loss(y_test1, y_pred), \": is the logloss\")"
   ]
  },
  {
   "cell_type": "markdown",
   "id": "65ebebef",
   "metadata": {
    "id": "65ebebef"
   },
   "source": [
    "### 1. Decision Tree"
   ]
  },
  {
   "cell_type": "code",
   "execution_count": 65,
   "id": "c94e2c74",
   "metadata": {
    "id": "c94e2c74"
   },
   "outputs": [],
   "source": [
    "param_dict = {\n",
    "    \"criterion\": ['gini', 'entropy'],\n",
    "    \"max_depth\": range (1,10),\n",
    "    \"min_samples_split\":range (1,10),\n",
    "    \"min_samples_leaf\":range (1,5)\n",
    "}\n",
    "\n",
    "#After grid search on SMOTE train data\n",
    "# {'criterion': 'gini', 'max_depth': 9, 'min_samples_leaf': 1, 'min_samples_split': 4}"
   ]
  },
  {
   "cell_type": "code",
   "execution_count": 66,
   "id": "aeb4653f",
   "metadata": {
    "id": "aeb4653f",
    "outputId": "86ba809c-7250-4361-c1a7-52ea1d533954"
   },
   "outputs": [
    {
     "name": "stdout",
     "output_type": "stream",
     "text": [
      "Fitting 5 folds for each of 648 candidates, totalling 3240 fits\n"
     ]
    },
    {
     "name": "stderr",
     "output_type": "stream",
     "text": [
      "C:\\Users\\kondr\\anaconda3\\lib\\site-packages\\sklearn\\model_selection\\_search.py:918: UserWarning: One or more of the test scores are non-finite: [       nan 0.75790633 0.75790633 0.75790633 0.75790633 0.75790633\n",
      " 0.75790633 0.75790633 0.75790633        nan 0.75790633 0.75790633\n",
      " 0.75790633 0.75790633 0.75790633 0.75790633 0.75790633 0.75790633\n",
      "        nan 0.75790633 0.75790633 0.75790633 0.75790633 0.75790633\n",
      " 0.75790633 0.75790633 0.75790633        nan 0.75790633 0.75790633\n",
      " 0.75790633 0.75790633 0.75790633 0.75790633 0.75790633 0.75790633\n",
      "        nan 0.77899345 0.77899345 0.77899345 0.77899345 0.77899345\n",
      " 0.77899345 0.77899345 0.77899345        nan 0.77899345 0.77899345\n",
      " 0.77899345 0.77899345 0.77899345 0.77899345 0.77899345 0.77899345\n",
      "        nan 0.77899345 0.77899345 0.77899345 0.77899345 0.77899345\n",
      " 0.77899345 0.77899345 0.77899345        nan 0.77899345 0.77899345\n",
      " 0.77899345 0.77899345 0.77899345 0.77899345 0.77899345 0.77899345\n",
      "        nan 0.81063472 0.81063472 0.81063472 0.81063472 0.81063472\n",
      " 0.81063472 0.81063472 0.81063472        nan 0.81063472 0.81063472\n",
      " 0.81063472 0.81063472 0.81063472 0.81063472 0.81063472 0.81063472\n",
      "        nan 0.81063472 0.81063472 0.81063472 0.81063472 0.81063472\n",
      " 0.81063472 0.81063472 0.81063472        nan 0.81063472 0.81063472\n",
      " 0.81063472 0.81063472 0.81063472 0.81063472 0.81063472 0.81063472\n",
      "        nan 0.81449907 0.81449907 0.81449907 0.81449907 0.81449907\n",
      " 0.81449907 0.81449907 0.81449907        nan 0.81449907 0.81449907\n",
      " 0.81449907 0.81449907 0.81449907 0.81449907 0.81449907 0.81449907\n",
      "        nan 0.81449907 0.81449907 0.81449907 0.81449907 0.81449907\n",
      " 0.81449907 0.81449907 0.81449907        nan 0.81449907 0.81449907\n",
      " 0.81449907 0.81449907 0.81449907 0.81449907 0.81449907 0.81449907\n",
      "        nan 0.83252411 0.83251195 0.83252411 0.83251195 0.83251195\n",
      " 0.83251195 0.83252411 0.83251195        nan 0.83251195 0.83251195\n",
      " 0.83252411 0.83252411 0.83252411 0.83251195 0.83252411 0.83252411\n",
      "        nan 0.83253636 0.83251195 0.83251195 0.83252421 0.83252411\n",
      " 0.83252421 0.83252411 0.83252421        nan 0.83252411 0.83252411\n",
      " 0.83253636 0.83252421 0.83251195 0.83252411 0.83252411 0.83251195\n",
      "        nan 0.84911696 0.84912937 0.84912184 0.84913425 0.8491\n",
      " 0.84912962 0.8491345  0.8491043         nan 0.84912542 0.84911276\n",
      " 0.84913031 0.84911276 0.84911276 0.84911276 0.84911764 0.84910498\n",
      "        nan 0.84912926 0.84910408 0.84912926 0.84912926 0.8491166\n",
      " 0.8491166  0.8491166  0.84911674        nan 0.84914104 0.84915355\n",
      " 0.84916621 0.84916621 0.84916621 0.84915355 0.84915355 0.84916621\n",
      "        nan 0.85712667 0.85721282 0.85715607 0.85711006 0.85718599\n",
      " 0.85709238 0.85716953 0.85714605        nan 0.85708722 0.8571226\n",
      " 0.85710721 0.8571168  0.85710949 0.85703636 0.85707787 0.85709625\n",
      "        nan 0.85692558 0.85702266 0.85689646 0.85690037 0.85694216\n",
      " 0.85695838 0.85694636 0.85692089        nan 0.85691045 0.85689295\n",
      " 0.85689371 0.85694775 0.85697526 0.85689964 0.85695699 0.85694958\n",
      "        nan 0.86450255 0.86468597 0.86448237 0.86455925 0.86462492\n",
      " 0.86450862 0.86442912 0.86440721        nan 0.8645344  0.86451176\n",
      " 0.8645204  0.86442815 0.86440359 0.86432548 0.8643669  0.86429991\n",
      "        nan 0.86429359 0.86415588 0.86435346 0.86441669 0.8642824\n",
      " 0.86435433 0.86441241 0.86427575        nan 0.86412084 0.86425919\n",
      " 0.86424539 0.86407794 0.8642031  0.86420747 0.86424953 0.86431784\n",
      "        nan 0.87594374 0.87587303 0.87587481 0.87572538 0.87581852\n",
      " 0.87558599 0.87552889 0.87556939        nan 0.87585031 0.87569441\n",
      " 0.87577787 0.87550228 0.87544671 0.87530795 0.87542105 0.87541739\n",
      "        nan 0.87550695 0.87565196 0.87559538 0.87556727 0.87555756\n",
      " 0.87536725 0.87547001 0.8755676         nan 0.87513912 0.87511842\n",
      " 0.87512509 0.87511069 0.87490299 0.87508207 0.87531877 0.87527701\n",
      "        nan 0.76211126 0.76211126 0.76211126 0.76211126 0.76211126\n",
      " 0.76211126 0.76211126 0.76211126        nan 0.76211126 0.76211126\n",
      " 0.76211126 0.76211126 0.76211126 0.76211126 0.76211126 0.76211126\n",
      "        nan 0.76211126 0.76211126 0.76211126 0.76211126 0.76211126\n",
      " 0.76211126 0.76211126 0.76211126        nan 0.76211126 0.76211126\n",
      " 0.76211126 0.76211126 0.76211126 0.76211126 0.76211126 0.76211126\n",
      "        nan 0.76211126 0.76211126 0.76211126 0.76211126 0.76211126\n",
      " 0.76211126 0.76211126 0.76211126        nan 0.76211126 0.76211126\n",
      " 0.76211126 0.76211126 0.76211126 0.76211126 0.76211126 0.76211126\n",
      "        nan 0.76211126 0.76211126 0.76211126 0.76211126 0.76211126\n",
      " 0.76211126 0.76211126 0.76211126        nan 0.76211126 0.76211126\n",
      " 0.76211126 0.76211126 0.76211126 0.76211126 0.76211126 0.76211126\n",
      "        nan 0.8041183  0.8041183  0.8041183  0.8041183  0.8041183\n",
      " 0.8041183  0.8041183  0.8041183         nan 0.8041183  0.8041183\n",
      " 0.8041183  0.8041183  0.8041183  0.8041183  0.8041183  0.8041183\n",
      "        nan 0.8041183  0.8041183  0.8041183  0.8041183  0.8041183\n",
      " 0.8041183  0.8041183  0.8041183         nan 0.8041183  0.8041183\n",
      " 0.8041183  0.8041183  0.8041183  0.8041183  0.8041183  0.8041183\n",
      "        nan 0.80880087 0.80880087 0.80880087 0.80880087 0.80880087\n",
      " 0.80880087 0.80880087 0.80880087        nan 0.80880087 0.80880087\n",
      " 0.80880087 0.80880087 0.80880087 0.80880087 0.80880087 0.80880087\n",
      "        nan 0.80880087 0.80880087 0.80880087 0.80880087 0.80880087\n",
      " 0.80880087 0.80880087 0.80880087        nan 0.80880087 0.80880087\n",
      " 0.80880087 0.80880087 0.80880087 0.80880087 0.80880087 0.80880087\n",
      "        nan 0.83287458 0.83287458 0.83287458 0.83287458 0.83287458\n",
      " 0.83287458 0.83287458 0.83287458        nan 0.83287458 0.83287458\n",
      " 0.83287458 0.83287458 0.83287458 0.83287458 0.83287458 0.83287458\n",
      "        nan 0.83283955 0.83283955 0.83283955 0.83283955 0.83283955\n",
      " 0.83283955 0.83283955 0.83283955        nan 0.83282236 0.83282236\n",
      " 0.83282236 0.83282236 0.83282236 0.83282236 0.83282236 0.83282236\n",
      "        nan 0.83169913 0.83170296 0.83173354 0.83173354 0.8317157\n",
      " 0.83168638 0.83169913 0.83167364        nan 0.83170679 0.83171061\n",
      " 0.83172845 0.83172336 0.83169786 0.83169404 0.83172336 0.83169404\n",
      "        nan 0.83173164 0.83174382 0.83173164 0.83170556 0.83169338\n",
      " 0.83173164 0.83170556 0.83174382        nan 0.83160488 0.83156662\n",
      " 0.83157937 0.8315788  0.83156662 0.83159156 0.83156662 0.83159156\n",
      "        nan 0.84573476 0.84568734 0.84572023 0.84571732 0.84571272\n",
      " 0.84570411 0.84568542 0.84572145        nan 0.84577942 0.84571262\n",
      " 0.84573983 0.84576592 0.84581018 0.84579252 0.8457573  0.84573504\n",
      "        nan 0.84569367 0.84571203 0.84572516 0.84569387 0.84570332\n",
      " 0.84572505 0.8456674  0.84570711        nan 0.84556755 0.84552388\n",
      " 0.84552014 0.84551015 0.84555869 0.84554166 0.84554109 0.84551038\n",
      "        nan 0.86119015 0.86118482 0.86112629 0.86107491 0.86121055\n",
      " 0.86107348 0.86112751 0.86124865        nan 0.86109965 0.86112243\n",
      " 0.86108938 0.86096206 0.86099694 0.86112037 0.86110306 0.86110121\n",
      "        nan 0.86089385 0.86088579 0.86081619 0.86085487 0.86087467\n",
      " 0.86087813 0.86095389 0.86093667        nan 0.86071507 0.86074558\n",
      " 0.86068742 0.86075133 0.86067031 0.86065456 0.86074202 0.86070933\n",
      "        nan 0.8749147  0.87474998 0.87489761 0.87476801 0.87482015\n",
      " 0.87475377 0.87477642 0.87486989        nan 0.87465165 0.87473525\n",
      " 0.8747883  0.8746182  0.87476244 0.87462892 0.87459738 0.87459213\n",
      "        nan 0.87439455 0.87458944 0.87441043 0.87450261 0.87434158\n",
      " 0.87450072 0.87442863 0.87445462        nan 0.87430987 0.87417616\n",
      " 0.87424861 0.87426911 0.87439599 0.87415525 0.87421503 0.87428965]\n",
      "  warnings.warn(\n"
     ]
    },
    {
     "data": {
      "text/plain": [
       "GridSearchCV(cv=5, estimator=DecisionTreeClassifier(class_weight='balanced'),\n",
       "             n_jobs=-1,\n",
       "             param_grid={'criterion': ['gini', 'entropy'],\n",
       "                         'max_depth': range(1, 10),\n",
       "                         'min_samples_leaf': range(1, 5),\n",
       "                         'min_samples_split': range(1, 10)},\n",
       "             scoring='f1', verbose=1)"
      ]
     },
     "execution_count": 66,
     "metadata": {},
     "output_type": "execute_result"
    }
   ],
   "source": [
    "grid = GridSearchCV(estimator=DecisionTreeClassifier(class_weight = \"balanced\"),\n",
    "                    param_grid=param_dict,\n",
    "                    cv = 5 ,\n",
    "                    verbose = 1 ,\n",
    "                    scoring = 'f1',\n",
    "                    n_jobs=-1)\n",
    "\n",
    "grid.fit(X_train_smote, y_train_smote)"
   ]
  },
  {
   "cell_type": "code",
   "execution_count": 43,
   "id": "912f2544",
   "metadata": {
    "id": "912f2544",
    "outputId": "f0689489-f0db-41b3-c337-8a74b9489fb1"
   },
   "outputs": [
    {
     "name": "stdout",
     "output_type": "stream",
     "text": [
      "Best Params:  {'criterion': 'gini', 'max_depth': 9, 'min_samples_leaf': 1, 'min_samples_split': 3}\n"
     ]
    }
   ],
   "source": [
    "print('Best Params: ', grid.best_params_)"
   ]
  },
  {
   "cell_type": "code",
   "execution_count": 44,
   "id": "acb3d3ed",
   "metadata": {
    "id": "acb3d3ed",
    "outputId": "58e2bb5c-733c-4847-d313-3834a9951978"
   },
   "outputs": [
    {
     "name": "stdout",
     "output_type": "stream",
     "text": [
      "Best Score:  0.8760622265962293\n"
     ]
    }
   ],
   "source": [
    "print('Best Score: ', grid.best_score_)"
   ]
  },
  {
   "cell_type": "code",
   "execution_count": 41,
   "id": "ab62b4cd",
   "metadata": {
    "id": "ab62b4cd"
   },
   "outputs": [],
   "source": [
    "model = DecisionTreeClassifier(criterion= 'gini',\n",
    "                               max_depth= 9,\n",
    "                               min_samples_leaf= 1,\n",
    "                               min_samples_split= 4,\n",
    "                               class_weight = \"balanced\"\n",
    "                              )"
   ]
  },
  {
   "cell_type": "code",
   "execution_count": 42,
   "id": "72270f65",
   "metadata": {
    "id": "72270f65",
    "outputId": "9f8153fa-3fa0-4bb1-8e8f-ff7f0335837f"
   },
   "outputs": [
    {
     "name": "stdout",
     "output_type": "stream",
     "text": [
      "................Train .......................\n",
      "[[28288  3682]\n",
      " [ 3784 28186]] : is the confusion matrix\n",
      "0.8832342821395058 : is the accuracy score\n",
      "0.8844609012175223 : is the precision score\n",
      "0.8830477145273975 : is the f1 score\n",
      "0.8832342821395056 : is the roc auc score\n",
      "4.0329910647816885 : is the logloss\n",
      "................Test.......................\n",
      "[[6933 1019]\n",
      " [ 288  803]] : is the confusion matrix\n",
      "0.85546831803605 : is the accuracy score\n",
      "0.4407244785949506 : is the precision score\n",
      "0.5513216615173361 : is the f1 score\n",
      "0.8039390674938725 : is the roc auc score\n",
      "4.992037547045188 : is the logloss\n"
     ]
    }
   ],
   "source": [
    "met(model, X_train_smote, y_train_smote, X_test_norm, y_test)"
   ]
  },
  {
   "cell_type": "code",
   "execution_count": null,
   "id": "755e10e5",
   "metadata": {
    "id": "755e10e5"
   },
   "outputs": [],
   "source": []
  },
  {
   "cell_type": "code",
   "execution_count": null,
   "id": "92378535",
   "metadata": {
    "id": "92378535"
   },
   "outputs": [],
   "source": []
  },
  {
   "cell_type": "markdown",
   "id": "e9a5c937",
   "metadata": {
    "id": "e9a5c937"
   },
   "source": [
    "### 2. Random Forest"
   ]
  },
  {
   "cell_type": "code",
   "execution_count": 42,
   "id": "f738d11f",
   "metadata": {
    "id": "f738d11f"
   },
   "outputs": [],
   "source": [
    "param_grid = {\n",
    "    'bootstrap': [True],\n",
    "    'max_depth': [10,15],\n",
    "    'max_features': [3],\n",
    "    'min_samples_leaf': [3,4,5,6],\n",
    "    'min_samples_split': [3,4,5,6],\n",
    "    'n_estimators': [1150, 1200, 1250, 1300,1350]\n",
    "}\n",
    "# Create a based model\n",
    "rf = RandomForestClassifier(class_weight = \"balanced\")\n",
    "# Instantiate the grid search model\n",
    "grid = GridSearchCV(estimator = rf,\n",
    "                           param_grid = param_grid, \n",
    "                           cv = 5,\n",
    "                           scoring = 'f1',\n",
    "                           n_jobs = -1, \n",
    "                           verbose = 1)"
   ]
  },
  {
   "cell_type": "code",
   "execution_count": 43,
   "id": "ddeb3be9",
   "metadata": {
    "id": "ddeb3be9",
    "outputId": "d260193b-9ac5-4ee8-bc0a-b3fd8313a7ad"
   },
   "outputs": [
    {
     "name": "stdout",
     "output_type": "stream",
     "text": [
      "Fitting 5 folds for each of 160 candidates, totalling 800 fits\n"
     ]
    },
    {
     "data": {
      "text/plain": [
       "GridSearchCV(cv=5, estimator=RandomForestClassifier(class_weight='balanced'),\n",
       "             n_jobs=-1,\n",
       "             param_grid={'bootstrap': [True], 'max_depth': [10, 15],\n",
       "                         'max_features': [3], 'min_samples_leaf': [3, 4, 5, 6],\n",
       "                         'min_samples_split': [3, 4, 5, 6],\n",
       "                         'n_estimators': [1150, 1200, 1250, 1300, 1350]},\n",
       "             scoring='f1', verbose=1)"
      ]
     },
     "execution_count": 43,
     "metadata": {},
     "output_type": "execute_result"
    }
   ],
   "source": [
    "grid.fit(X_train_smote, y_train_smote)"
   ]
  },
  {
   "cell_type": "code",
   "execution_count": 44,
   "id": "861e7654",
   "metadata": {
    "id": "861e7654",
    "outputId": "53bb113d-e9fe-4a36-c6d9-cd3840561544"
   },
   "outputs": [
    {
     "name": "stdout",
     "output_type": "stream",
     "text": [
      "Best Score:  0.9305702147956374\n"
     ]
    }
   ],
   "source": [
    "print('Best Score: ', grid.best_score_)"
   ]
  },
  {
   "cell_type": "code",
   "execution_count": 45,
   "id": "f2e23ce7",
   "metadata": {
    "id": "f2e23ce7",
    "outputId": "60eacdfe-1df6-4844-c096-e0ec6021d884"
   },
   "outputs": [
    {
     "name": "stdout",
     "output_type": "stream",
     "text": [
      "Best Params:  {'bootstrap': True, 'max_depth': 15, 'max_features': 3, 'min_samples_leaf': 3, 'min_samples_split': 3, 'n_estimators': 1350}\n"
     ]
    }
   ],
   "source": [
    "print('Best Params: ', grid.best_params_)"
   ]
  },
  {
   "cell_type": "code",
   "execution_count": 55,
   "id": "ef208870",
   "metadata": {
    "id": "ef208870"
   },
   "outputs": [],
   "source": [
    "rfc = RandomForestClassifier(bootstrap = True,\n",
    "                               max_depth = 15,\n",
    "                               max_features = 4, \n",
    "                               min_samples_leaf = 3, \n",
    "                               min_samples_split = 3, \n",
    "                               n_estimators = 1500,\n",
    "                            class_weight = \"balanced\")"
   ]
  },
  {
   "cell_type": "code",
   "execution_count": 56,
   "id": "13bcc03a",
   "metadata": {
    "id": "13bcc03a"
   },
   "outputs": [],
   "source": [
    "# rfc.fit(X_train_smote, y_train_smote)\n",
    "# y_pred=rfc.predict(X_test_norm)"
   ]
  },
  {
   "cell_type": "code",
   "execution_count": 57,
   "id": "775e9c83",
   "metadata": {
    "id": "775e9c83",
    "outputId": "0a28a132-3985-4608-d08f-dcf8d682f76b"
   },
   "outputs": [
    {
     "name": "stdout",
     "output_type": "stream",
     "text": [
      "................Train .......................\n",
      "[[30175  1795]\n",
      " [  514 31456]] : is the confusion matrix\n",
      "0.9638880200187676 : is the accuracy score\n",
      "0.946016661153048 : is the precision score\n",
      "0.9645972922831604 : is the f1 score\n",
      "0.9638880200187676 : is the roc auc score\n",
      "1.2472860490027526 : is the logloss\n",
      "................Test.......................\n",
      "[[7185  767]\n",
      " [ 276  815]] : is the confusion matrix\n",
      "0.884662169633971 : is the accuracy score\n",
      "0.5151706700379267 : is the precision score\n",
      "0.609801720912832 : is the f1 score\n",
      "0.8252836796212656 : is the roc auc score\n",
      "3.9836953523300687 : is the logloss\n"
     ]
    }
   ],
   "source": [
    "met(rfc, X_train_smote, y_train_smote, X_test_norm, y_test)"
   ]
  },
  {
   "cell_type": "code",
   "execution_count": null,
   "id": "55534b24",
   "metadata": {
    "id": "55534b24"
   },
   "outputs": [],
   "source": []
  },
  {
   "cell_type": "code",
   "execution_count": null,
   "id": "0486367a",
   "metadata": {
    "id": "0486367a",
    "outputId": "57d62c32-f7f4-4a93-b122-d0a1ba74dfb9"
   },
   "outputs": [
    {
     "data": {
      "text/html": [
       "<div>\n",
       "<style scoped>\n",
       "    .dataframe tbody tr th:only-of-type {\n",
       "        vertical-align: middle;\n",
       "    }\n",
       "\n",
       "    .dataframe tbody tr th {\n",
       "        vertical-align: top;\n",
       "    }\n",
       "\n",
       "    .dataframe thead th {\n",
       "        text-align: right;\n",
       "    }\n",
       "</style>\n",
       "<table border=\"1\" class=\"dataframe\">\n",
       "  <thead>\n",
       "    <tr style=\"text-align: right;\">\n",
       "      <th></th>\n",
       "      <th>age</th>\n",
       "      <th>job</th>\n",
       "      <th>marital</th>\n",
       "      <th>education</th>\n",
       "      <th>default</th>\n",
       "      <th>balance</th>\n",
       "      <th>housing</th>\n",
       "      <th>loan</th>\n",
       "      <th>duration</th>\n",
       "      <th>campaign</th>\n",
       "      <th>pdays</th>\n",
       "      <th>previous</th>\n",
       "      <th>poutcome</th>\n",
       "    </tr>\n",
       "  </thead>\n",
       "  <tbody>\n",
       "    <tr>\n",
       "      <th>72809</th>\n",
       "      <td>27</td>\n",
       "      <td>4.0</td>\n",
       "      <td>2</td>\n",
       "      <td>1</td>\n",
       "      <td>0</td>\n",
       "      <td>416</td>\n",
       "      <td>1</td>\n",
       "      <td>0</td>\n",
       "      <td>1193</td>\n",
       "      <td>2</td>\n",
       "      <td>-1</td>\n",
       "      <td>0</td>\n",
       "      <td>2</td>\n",
       "    </tr>\n",
       "    <tr>\n",
       "      <th>71061</th>\n",
       "      <td>32</td>\n",
       "      <td>11.0</td>\n",
       "      <td>0</td>\n",
       "      <td>3</td>\n",
       "      <td>0</td>\n",
       "      <td>2016</td>\n",
       "      <td>0</td>\n",
       "      <td>0</td>\n",
       "      <td>232</td>\n",
       "      <td>1</td>\n",
       "      <td>348</td>\n",
       "      <td>1</td>\n",
       "      <td>3</td>\n",
       "    </tr>\n",
       "    <tr>\n",
       "      <th>57176</th>\n",
       "      <td>39</td>\n",
       "      <td>4.0</td>\n",
       "      <td>1</td>\n",
       "      <td>1</td>\n",
       "      <td>0</td>\n",
       "      <td>1317</td>\n",
       "      <td>1</td>\n",
       "      <td>0</td>\n",
       "      <td>543</td>\n",
       "      <td>1</td>\n",
       "      <td>170</td>\n",
       "      <td>4</td>\n",
       "      <td>1</td>\n",
       "    </tr>\n",
       "    <tr>\n",
       "      <th>40165</th>\n",
       "      <td>35</td>\n",
       "      <td>11.0</td>\n",
       "      <td>2</td>\n",
       "      <td>3</td>\n",
       "      <td>0</td>\n",
       "      <td>697</td>\n",
       "      <td>0</td>\n",
       "      <td>0</td>\n",
       "      <td>57</td>\n",
       "      <td>2</td>\n",
       "      <td>304</td>\n",
       "      <td>1</td>\n",
       "      <td>0</td>\n",
       "    </tr>\n",
       "    <tr>\n",
       "      <th>71998</th>\n",
       "      <td>45</td>\n",
       "      <td>11.0</td>\n",
       "      <td>0</td>\n",
       "      <td>3</td>\n",
       "      <td>0</td>\n",
       "      <td>2067</td>\n",
       "      <td>1</td>\n",
       "      <td>0</td>\n",
       "      <td>393</td>\n",
       "      <td>2</td>\n",
       "      <td>462</td>\n",
       "      <td>1</td>\n",
       "      <td>3</td>\n",
       "    </tr>\n",
       "    <tr>\n",
       "      <th>...</th>\n",
       "      <td>...</td>\n",
       "      <td>...</td>\n",
       "      <td>...</td>\n",
       "      <td>...</td>\n",
       "      <td>...</td>\n",
       "      <td>...</td>\n",
       "      <td>...</td>\n",
       "      <td>...</td>\n",
       "      <td>...</td>\n",
       "      <td>...</td>\n",
       "      <td>...</td>\n",
       "      <td>...</td>\n",
       "      <td>...</td>\n",
       "    </tr>\n",
       "    <tr>\n",
       "      <th>68683</th>\n",
       "      <td>63</td>\n",
       "      <td>7.0</td>\n",
       "      <td>1</td>\n",
       "      <td>1</td>\n",
       "      <td>0</td>\n",
       "      <td>109</td>\n",
       "      <td>0</td>\n",
       "      <td>0</td>\n",
       "      <td>406</td>\n",
       "      <td>2</td>\n",
       "      <td>-1</td>\n",
       "      <td>0</td>\n",
       "      <td>2</td>\n",
       "    </tr>\n",
       "    <tr>\n",
       "      <th>39543</th>\n",
       "      <td>52</td>\n",
       "      <td>0.0</td>\n",
       "      <td>2</td>\n",
       "      <td>2</td>\n",
       "      <td>0</td>\n",
       "      <td>5091</td>\n",
       "      <td>0</td>\n",
       "      <td>0</td>\n",
       "      <td>309</td>\n",
       "      <td>1</td>\n",
       "      <td>-1</td>\n",
       "      <td>0</td>\n",
       "      <td>2</td>\n",
       "    </tr>\n",
       "    <tr>\n",
       "      <th>32278</th>\n",
       "      <td>51</td>\n",
       "      <td>4.0</td>\n",
       "      <td>2</td>\n",
       "      <td>2</td>\n",
       "      <td>0</td>\n",
       "      <td>2964</td>\n",
       "      <td>1</td>\n",
       "      <td>0</td>\n",
       "      <td>177</td>\n",
       "      <td>1</td>\n",
       "      <td>-1</td>\n",
       "      <td>0</td>\n",
       "      <td>2</td>\n",
       "    </tr>\n",
       "    <tr>\n",
       "      <th>65269</th>\n",
       "      <td>54</td>\n",
       "      <td>0.0</td>\n",
       "      <td>0</td>\n",
       "      <td>2</td>\n",
       "      <td>0</td>\n",
       "      <td>380</td>\n",
       "      <td>0</td>\n",
       "      <td>0</td>\n",
       "      <td>696</td>\n",
       "      <td>2</td>\n",
       "      <td>-1</td>\n",
       "      <td>0</td>\n",
       "      <td>2</td>\n",
       "    </tr>\n",
       "    <tr>\n",
       "      <th>47389</th>\n",
       "      <td>31</td>\n",
       "      <td>11.0</td>\n",
       "      <td>0</td>\n",
       "      <td>3</td>\n",
       "      <td>0</td>\n",
       "      <td>533</td>\n",
       "      <td>0</td>\n",
       "      <td>0</td>\n",
       "      <td>372</td>\n",
       "      <td>1</td>\n",
       "      <td>90</td>\n",
       "      <td>10</td>\n",
       "      <td>3</td>\n",
       "    </tr>\n",
       "  </tbody>\n",
       "</table>\n",
       "<p>15969 rows × 13 columns</p>\n",
       "</div>"
      ],
      "text/plain": [
       "       age   job  marital  education  default  balance  housing  loan  \\\n",
       "72809   27   4.0        2          1        0      416        1     0   \n",
       "71061   32  11.0        0          3        0     2016        0     0   \n",
       "57176   39   4.0        1          1        0     1317        1     0   \n",
       "40165   35  11.0        2          3        0      697        0     0   \n",
       "71998   45  11.0        0          3        0     2067        1     0   \n",
       "...    ...   ...      ...        ...      ...      ...      ...   ...   \n",
       "68683   63   7.0        1          1        0      109        0     0   \n",
       "39543   52   0.0        2          2        0     5091        0     0   \n",
       "32278   51   4.0        2          2        0     2964        1     0   \n",
       "65269   54   0.0        0          2        0      380        0     0   \n",
       "47389   31  11.0        0          3        0      533        0     0   \n",
       "\n",
       "       duration  campaign  pdays  previous  poutcome  \n",
       "72809      1193         2     -1         0         2  \n",
       "71061       232         1    348         1         3  \n",
       "57176       543         1    170         4         1  \n",
       "40165        57         2    304         1         0  \n",
       "71998       393         2    462         1         3  \n",
       "...         ...       ...    ...       ...       ...  \n",
       "68683       406         2     -1         0         2  \n",
       "39543       309         1     -1         0         2  \n",
       "32278       177         1     -1         0         2  \n",
       "65269       696         2     -1         0         2  \n",
       "47389       372         1     90        10         3  \n",
       "\n",
       "[15969 rows x 13 columns]"
      ]
     },
     "execution_count": 31,
     "metadata": {},
     "output_type": "execute_result"
    }
   ],
   "source": []
  },
  {
   "cell_type": "code",
   "execution_count": null,
   "id": "52cf083a",
   "metadata": {
    "id": "52cf083a"
   },
   "outputs": [],
   "source": []
  },
  {
   "cell_type": "code",
   "execution_count": null,
   "id": "4e2ea051",
   "metadata": {
    "id": "4e2ea051"
   },
   "outputs": [],
   "source": []
  },
  {
   "cell_type": "markdown",
   "id": "60c03b6b",
   "metadata": {
    "id": "60c03b6b"
   },
   "source": [
    "### 3. Logistic Regression"
   ]
  },
  {
   "cell_type": "code",
   "execution_count": 58,
   "id": "pHzFTQK6tdlm",
   "metadata": {
    "id": "pHzFTQK6tdlm"
   },
   "outputs": [],
   "source": [
    "penalty = ['l1', 'l2']\n",
    "C = [0.0001, 0.001, 0.01, 0.1, 1, 10, 100, 1000]\n",
    "# class_weight = [{1:0.5, 0:0.5}, {1:0.4, 0:0.6}, {1:0.6, 0:0.4}, {1:0.7, 0:0.3}]\n",
    "solver = ['liblinear', 'saga']\n",
    "\n",
    "param_grid = dict(penalty=penalty,\n",
    "                  C=C,\n",
    "#                   class_weight=class_weight,\n",
    "                  solver=solver)\n",
    "\n",
    "grid = GridSearchCV(estimator=LogisticRegression(class_weight = \"balanced\"),\n",
    "                    param_grid=param_grid,\n",
    "                    scoring='f1',\n",
    "                    verbose=1,\n",
    "                    n_jobs=-1)"
   ]
  },
  {
   "cell_type": "code",
   "execution_count": 59,
   "id": "vjGnFHYztdjW",
   "metadata": {
    "colab": {
     "base_uri": "https://localhost:8080/"
    },
    "id": "vjGnFHYztdjW",
    "outputId": "aec05232-f534-49da-915b-e299595694da"
   },
   "outputs": [
    {
     "name": "stdout",
     "output_type": "stream",
     "text": [
      "Fitting 5 folds for each of 32 candidates, totalling 160 fits\n"
     ]
    }
   ],
   "source": [
    "grid = grid.fit(X_train_smote, y_train_smote)"
   ]
  },
  {
   "cell_type": "code",
   "execution_count": 60,
   "id": "T3G8xdk9y8kv",
   "metadata": {
    "id": "T3G8xdk9y8kv",
    "outputId": "b99bbefe-6102-4829-a5f5-64de6a5f9973"
   },
   "outputs": [
    {
     "name": "stdout",
     "output_type": "stream",
     "text": [
      "Best Score:  0.8146796399164133\n"
     ]
    }
   ],
   "source": [
    "print('Best Score: ', grid.best_score_)"
   ]
  },
  {
   "cell_type": "code",
   "execution_count": 61,
   "id": "Mc1Kle8MtdbJ",
   "metadata": {
    "id": "Mc1Kle8MtdbJ",
    "outputId": "e15dc071-dab9-4e76-94a3-469f02ddfce1"
   },
   "outputs": [
    {
     "name": "stdout",
     "output_type": "stream",
     "text": [
      "Best Params:  {'C': 0.0001, 'penalty': 'l2', 'solver': 'liblinear'}\n"
     ]
    }
   ],
   "source": [
    "print('Best Params: ', grid.best_params_)"
   ]
  },
  {
   "cell_type": "code",
   "execution_count": 64,
   "id": "Er9a4nQdtdYq",
   "metadata": {
    "id": "Er9a4nQdtdYq"
   },
   "outputs": [],
   "source": [
    "# model = LogisticRegression(C=10,class_weight={1: 0.7, 0: 0.3},penalty='l1',solver='liblinear')\n",
    "model = LogisticRegression(C=0.0001, class_weight=\"balanced\", penalty='l2', solver='liblinear')"
   ]
  },
  {
   "cell_type": "code",
   "execution_count": 63,
   "id": "3jYLq8I8pPL-",
   "metadata": {
    "id": "3jYLq8I8pPL-"
   },
   "outputs": [],
   "source": [
    "# model.fit(X_train1,y_train1)\n",
    "# y_pred=model.predict(X_test1)"
   ]
  },
  {
   "cell_type": "code",
   "execution_count": 65,
   "id": "98d6a7d7",
   "metadata": {
    "id": "98d6a7d7",
    "outputId": "c5b4a9b7-b858-4821-bbcf-702426c16522"
   },
   "outputs": [
    {
     "name": "stdout",
     "output_type": "stream",
     "text": [
      "................Train .......................\n",
      "[[25857  6113]\n",
      " [ 6331 25639]] : is the confusion matrix\n",
      "0.8053800437910541 : is the accuracy score\n",
      "0.8074766943814563 : is the precision score\n",
      "0.804714227425379 : is the f1 score\n",
      "0.8053800437910541 : is the roc auc score\n",
      "6.722011595204243 : is the logloss\n",
      "................Test.......................\n",
      "[[6403 1549]\n",
      " [ 238  853]] : is the confusion matrix\n",
      "0.8023885878580117 : is the accuracy score\n",
      "0.35512073272273104 : is the precision score\n",
      "0.48840538219295737 : is the f1 score\n",
      "0.793528874899258 : is the roc auc score\n",
      "6.825393342267474 : is the logloss\n"
     ]
    }
   ],
   "source": [
    "met(model, X_train_smote, y_train_smote, X_test_norm, y_test)"
   ]
  },
  {
   "cell_type": "code",
   "execution_count": null,
   "id": "987c2871",
   "metadata": {
    "id": "987c2871"
   },
   "outputs": [],
   "source": []
  },
  {
   "cell_type": "markdown",
   "id": "a22d29ce",
   "metadata": {
    "id": "a22d29ce"
   },
   "source": [
    "### 4. XGboost"
   ]
  },
  {
   "cell_type": "code",
   "execution_count": 68,
   "id": "1d325075",
   "metadata": {
    "id": "1d325075"
   },
   "outputs": [
    {
     "ename": "XGBoostError",
     "evalue": "\nXGBoost Library (libxgboost.dylib) could not be loaded.\nLikely causes:\n  * OpenMP runtime is not installed\n    - vcomp140.dll or libgomp-1.dll for Windows\n    - libomp.dylib for Mac OSX\n    - libgomp.so for Linux and other UNIX-like OSes\n    Mac OSX users: Run `brew install libomp` to install OpenMP runtime.\n\n  * You are running 32-bit Python on a 64-bit OS\n\nError message(s): [\"dlopen(/opt/anaconda3/lib/python3.8/site-packages/xgboost/lib/libxgboost.dylib, 0x0006): Library not loaded: /usr/local/opt/libomp/lib/libomp.dylib\\n  Referenced from: /opt/anaconda3/lib/python3.8/site-packages/xgboost/lib/libxgboost.dylib\\n  Reason: tried: '/usr/local/opt/libomp/lib/libomp.dylib' (no such file), '/usr/local/lib/libomp.dylib' (no such file), '/usr/lib/libomp.dylib' (no such file)\"]\n",
     "output_type": "error",
     "traceback": [
      "\u001b[0;31m---------------------------------------------------------------------------\u001b[0m",
      "\u001b[0;31mXGBoostError\u001b[0m                              Traceback (most recent call last)",
      "\u001b[0;32m<ipython-input-68-e2cbe280b247>\u001b[0m in \u001b[0;36m<module>\u001b[0;34m\u001b[0m\n\u001b[0;32m----> 1\u001b[0;31m \u001b[0;32mfrom\u001b[0m \u001b[0mxgboost\u001b[0m \u001b[0;32mimport\u001b[0m \u001b[0mXGBClassifier\u001b[0m\u001b[0;34m\u001b[0m\u001b[0;34m\u001b[0m\u001b[0m\n\u001b[0m\u001b[1;32m      2\u001b[0m estimator = XGBClassifier(\n\u001b[1;32m      3\u001b[0m     \u001b[0mobjective\u001b[0m\u001b[0;34m=\u001b[0m \u001b[0;34m'binary:logistic'\u001b[0m\u001b[0;34m,\u001b[0m\u001b[0;34m\u001b[0m\u001b[0;34m\u001b[0m\u001b[0m\n\u001b[1;32m      4\u001b[0m     \u001b[0mnjob\u001b[0m \u001b[0;34m=\u001b[0m \u001b[0;34m-\u001b[0m\u001b[0;36m1\u001b[0m\u001b[0;34m,\u001b[0m\u001b[0;34m\u001b[0m\u001b[0;34m\u001b[0m\u001b[0m\n\u001b[1;32m      5\u001b[0m     \u001b[0mcv\u001b[0m \u001b[0;34m=\u001b[0m \u001b[0;36m5\u001b[0m\u001b[0;34m,\u001b[0m\u001b[0;34m\u001b[0m\u001b[0;34m\u001b[0m\u001b[0m\n",
      "\u001b[0;32m/opt/anaconda3/lib/python3.8/site-packages/xgboost/__init__.py\u001b[0m in \u001b[0;36m<module>\u001b[0;34m\u001b[0m\n\u001b[1;32m      7\u001b[0m \u001b[0;32mimport\u001b[0m \u001b[0mos\u001b[0m\u001b[0;34m\u001b[0m\u001b[0;34m\u001b[0m\u001b[0m\n\u001b[1;32m      8\u001b[0m \u001b[0;34m\u001b[0m\u001b[0m\n\u001b[0;32m----> 9\u001b[0;31m \u001b[0;32mfrom\u001b[0m \u001b[0;34m.\u001b[0m\u001b[0mcore\u001b[0m \u001b[0;32mimport\u001b[0m \u001b[0mDMatrix\u001b[0m\u001b[0;34m,\u001b[0m \u001b[0mDeviceQuantileDMatrix\u001b[0m\u001b[0;34m,\u001b[0m \u001b[0mBooster\u001b[0m\u001b[0;34m,\u001b[0m \u001b[0mDataIter\u001b[0m\u001b[0;34m\u001b[0m\u001b[0;34m\u001b[0m\u001b[0m\n\u001b[0m\u001b[1;32m     10\u001b[0m \u001b[0;32mfrom\u001b[0m \u001b[0;34m.\u001b[0m\u001b[0mtraining\u001b[0m \u001b[0;32mimport\u001b[0m \u001b[0mtrain\u001b[0m\u001b[0;34m,\u001b[0m \u001b[0mcv\u001b[0m\u001b[0;34m\u001b[0m\u001b[0;34m\u001b[0m\u001b[0m\n\u001b[1;32m     11\u001b[0m \u001b[0;32mfrom\u001b[0m \u001b[0;34m.\u001b[0m \u001b[0;32mimport\u001b[0m \u001b[0mrabit\u001b[0m  \u001b[0;31m# noqa\u001b[0m\u001b[0;34m\u001b[0m\u001b[0;34m\u001b[0m\u001b[0m\n",
      "\u001b[0;32m/opt/anaconda3/lib/python3.8/site-packages/xgboost/core.py\u001b[0m in \u001b[0;36m<module>\u001b[0;34m\u001b[0m\n\u001b[1;32m    201\u001b[0m \u001b[0;34m\u001b[0m\u001b[0m\n\u001b[1;32m    202\u001b[0m \u001b[0;31m# load the XGBoost library globally\u001b[0m\u001b[0;34m\u001b[0m\u001b[0;34m\u001b[0m\u001b[0;34m\u001b[0m\u001b[0m\n\u001b[0;32m--> 203\u001b[0;31m \u001b[0m_LIB\u001b[0m \u001b[0;34m=\u001b[0m \u001b[0m_load_lib\u001b[0m\u001b[0;34m(\u001b[0m\u001b[0;34m)\u001b[0m\u001b[0;34m\u001b[0m\u001b[0;34m\u001b[0m\u001b[0m\n\u001b[0m\u001b[1;32m    204\u001b[0m \u001b[0;34m\u001b[0m\u001b[0m\n\u001b[1;32m    205\u001b[0m \u001b[0;34m\u001b[0m\u001b[0m\n",
      "\u001b[0;32m/opt/anaconda3/lib/python3.8/site-packages/xgboost/core.py\u001b[0m in \u001b[0;36m_load_lib\u001b[0;34m()\u001b[0m\n\u001b[1;32m    179\u001b[0m     \u001b[0;32mif\u001b[0m \u001b[0;32mnot\u001b[0m \u001b[0mlib_success\u001b[0m\u001b[0;34m:\u001b[0m\u001b[0;34m\u001b[0m\u001b[0;34m\u001b[0m\u001b[0m\n\u001b[1;32m    180\u001b[0m         \u001b[0mlibname\u001b[0m \u001b[0;34m=\u001b[0m \u001b[0mos\u001b[0m\u001b[0;34m.\u001b[0m\u001b[0mpath\u001b[0m\u001b[0;34m.\u001b[0m\u001b[0mbasename\u001b[0m\u001b[0;34m(\u001b[0m\u001b[0mlib_paths\u001b[0m\u001b[0;34m[\u001b[0m\u001b[0;36m0\u001b[0m\u001b[0;34m]\u001b[0m\u001b[0;34m)\u001b[0m\u001b[0;34m\u001b[0m\u001b[0;34m\u001b[0m\u001b[0m\n\u001b[0;32m--> 181\u001b[0;31m         raise XGBoostError(\n\u001b[0m\u001b[1;32m    182\u001b[0m             f\"\"\"\n\u001b[1;32m    183\u001b[0m \u001b[0mXGBoost\u001b[0m \u001b[0mLibrary\u001b[0m \u001b[0;34m(\u001b[0m\u001b[0;34m{\u001b[0m\u001b[0mlibname\u001b[0m\u001b[0;34m}\u001b[0m\u001b[0;34m)\u001b[0m \u001b[0mcould\u001b[0m \u001b[0;32mnot\u001b[0m \u001b[0mbe\u001b[0m \u001b[0mloaded\u001b[0m\u001b[0;34m.\u001b[0m\u001b[0;34m\u001b[0m\u001b[0;34m\u001b[0m\u001b[0m\n",
      "\u001b[0;31mXGBoostError\u001b[0m: \nXGBoost Library (libxgboost.dylib) could not be loaded.\nLikely causes:\n  * OpenMP runtime is not installed\n    - vcomp140.dll or libgomp-1.dll for Windows\n    - libomp.dylib for Mac OSX\n    - libgomp.so for Linux and other UNIX-like OSes\n    Mac OSX users: Run `brew install libomp` to install OpenMP runtime.\n\n  * You are running 32-bit Python on a 64-bit OS\n\nError message(s): [\"dlopen(/opt/anaconda3/lib/python3.8/site-packages/xgboost/lib/libxgboost.dylib, 0x0006): Library not loaded: /usr/local/opt/libomp/lib/libomp.dylib\\n  Referenced from: /opt/anaconda3/lib/python3.8/site-packages/xgboost/lib/libxgboost.dylib\\n  Reason: tried: '/usr/local/opt/libomp/lib/libomp.dylib' (no such file), '/usr/local/lib/libomp.dylib' (no such file), '/usr/lib/libomp.dylib' (no such file)\"]\n"
     ]
    }
   ],
   "source": [
    "from xgboost import XGBClassifier\n",
    "estimator = XGBClassifier(\n",
    "    objective= 'binary:logistic',\n",
    "    njob = -1,\n",
    "    cv = 5,\n",
    "    scoring = 'f1',\n",
    "    seed=42,\n",
    "    scale_pos_weight=7.5481\n",
    ")"
   ]
  },
  {
   "cell_type": "code",
   "execution_count": null,
   "id": "018d619a",
   "metadata": {},
   "outputs": [],
   "source": [
    "#     scale_pos_weight=2.7473"
   ]
  },
  {
   "cell_type": "code",
   "execution_count": 71,
   "id": "da75263b",
   "metadata": {},
   "outputs": [
    {
     "name": "stdout",
     "output_type": "stream",
     "text": [
      "\u001b[31mERROR: Could not find a version that satisfies the requirement libomp\u001b[0m\r\n",
      "\u001b[31mERROR: No matching distribution found for libomp\u001b[0m\r\n"
     ]
    }
   ],
   "source": [
    "!pip install libomp"
   ]
  },
  {
   "cell_type": "code",
   "execution_count": null,
   "id": "62442191",
   "metadata": {
    "id": "62442191"
   },
   "outputs": [],
   "source": [
    "parameters = {\n",
    "    'max_depth': range (2, 10, 1),\n",
    "    'n_estimators': range(60, 220, 40),\n",
    "    'learning_rate': [0.1, 0.01, 0.05]\n",
    "    \n",
    "}"
   ]
  },
  {
   "cell_type": "code",
   "execution_count": null,
   "id": "9fe35d0b",
   "metadata": {
    "id": "9fe35d0b"
   },
   "outputs": [],
   "source": [
    "grid = GridSearchCV(\n",
    "    estimator=estimator,\n",
    "    param_grid=parameters,\n",
    "    verbose=True\n",
    ")"
   ]
  },
  {
   "cell_type": "code",
   "execution_count": null,
   "id": "2476021e",
   "metadata": {
    "id": "2476021e"
   },
   "outputs": [],
   "source": [
    "grid.fit(X_train_smote, y_train_smote)"
   ]
  },
  {
   "cell_type": "code",
   "execution_count": null,
   "id": "97eaaf75",
   "metadata": {
    "id": "97eaaf75"
   },
   "outputs": [],
   "source": [
    "print('Best Score: ', grid.best_score_)"
   ]
  },
  {
   "cell_type": "code",
   "execution_count": null,
   "id": "f7e0d368",
   "metadata": {
    "id": "f7e0d368"
   },
   "outputs": [],
   "source": [
    "print('Best Params: ', grid_result.best_params_)"
   ]
  },
  {
   "cell_type": "code",
   "execution_count": null,
   "id": "6d0a2b37",
   "metadata": {
    "id": "6d0a2b37"
   },
   "outputs": [],
   "source": [
    "grid_search.best_estimator_"
   ]
  },
  {
   "cell_type": "code",
   "execution_count": null,
   "id": "be49999b",
   "metadata": {
    "id": "be49999b"
   },
   "outputs": [],
   "source": [
    "model = XGBClassifier(cv=5, max_depth=4, n_estimators=180, njob=-1, scoring='roc_auc',\n",
    "              seed=42)\n",
    "model.fit(X_train_smote, y_train_smote)"
   ]
  },
  {
   "cell_type": "code",
   "execution_count": null,
   "id": "a845c544",
   "metadata": {
    "id": "a845c544"
   },
   "outputs": [],
   "source": [
    "met(model, X_train_smote, y_train_smote, X_test_norm, y_test)"
   ]
  },
  {
   "cell_type": "code",
   "execution_count": null,
   "id": "4131d79d",
   "metadata": {
    "id": "4131d79d"
   },
   "outputs": [],
   "source": []
  },
  {
   "cell_type": "markdown",
   "id": "d521c25a",
   "metadata": {
    "id": "d521c25a"
   },
   "source": [
    "### 5. Naive Bayes"
   ]
  },
  {
   "cell_type": "code",
   "execution_count": null,
   "id": "f91c7298",
   "metadata": {
    "id": "f91c7298"
   },
   "outputs": [],
   "source": [
    "param_grid_nb = {\n",
    "    'var_smoothing': np.logspace(0,-9, num=100)\n",
    "}"
   ]
  },
  {
   "cell_type": "code",
   "execution_count": null,
   "id": "686e6c4c",
   "metadata": {
    "id": "686e6c4c"
   },
   "outputs": [],
   "source": [
    "from sklearn.naive_bayes import GaussianNB\n",
    "from sklearn.model_selection import GridSearchCV\n",
    "nbModel_grid = GridSearchCV(estimator=GaussianNB(),\n",
    "                            param_grid=param_grid_nb, \n",
    "                            scoring = 'f1',\n",
    "                            verbose=1, \n",
    "                            cv=5, \n",
    "                            n_jobs=-1)"
   ]
  },
  {
   "cell_type": "code",
   "execution_count": null,
   "id": "86e9f11b",
   "metadata": {
    "id": "86e9f11b"
   },
   "outputs": [],
   "source": [
    "nbModel_grid.fit(X_train_smote, y_train_smote)"
   ]
  },
  {
   "cell_type": "code",
   "execution_count": null,
   "id": "6046099b",
   "metadata": {
    "id": "6046099b"
   },
   "outputs": [],
   "source": [
    "print(nbModel_grid.best_estimator_)"
   ]
  },
  {
   "cell_type": "code",
   "execution_count": null,
   "id": "2383869a",
   "metadata": {
    "id": "2383869a"
   },
   "outputs": [],
   "source": [
    "print('Best Score: ', nbModel_grid.best_score_)"
   ]
  },
  {
   "cell_type": "code",
   "execution_count": null,
   "id": "9f71560a",
   "metadata": {
    "id": "9f71560a"
   },
   "outputs": [],
   "source": [
    "print('Best Params: ', nbModel_grid.best_params_)"
   ]
  },
  {
   "cell_type": "code",
   "execution_count": null,
   "id": "204a9721",
   "metadata": {
    "id": "204a9721"
   },
   "outputs": [],
   "source": [
    "model = GaussianNB(var_smoothing=0.002848035868435802)"
   ]
  },
  {
   "cell_type": "code",
   "execution_count": null,
   "id": "7bb1d2f5",
   "metadata": {
    "id": "7bb1d2f5"
   },
   "outputs": [],
   "source": [
    "# model.fit(X_train1,y_train1)\n",
    "# y_pred=model.predict(X_test1)"
   ]
  },
  {
   "cell_type": "code",
   "execution_count": null,
   "id": "e8894513",
   "metadata": {
    "id": "e8894513"
   },
   "outputs": [],
   "source": [
    "met(model, X_train_smote, y_train_smote, X_test_norm, y_test)"
   ]
  },
  {
   "cell_type": "code",
   "execution_count": null,
   "id": "d8841d21",
   "metadata": {
    "id": "d8841d21"
   },
   "outputs": [],
   "source": []
  },
  {
   "cell_type": "code",
   "execution_count": null,
   "id": "215d7db1",
   "metadata": {
    "id": "215d7db1"
   },
   "outputs": [],
   "source": []
  },
  {
   "cell_type": "markdown",
   "id": "lw4F0pYoRMwz",
   "metadata": {
    "id": "lw4F0pYoRMwz"
   },
   "source": [
    "## Hyperparameter Metrics :\n"
   ]
  },
  {
   "cell_type": "code",
   "execution_count": null,
   "id": "1407f0e7",
   "metadata": {
    "colab": {
     "base_uri": "https://localhost:8080/"
    },
    "id": "1407f0e7",
    "outputId": "729c755b-8d78-421c-fa7a-5599ea3db0b8"
   },
   "outputs": [
    {
     "name": "stdout",
     "output_type": "stream",
     "text": [
      "==============================\n",
      "DecisionTreeClassifier\n",
      "****Results****\n",
      "Accuracy: 83.8552%\n",
      "precision_score: \n",
      " 0.8154343834698219\n",
      "f1_score: \n",
      " 0.8442587088695442\n",
      "confusion_matrix: \n",
      " [[25637  6333]\n",
      " [ 3990 27980]]\n",
      "log_loss: \n",
      " 5.576303606118055\n",
      "==============================\n",
      "RandomForestClassifier\n",
      "****Results****\n",
      "Accuracy: 93.2468%\n",
      "precision_score: \n",
      " 0.9067666960870845\n",
      "f1_score: \n",
      " 0.9345360824742269\n",
      "confusion_matrix: \n",
      " [[28801  3169]\n",
      " [ 1149 30821]]\n",
      "log_loss: \n",
      " 2.3325143947056715\n",
      "==============================\n",
      "XGBClassifier\n",
      "****Results****\n",
      "Accuracy: 84.7826%\n",
      "precision_score: \n",
      " 0.8342551400745462\n",
      "f1_score: \n",
      " 0.8508537968668567\n",
      "confusion_matrix: \n",
      " [[26456  5514]\n",
      " [ 4216 27754]]\n",
      "log_loss: \n",
      " 5.255969710708649\n",
      "==============================\n",
      "LogisticRegression\n",
      "****Results****\n",
      "Accuracy: 77.8730%\n",
      "precision_score: \n",
      " 0.7186533837169358\n",
      "f1_score: \n",
      " 0.8054562455310489\n",
      "confusion_matrix: \n",
      " [[20504 11466]\n",
      " [ 2682 29288]]\n",
      "log_loss: \n",
      " 7.642536387540366\n",
      "==============================\n",
      "GaussianNB\n",
      "****Results****\n",
      "Accuracy: 67.2881%\n",
      "precision_score: \n",
      " 0.8266548463356974\n",
      "f1_score: \n",
      " 0.5721824503988545\n",
      "confusion_matrix: \n",
      " [[29037  2933]\n",
      " [17983 13987]]\n",
      "log_loss: \n",
      " 11.29833269151102\n",
      "==============================\n"
     ]
    }
   ],
   "source": [
    "# Implimenting different models\n",
    "from xgboost import XGBClassifier\n",
    "from sklearn.tree import DecisionTreeClassifier\n",
    "from sklearn.ensemble import RandomForestClassifier\n",
    "from sklearn.linear_model import LogisticRegression\n",
    "from sklearn.naive_bayes import GaussianNB\n",
    "\n",
    "classifiers = [\n",
    "    DecisionTreeClassifier(criterion = 'gini',\n",
    "                               max_depth = 9,\n",
    "                               min_samples_leaf = 1,\n",
    "                               min_samples_split = 2),\n",
    "    RandomForestClassifier(bootstrap = True,\n",
    "                               max_depth = 15,\n",
    "                               max_features = 4, \n",
    "                               min_samples_leaf = 4, \n",
    "                               min_samples_split = 4, \n",
    "                               n_estimators = 1300),\n",
    "    XGBClassifier(cv=5, max_depth=4, n_estimators=180, njob=-1, scoring='roc_auc',\n",
    "              seed=42),\n",
    "    LogisticRegression(C=10,class_weight={1: 0.7, 0: 0.3},penalty='l1',solver='liblinear'),\n",
    "    GaussianNB(var_smoothing=0.002848035868435802)]\n",
    "\n",
    "# Logging for Visual Comparison\n",
    "log_cols=[\"Classifier\", \"Accuracy\", 'Log Loss']\n",
    "log = pd.DataFrame(columns=log_cols)\n",
    "\n",
    "for clf in classifiers:\n",
    "    clf.fit(X_train, y_train)\n",
    "    name = clf.__class__.__name__\n",
    "    \n",
    "    print(\"=\"*30)\n",
    "    print(name)\n",
    "    try:\n",
    "        print('****Results****')\n",
    "        train_predictions = clf.predict(X_train)\n",
    "        acc = accuracy_score(y_train, train_predictions)\n",
    "        print(\"Accuracy: {:.4%}\".format(acc))\n",
    "        print(\"precision_score: \\n\",precision_score(y_train, train_predictions))\n",
    "        print(\"f1_score: \\n\",f1_score(y_train, train_predictions))\n",
    "        print(\"confusion_matrix: \\n\",confusion_matrix(y_train, train_predictions))\n",
    "        print(\"log_loss: \\n\",log_loss(y_train, train_predictions))\n",
    "        log_entry = pd.DataFrame([[name, acc*100, log_loss(y_train, train_predictions)]], columns=log_cols)\n",
    "        log = log.append(log_entry)\n",
    "    except Exception as e:\n",
    "        print (e)\n",
    "    \n",
    "print(\"=\"*30)"
   ]
  },
  {
   "cell_type": "code",
   "execution_count": null,
   "id": "U8EnP9QiRwcB",
   "metadata": {
    "colab": {
     "base_uri": "https://localhost:8080/",
     "height": 573
    },
    "id": "U8EnP9QiRwcB",
    "outputId": "3f965382-294d-4deb-d459-de8fa7ca8b0a"
   },
   "outputs": [
    {
     "data": {
      "image/png": "[encoded data removed]",
      "text/plain": [
       "<Figure size 432x288 with 1 Axes>"
      ]
     },
     "metadata": {
      "needs_background": "light"
     },
     "output_type": "display_data"
    },
    {
     "data": {
      "image/png": "[encoded data removed]",
      "text/plain": [
       "<Figure size 432x288 with 1 Axes>"
      ]
     },
     "metadata": {
      "needs_background": "light"
     },
     "output_type": "display_data"
    }
   ],
   "source": [
    "# Comparison between Classifier Accuracy and Accuracy Percentage \n",
    "sns.set_color_codes(\"muted\")\n",
    "sns.barplot(x='Accuracy', y='Classifier', data=log, color=\"b\")\n",
    "\n",
    "plt.xlabel('Accuracy %')\n",
    "plt.title('Classifier Accuracy')\n",
    "plt.show()\n",
    "\n",
    "sns.set_color_codes(\"muted\")\n",
    "sns.barplot(x='Log Loss', y='Classifier', data=log, color=\"g\")\n",
    "\n",
    "plt.xlabel('Log Loss')\n",
    "plt.title('Classifier Log Loss')\n",
    "plt.show()"
   ]
  },
  {
   "cell_type": "code",
   "execution_count": null,
   "id": "3J3KLiY7RwfW",
   "metadata": {
    "colab": {
     "base_uri": "https://localhost:8080/"
    },
    "id": "3J3KLiY7RwfW",
    "outputId": "e4313d42-d04d-4fdb-be33-ff5dc3889819"
   },
   "outputs": [
    {
     "name": "stdout",
     "output_type": "stream",
     "text": [
      "==============================\n",
      "DecisionTreeClassifier\n",
      "****Results****\n",
      "Accuracy: 78.6022%\n",
      "precision_score: \n",
      " 0.3361801242236025\n",
      "f1_score: \n",
      " 0.4723206981183529\n",
      "confusion_matrix: \n",
      " [[6242 1710]\n",
      " [ 225  866]]\n",
      "log_loss: \n",
      " 7.3906778321085715\n",
      "==============================\n",
      "RandomForestClassifier\n",
      "****Results****\n",
      "Accuracy: 85.2704%\n",
      "precision_score: \n",
      " 0.43627710206240083\n",
      "f1_score: \n",
      " 0.5533199195171027\n",
      "confusion_matrix: \n",
      " [[6886 1066]\n",
      " [ 266  825]]\n",
      "log_loss: \n",
      " 5.087526543058899\n",
      "==============================\n",
      "XGBClassifier\n",
      "****Results****\n",
      "Accuracy: 81.9308%\n",
      "precision_score: \n",
      " 0.38392475416844807\n",
      "f1_score: \n",
      " 0.5236151603498542\n",
      "confusion_matrix: \n",
      " [[6511 1441]\n",
      " [ 193  898]]\n",
      "log_loss: \n",
      " 6.241016570737695\n",
      "==============================\n",
      "LogisticRegression\n",
      "****Results****\n",
      "Accuracy: 66.3607%\n",
      "precision_score: \n",
      " 0.2537238071194143\n",
      "f1_score: \n",
      " 0.3978622327790973\n",
      "confusion_matrix: \n",
      " [[4996 2956]\n",
      " [  86 1005]]\n",
      "log_loss: \n",
      " 11.618856729328979\n",
      "==============================\n",
      "GaussianNB\n",
      "****Results****\n",
      "Accuracy: 84.9386%\n",
      "precision_score: \n",
      " 0.3927157561361837\n",
      "f1_score: \n",
      " 0.42141036533559895\n",
      "confusion_matrix: \n",
      " [[7185  767]\n",
      " [ 595  496]]\n",
      "log_loss: \n",
      " 5.202081913203285\n",
      "==============================\n"
     ]
    }
   ],
   "source": [
    "# Implimenting different models\n",
    "classifiers = [\n",
    "    DecisionTreeClassifier(criterion = 'gini',\n",
    "                               max_depth = 9,\n",
    "                               min_samples_leaf = 1,\n",
    "                               min_samples_split = 2),\n",
    "    RandomForestClassifier(bootstrap = True,\n",
    "                               max_depth = 15,\n",
    "                               max_features = 4, \n",
    "                               min_samples_leaf = 4, \n",
    "                               min_samples_split = 4, \n",
    "                               n_estimators = 1300),\n",
    "    XGBClassifier(cv=5, max_depth=4, n_estimators=180, njob=-1, scoring='roc_auc',\n",
    "              seed=42),\n",
    "    LogisticRegression(C=10,class_weight={1: 0.7, 0: 0.3},penalty='l1',solver='liblinear'),\n",
    "    GaussianNB(var_smoothing=0.002848035868435802)]\n",
    "\n",
    "# Logging for Visual Comparison\n",
    "log_cols=[\"Classifier\", \"Accuracy\", 'Log Loss']\n",
    "log = pd.DataFrame(columns=log_cols)\n",
    "\n",
    "for clf in classifiers:\n",
    "    clf.fit(X_train, y_train)\n",
    "    name = clf.__class__.__name__\n",
    "    \n",
    "    print(\"=\"*30)\n",
    "    print(name)\n",
    "    try:\n",
    "        print('****Results****')\n",
    "        train_predictions = clf.predict(X_test)\n",
    "        acc = accuracy_score(y_test, train_predictions)\n",
    "        print(\"Accuracy: {:.4%}\".format(acc))\n",
    "        print(\"precision_score: \\n\",precision_score(y_test, train_predictions))\n",
    "        print(\"f1_score: \\n\",f1_score(y_test, train_predictions))\n",
    "        print(\"confusion_matrix: \\n\",confusion_matrix(y_test, train_predictions))\n",
    "        print(\"log_loss: \\n\",log_loss(y_test, train_predictions))\n",
    "        log_entry = pd.DataFrame([[name, acc*100, log_loss(y_test, train_predictions)]], columns=log_cols)\n",
    "        log = log.append(log_entry)\n",
    "    except Exception as e:\n",
    "        print (e)\n",
    "    \n",
    "print(\"=\"*30)"
   ]
  },
  {
   "cell_type": "code",
   "execution_count": null,
   "id": "-7y8ealSRwi5",
   "metadata": {
    "colab": {
     "base_uri": "https://localhost:8080/",
     "height": 573
    },
    "id": "-7y8ealSRwi5",
    "outputId": "16fda854-8907-4791-efb8-98367badd5b9"
   },
   "outputs": [
    {
     "data": {
      "image/png": "[encoded data removed]",
      "text/plain": [
       "<Figure size 432x288 with 1 Axes>"
      ]
     },
     "metadata": {
      "needs_background": "light"
     },
     "output_type": "display_data"
    },
    {
     "data": {
      "image/png": "[encoded data removed]",
      "text/plain": [
       "<Figure size 432x288 with 1 Axes>"
      ]
     },
     "metadata": {
      "needs_background": "light"
     },
     "output_type": "display_data"
    }
   ],
   "source": [
    "# Comparison between Classifier Accuracy and Accuracy Percentage \n",
    "sns.set_color_codes(\"muted\")\n",
    "sns.barplot(x='Accuracy', y='Classifier', data=log, color=\"b\")\n",
    "\n",
    "plt.xlabel('Accuracy %')\n",
    "plt.title('Classifier Accuracy')\n",
    "plt.show()\n",
    "\n",
    "sns.set_color_codes(\"muted\")\n",
    "sns.barplot(x='Log Loss', y='Classifier', data=log, color=\"g\")\n",
    "\n",
    "plt.xlabel('Log Loss')\n",
    "plt.title('Classifier Log Loss')\n",
    "plt.show()"
   ]
  },
  {
   "cell_type": "markdown",
   "id": "GDwgzGb1Rw3X",
   "metadata": {
    "id": "GDwgzGb1Rw3X"
   },
   "source": [
    "# HTML"
   ]
  },
  {
   "cell_type": "code",
   "execution_count": null,
   "id": "e8ee39c4",
   "metadata": {
    "id": "e8ee39c4"
   },
   "outputs": [],
   "source": [
    "del(X_train1['job'])\n",
    "del(X_train1['marital'])\n",
    "del(X_train1['education'])\n",
    "del(X_train1['default'])\n",
    "del(X_train1['housing'])\n",
    "del(X_train1['campaign'])\n",
    "del(X_train1['pdays'])\n",
    "del(X_train1['previous'])\n",
    "del(X_train1['loan'])"
   ]
  },
  {
   "cell_type": "code",
   "execution_count": null,
   "id": "dcb81c50",
   "metadata": {
    "id": "dcb81c50"
   },
   "outputs": [],
   "source": [
    "del(X_test1['job'])\n",
    "del(X_test1['marital'])\n",
    "del(X_test1['education'])\n",
    "del(X_test1['default'])\n",
    "del(X_test1['housing'])\n",
    "del(X_test1['campaign'])\n",
    "del(X_test1['pdays'])\n",
    "del(X_test1['previous'])\n",
    "del(X_test1['loan'])"
   ]
  },
  {
   "cell_type": "code",
   "execution_count": null,
   "id": "98bc41eb",
   "metadata": {
    "id": "98bc41eb"
   },
   "outputs": [],
   "source": [
    "y_predict= rfc.predict(X_test1)"
   ]
  },
  {
   "cell_type": "code",
   "execution_count": null,
   "id": "9584ec1a",
   "metadata": {
    "id": "9584ec1a"
   },
   "outputs": [],
   "source": [
    "# Using pickle to link with the html page\n",
    "import pickle\n",
    "pickle.dump(rfc,open('output.pkl','wb'))\n",
    "model=pickle.load(open('output.pkl','rb'))"
   ]
  },
  {
   "cell_type": "code",
   "execution_count": null,
   "id": "a5b06cc0",
   "metadata": {
    "id": "a5b06cc0"
   },
   "outputs": [],
   "source": []
  },
  {
   "cell_type": "code",
   "execution_count": null,
   "id": "864bacda",
   "metadata": {
    "id": "864bacda"
   },
   "outputs": [],
   "source": []
  },
  {
   "cell_type": "markdown",
   "id": "kLOHbdfpg0fh",
   "metadata": {
    "id": "kLOHbdfpg0fh"
   },
   "source": [
    "# THE END"
   ]
  },
  {
   "cell_type": "markdown",
   "id": "34b8e21f",
   "metadata": {
    "id": "34b8e21f"
   },
   "source": [
    "## 5. HTML Page"
   ]
  },
  {
   "cell_type": "markdown",
   "id": "2cedcbaa",
   "metadata": {
    "id": "2cedcbaa"
   },
   "source": [
    "The below html page can take values like:\n",
    "1. \"age\" : Any values\n",
    "\n",
    "2. \"job\" : {\n",
    "            'unemployed'    :0,\n",
    "            'unknown'       :1,\n",
    "            'student'       :2,\n",
    "            'housemaid'     :3,\n",
    "            'blue-collar'   :4,\n",
    "            'technician'    :5,\n",
    "            'services'      :6,\n",
    "            'retired'       :7,\n",
    "            'admin'         :8,\n",
    "            'self-employed' :9,\n",
    "            'entrepreneur'  :10,\n",
    "            'management'    :11\n",
    "           } \n",
    "            \n",
    "3. \"marital\": {\n",
    "               'single'   :0,\n",
    "               'divorced' :1,\n",
    "               'married'  :2\n",
    "              }\n",
    "               \n",
    "4. \"education\" : {\n",
    "                  'unknown'   :0,\n",
    "                  'primary'   :1,\n",
    "                  'secondary' :2,\n",
    "                  'tertiary'  :3\n",
    "                 }\n",
    "                  \n",
    "5. \"default\" : { \n",
    "                 'yes' : 1,\n",
    "                 'no'  : 0\n",
    "               }\n",
    "                 \n",
    "6. \"balance\" : Any Values\n",
    "\n",
    "7. \"housing\" : { \n",
    "                 'yes' : 1,\n",
    "                 'no'  : 0\n",
    "               }\n",
    "               \n",
    "8. \"loan\" : { \n",
    "                 'yes' : 1,\n",
    "                 'no'  : 0\n",
    "            }\n",
    "   \n",
    "9. \"duration\" : Any values (in sec)\n",
    "\n",
    "10. \"campaign\" : Any value\n",
    "\n",
    "11. \"pdays\" : Any value\n",
    "\n",
    "12. \"previous\" : Any value\n",
    "\n",
    "13. \"poutcome\" : {\n",
    "                   'failure'  :0,\n",
    "                   'other'    :1,\n",
    "                   'unknown'  :2,\n",
    "                   'success'  :3\n",
    "                   \n",
    "                  } \t"
   ]
  },
  {
   "cell_type": "code",
   "execution_count": null,
   "id": "ab925641",
   "metadata": {
    "id": "ab925641"
   },
   "outputs": [],
   "source": [
    "from IPython.display import Image\n",
    "Image(\"Desktop/2.png\")"
   ]
  },
  {
   "cell_type": "code",
   "execution_count": null,
   "id": "02174687",
   "metadata": {
    "id": "02174687"
   },
   "outputs": [],
   "source": [
    "from IPython.display import Image\n",
    "Image(\"Desktop/1.png\")"
   ]
  },
  {
   "cell_type": "code",
   "execution_count": null,
   "id": "b50f1a51",
   "metadata": {
    "id": "b50f1a51"
   },
   "outputs": [],
   "source": [
    "from IPython.display import Image\n",
    "Image(\"Desktop/0.png\")"
   ]
  }
 ],
 "metadata": {
  "colab": {
   "name": "Copy of SML_Project(editting).ipynb",
   "provenance": []
  },
  "kernelspec": {
   "display_name": "Python 3",
   "language": "python",
   "name": "python3"
  },
  "language_info": {
   "codemirror_mode": {
    "name": "ipython",
    "version": 3
   },
   "file_extension": ".py",
   "mimetype": "text/x-python",
   "name": "python",
   "nbconvert_exporter": "python",
   "pygments_lexer": "ipython3",
   "version": "3.8.8"
  }
 },
 "nbformat": 4,
 "nbformat_minor": 5
}
